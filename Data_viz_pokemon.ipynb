{
 "cells": [
  {
   "cell_type": "code",
   "execution_count": 2,
   "metadata": {},
   "outputs": [
    {
     "data": {
      "text/html": [
       "<div>\n",
       "<style scoped>\n",
       "    .dataframe tbody tr th:only-of-type {\n",
       "        vertical-align: middle;\n",
       "    }\n",
       "\n",
       "    .dataframe tbody tr th {\n",
       "        vertical-align: top;\n",
       "    }\n",
       "\n",
       "    .dataframe thead th {\n",
       "        text-align: right;\n",
       "    }\n",
       "</style>\n",
       "<table border=\"1\" class=\"dataframe\">\n",
       "  <thead>\n",
       "    <tr style=\"text-align: right;\">\n",
       "      <th></th>\n",
       "      <th>abilities</th>\n",
       "      <th>against_bug</th>\n",
       "      <th>against_dark</th>\n",
       "      <th>against_dragon</th>\n",
       "      <th>against_electric</th>\n",
       "      <th>against_fairy</th>\n",
       "      <th>against_fight</th>\n",
       "      <th>against_fire</th>\n",
       "      <th>against_flying</th>\n",
       "      <th>against_ghost</th>\n",
       "      <th>...</th>\n",
       "      <th>percentage_male</th>\n",
       "      <th>pokedex_number</th>\n",
       "      <th>sp_attack</th>\n",
       "      <th>sp_defense</th>\n",
       "      <th>speed</th>\n",
       "      <th>type1</th>\n",
       "      <th>type2</th>\n",
       "      <th>weight_kg</th>\n",
       "      <th>generation</th>\n",
       "      <th>is_legendary</th>\n",
       "    </tr>\n",
       "  </thead>\n",
       "  <tbody>\n",
       "    <tr>\n",
       "      <th>0</th>\n",
       "      <td>['Overgrow', 'Chlorophyll']</td>\n",
       "      <td>1.0</td>\n",
       "      <td>1.0</td>\n",
       "      <td>1.0</td>\n",
       "      <td>0.5</td>\n",
       "      <td>0.5</td>\n",
       "      <td>0.5</td>\n",
       "      <td>2.0</td>\n",
       "      <td>2.0</td>\n",
       "      <td>1.0</td>\n",
       "      <td>...</td>\n",
       "      <td>88.1</td>\n",
       "      <td>1</td>\n",
       "      <td>65</td>\n",
       "      <td>65</td>\n",
       "      <td>45</td>\n",
       "      <td>grass</td>\n",
       "      <td>poison</td>\n",
       "      <td>6.9</td>\n",
       "      <td>1</td>\n",
       "      <td>0</td>\n",
       "    </tr>\n",
       "    <tr>\n",
       "      <th>1</th>\n",
       "      <td>['Overgrow', 'Chlorophyll']</td>\n",
       "      <td>1.0</td>\n",
       "      <td>1.0</td>\n",
       "      <td>1.0</td>\n",
       "      <td>0.5</td>\n",
       "      <td>0.5</td>\n",
       "      <td>0.5</td>\n",
       "      <td>2.0</td>\n",
       "      <td>2.0</td>\n",
       "      <td>1.0</td>\n",
       "      <td>...</td>\n",
       "      <td>88.1</td>\n",
       "      <td>2</td>\n",
       "      <td>80</td>\n",
       "      <td>80</td>\n",
       "      <td>60</td>\n",
       "      <td>grass</td>\n",
       "      <td>poison</td>\n",
       "      <td>13.0</td>\n",
       "      <td>1</td>\n",
       "      <td>0</td>\n",
       "    </tr>\n",
       "    <tr>\n",
       "      <th>2</th>\n",
       "      <td>['Overgrow', 'Chlorophyll']</td>\n",
       "      <td>1.0</td>\n",
       "      <td>1.0</td>\n",
       "      <td>1.0</td>\n",
       "      <td>0.5</td>\n",
       "      <td>0.5</td>\n",
       "      <td>0.5</td>\n",
       "      <td>2.0</td>\n",
       "      <td>2.0</td>\n",
       "      <td>1.0</td>\n",
       "      <td>...</td>\n",
       "      <td>88.1</td>\n",
       "      <td>3</td>\n",
       "      <td>122</td>\n",
       "      <td>120</td>\n",
       "      <td>80</td>\n",
       "      <td>grass</td>\n",
       "      <td>poison</td>\n",
       "      <td>100.0</td>\n",
       "      <td>1</td>\n",
       "      <td>0</td>\n",
       "    </tr>\n",
       "    <tr>\n",
       "      <th>3</th>\n",
       "      <td>['Blaze', 'Solar Power']</td>\n",
       "      <td>0.5</td>\n",
       "      <td>1.0</td>\n",
       "      <td>1.0</td>\n",
       "      <td>1.0</td>\n",
       "      <td>0.5</td>\n",
       "      <td>1.0</td>\n",
       "      <td>0.5</td>\n",
       "      <td>1.0</td>\n",
       "      <td>1.0</td>\n",
       "      <td>...</td>\n",
       "      <td>88.1</td>\n",
       "      <td>4</td>\n",
       "      <td>60</td>\n",
       "      <td>50</td>\n",
       "      <td>65</td>\n",
       "      <td>fire</td>\n",
       "      <td>NaN</td>\n",
       "      <td>8.5</td>\n",
       "      <td>1</td>\n",
       "      <td>0</td>\n",
       "    </tr>\n",
       "    <tr>\n",
       "      <th>4</th>\n",
       "      <td>['Blaze', 'Solar Power']</td>\n",
       "      <td>0.5</td>\n",
       "      <td>1.0</td>\n",
       "      <td>1.0</td>\n",
       "      <td>1.0</td>\n",
       "      <td>0.5</td>\n",
       "      <td>1.0</td>\n",
       "      <td>0.5</td>\n",
       "      <td>1.0</td>\n",
       "      <td>1.0</td>\n",
       "      <td>...</td>\n",
       "      <td>88.1</td>\n",
       "      <td>5</td>\n",
       "      <td>80</td>\n",
       "      <td>65</td>\n",
       "      <td>80</td>\n",
       "      <td>fire</td>\n",
       "      <td>NaN</td>\n",
       "      <td>19.0</td>\n",
       "      <td>1</td>\n",
       "      <td>0</td>\n",
       "    </tr>\n",
       "  </tbody>\n",
       "</table>\n",
       "<p>5 rows × 41 columns</p>\n",
       "</div>"
      ],
      "text/plain": [
       "                     abilities  against_bug  against_dark  against_dragon  \\\n",
       "0  ['Overgrow', 'Chlorophyll']          1.0           1.0             1.0   \n",
       "1  ['Overgrow', 'Chlorophyll']          1.0           1.0             1.0   \n",
       "2  ['Overgrow', 'Chlorophyll']          1.0           1.0             1.0   \n",
       "3     ['Blaze', 'Solar Power']          0.5           1.0             1.0   \n",
       "4     ['Blaze', 'Solar Power']          0.5           1.0             1.0   \n",
       "\n",
       "   against_electric  against_fairy  against_fight  against_fire  \\\n",
       "0               0.5            0.5            0.5           2.0   \n",
       "1               0.5            0.5            0.5           2.0   \n",
       "2               0.5            0.5            0.5           2.0   \n",
       "3               1.0            0.5            1.0           0.5   \n",
       "4               1.0            0.5            1.0           0.5   \n",
       "\n",
       "   against_flying  against_ghost  ...  percentage_male  pokedex_number  \\\n",
       "0             2.0            1.0  ...             88.1               1   \n",
       "1             2.0            1.0  ...             88.1               2   \n",
       "2             2.0            1.0  ...             88.1               3   \n",
       "3             1.0            1.0  ...             88.1               4   \n",
       "4             1.0            1.0  ...             88.1               5   \n",
       "\n",
       "   sp_attack  sp_defense  speed  type1   type2  weight_kg  generation  \\\n",
       "0         65          65     45  grass  poison        6.9           1   \n",
       "1         80          80     60  grass  poison       13.0           1   \n",
       "2        122         120     80  grass  poison      100.0           1   \n",
       "3         60          50     65   fire     NaN        8.5           1   \n",
       "4         80          65     80   fire     NaN       19.0           1   \n",
       "\n",
       "   is_legendary  \n",
       "0             0  \n",
       "1             0  \n",
       "2             0  \n",
       "3             0  \n",
       "4             0  \n",
       "\n",
       "[5 rows x 41 columns]"
      ]
     },
     "execution_count": 2,
     "metadata": {},
     "output_type": "execute_result"
    }
   ],
   "source": [
    "import pandas as pd\n",
    "df = pd.read_csv('https://raw.githubusercontent.com/anisayari/Youtube-apprendre-python-intelligence-artificielle/master/%238%20-%20Data%20Visualisation%20(Seaborn%2C%20Plotly)/pokemon.csv')\n",
    "df.head()"
   ]
  },
  {
   "cell_type": "code",
   "execution_count": 3,
   "metadata": {},
   "outputs": [
    {
     "name": "stdout",
     "output_type": "stream",
     "text": [
      "<class 'pandas.core.series.Series'>\n",
      "RangeIndex: 801 entries, 0 to 800\n",
      "Series name: capture_rate\n",
      "Non-Null Count  Dtype \n",
      "--------------  ----- \n",
      "801 non-null    object\n",
      "dtypes: object(1)\n",
      "memory usage: 6.4+ KB\n"
     ]
    }
   ],
   "source": [
    "\n",
    "df['capture_rate'].info()"
   ]
  },
  {
   "cell_type": "code",
   "execution_count": 4,
   "metadata": {},
   "outputs": [
    {
     "data": {
      "text/plain": [
       "(801, 41)"
      ]
     },
     "execution_count": 4,
     "metadata": {},
     "output_type": "execute_result"
    }
   ],
   "source": [
    "df.shape"
   ]
  },
  {
   "cell_type": "code",
   "execution_count": 5,
   "metadata": {},
   "outputs": [
    {
     "data": {
      "text/plain": [
       "45                          250\n",
       "190                          75\n",
       "255                          69\n",
       "75                           61\n",
       "3                            58\n",
       "120                          55\n",
       "60                           50\n",
       "90                           38\n",
       "30                           20\n",
       "200                          19\n",
       "225                          15\n",
       "25                           13\n",
       "180                          11\n",
       "50                            7\n",
       "150                           7\n",
       "235                           7\n",
       "100                           6\n",
       "140                           6\n",
       "127                           5\n",
       "70                            4\n",
       "65                            3\n",
       "125                           3\n",
       "55                            3\n",
       "170                           2\n",
       "130                           2\n",
       "15                            2\n",
       "220                           2\n",
       "80                            2\n",
       "205                           1\n",
       "155                           1\n",
       "145                           1\n",
       "35                            1\n",
       "160                           1\n",
       "30 (Meteorite)255 (Core)      1\n",
       "Name: capture_rate, dtype: int64"
      ]
     },
     "execution_count": 5,
     "metadata": {},
     "output_type": "execute_result"
    }
   ],
   "source": [
    "df['capture_rate'].value_counts()"
   ]
  },
  {
   "cell_type": "code",
   "execution_count": 6,
   "metadata": {},
   "outputs": [
    {
     "data": {
      "text/plain": [
       "True"
      ]
     },
     "execution_count": 6,
     "metadata": {},
     "output_type": "execute_result"
    }
   ],
   "source": [
    "df[df['capture_rate']=='30 (Meteorite)255 (Core)'] #Affiche la ligne du pokemon avec ce critère\n",
    "df.loc[773,'capture_rate'] = 30\n",
    "df[df['name']=='Minior'] #np.where\n",
    "df.loc[773,'capture_rate'] == 30\n",
    "\n"
   ]
  },
  {
   "cell_type": "code",
   "execution_count": 7,
   "metadata": {},
   "outputs": [
    {
     "data": {
      "text/html": [
       "<div>\n",
       "<style scoped>\n",
       "    .dataframe tbody tr th:only-of-type {\n",
       "        vertical-align: middle;\n",
       "    }\n",
       "\n",
       "    .dataframe tbody tr th {\n",
       "        vertical-align: top;\n",
       "    }\n",
       "\n",
       "    .dataframe thead th {\n",
       "        text-align: right;\n",
       "    }\n",
       "</style>\n",
       "<table border=\"1\" class=\"dataframe\">\n",
       "  <thead>\n",
       "    <tr style=\"text-align: right;\">\n",
       "      <th></th>\n",
       "      <th>against_bug</th>\n",
       "      <th>against_dark</th>\n",
       "      <th>against_dragon</th>\n",
       "      <th>against_electric</th>\n",
       "      <th>against_fairy</th>\n",
       "      <th>against_fight</th>\n",
       "      <th>against_fire</th>\n",
       "      <th>against_flying</th>\n",
       "      <th>against_ghost</th>\n",
       "      <th>against_grass</th>\n",
       "      <th>...</th>\n",
       "      <th>height_m</th>\n",
       "      <th>hp</th>\n",
       "      <th>percentage_male</th>\n",
       "      <th>pokedex_number</th>\n",
       "      <th>sp_attack</th>\n",
       "      <th>sp_defense</th>\n",
       "      <th>speed</th>\n",
       "      <th>weight_kg</th>\n",
       "      <th>generation</th>\n",
       "      <th>is_legendary</th>\n",
       "    </tr>\n",
       "  </thead>\n",
       "  <tbody>\n",
       "    <tr>\n",
       "      <th>count</th>\n",
       "      <td>801.000000</td>\n",
       "      <td>801.000000</td>\n",
       "      <td>801.000000</td>\n",
       "      <td>801.000000</td>\n",
       "      <td>801.000000</td>\n",
       "      <td>801.000000</td>\n",
       "      <td>801.000000</td>\n",
       "      <td>801.000000</td>\n",
       "      <td>801.000000</td>\n",
       "      <td>801.000000</td>\n",
       "      <td>...</td>\n",
       "      <td>781.000000</td>\n",
       "      <td>801.000000</td>\n",
       "      <td>703.000000</td>\n",
       "      <td>801.000000</td>\n",
       "      <td>801.000000</td>\n",
       "      <td>801.000000</td>\n",
       "      <td>801.000000</td>\n",
       "      <td>781.000000</td>\n",
       "      <td>801.000000</td>\n",
       "      <td>801.000000</td>\n",
       "    </tr>\n",
       "    <tr>\n",
       "      <th>mean</th>\n",
       "      <td>0.996255</td>\n",
       "      <td>1.057116</td>\n",
       "      <td>0.968789</td>\n",
       "      <td>1.073970</td>\n",
       "      <td>1.068976</td>\n",
       "      <td>1.065543</td>\n",
       "      <td>1.135456</td>\n",
       "      <td>1.192884</td>\n",
       "      <td>0.985019</td>\n",
       "      <td>1.034020</td>\n",
       "      <td>...</td>\n",
       "      <td>1.163892</td>\n",
       "      <td>68.958801</td>\n",
       "      <td>55.155761</td>\n",
       "      <td>401.000000</td>\n",
       "      <td>71.305868</td>\n",
       "      <td>70.911361</td>\n",
       "      <td>66.334582</td>\n",
       "      <td>61.378105</td>\n",
       "      <td>3.690387</td>\n",
       "      <td>0.087391</td>\n",
       "    </tr>\n",
       "    <tr>\n",
       "      <th>std</th>\n",
       "      <td>0.597248</td>\n",
       "      <td>0.438142</td>\n",
       "      <td>0.353058</td>\n",
       "      <td>0.654962</td>\n",
       "      <td>0.522167</td>\n",
       "      <td>0.717251</td>\n",
       "      <td>0.691853</td>\n",
       "      <td>0.604488</td>\n",
       "      <td>0.558256</td>\n",
       "      <td>0.788896</td>\n",
       "      <td>...</td>\n",
       "      <td>1.080326</td>\n",
       "      <td>26.576015</td>\n",
       "      <td>20.261623</td>\n",
       "      <td>231.373075</td>\n",
       "      <td>32.353826</td>\n",
       "      <td>27.942501</td>\n",
       "      <td>28.907662</td>\n",
       "      <td>109.354766</td>\n",
       "      <td>1.930420</td>\n",
       "      <td>0.282583</td>\n",
       "    </tr>\n",
       "    <tr>\n",
       "      <th>min</th>\n",
       "      <td>0.250000</td>\n",
       "      <td>0.250000</td>\n",
       "      <td>0.000000</td>\n",
       "      <td>0.000000</td>\n",
       "      <td>0.250000</td>\n",
       "      <td>0.000000</td>\n",
       "      <td>0.250000</td>\n",
       "      <td>0.250000</td>\n",
       "      <td>0.000000</td>\n",
       "      <td>0.250000</td>\n",
       "      <td>...</td>\n",
       "      <td>0.100000</td>\n",
       "      <td>1.000000</td>\n",
       "      <td>0.000000</td>\n",
       "      <td>1.000000</td>\n",
       "      <td>10.000000</td>\n",
       "      <td>20.000000</td>\n",
       "      <td>5.000000</td>\n",
       "      <td>0.100000</td>\n",
       "      <td>1.000000</td>\n",
       "      <td>0.000000</td>\n",
       "    </tr>\n",
       "    <tr>\n",
       "      <th>25%</th>\n",
       "      <td>0.500000</td>\n",
       "      <td>1.000000</td>\n",
       "      <td>1.000000</td>\n",
       "      <td>0.500000</td>\n",
       "      <td>1.000000</td>\n",
       "      <td>0.500000</td>\n",
       "      <td>0.500000</td>\n",
       "      <td>1.000000</td>\n",
       "      <td>1.000000</td>\n",
       "      <td>0.500000</td>\n",
       "      <td>...</td>\n",
       "      <td>0.600000</td>\n",
       "      <td>50.000000</td>\n",
       "      <td>50.000000</td>\n",
       "      <td>201.000000</td>\n",
       "      <td>45.000000</td>\n",
       "      <td>50.000000</td>\n",
       "      <td>45.000000</td>\n",
       "      <td>9.000000</td>\n",
       "      <td>2.000000</td>\n",
       "      <td>0.000000</td>\n",
       "    </tr>\n",
       "    <tr>\n",
       "      <th>50%</th>\n",
       "      <td>1.000000</td>\n",
       "      <td>1.000000</td>\n",
       "      <td>1.000000</td>\n",
       "      <td>1.000000</td>\n",
       "      <td>1.000000</td>\n",
       "      <td>1.000000</td>\n",
       "      <td>1.000000</td>\n",
       "      <td>1.000000</td>\n",
       "      <td>1.000000</td>\n",
       "      <td>1.000000</td>\n",
       "      <td>...</td>\n",
       "      <td>1.000000</td>\n",
       "      <td>65.000000</td>\n",
       "      <td>50.000000</td>\n",
       "      <td>401.000000</td>\n",
       "      <td>65.000000</td>\n",
       "      <td>66.000000</td>\n",
       "      <td>65.000000</td>\n",
       "      <td>27.300000</td>\n",
       "      <td>4.000000</td>\n",
       "      <td>0.000000</td>\n",
       "    </tr>\n",
       "    <tr>\n",
       "      <th>75%</th>\n",
       "      <td>1.000000</td>\n",
       "      <td>1.000000</td>\n",
       "      <td>1.000000</td>\n",
       "      <td>1.000000</td>\n",
       "      <td>1.000000</td>\n",
       "      <td>1.000000</td>\n",
       "      <td>2.000000</td>\n",
       "      <td>1.000000</td>\n",
       "      <td>1.000000</td>\n",
       "      <td>1.000000</td>\n",
       "      <td>...</td>\n",
       "      <td>1.500000</td>\n",
       "      <td>80.000000</td>\n",
       "      <td>50.000000</td>\n",
       "      <td>601.000000</td>\n",
       "      <td>91.000000</td>\n",
       "      <td>90.000000</td>\n",
       "      <td>85.000000</td>\n",
       "      <td>64.800000</td>\n",
       "      <td>5.000000</td>\n",
       "      <td>0.000000</td>\n",
       "    </tr>\n",
       "    <tr>\n",
       "      <th>max</th>\n",
       "      <td>4.000000</td>\n",
       "      <td>4.000000</td>\n",
       "      <td>2.000000</td>\n",
       "      <td>4.000000</td>\n",
       "      <td>4.000000</td>\n",
       "      <td>4.000000</td>\n",
       "      <td>4.000000</td>\n",
       "      <td>4.000000</td>\n",
       "      <td>4.000000</td>\n",
       "      <td>4.000000</td>\n",
       "      <td>...</td>\n",
       "      <td>14.500000</td>\n",
       "      <td>255.000000</td>\n",
       "      <td>100.000000</td>\n",
       "      <td>801.000000</td>\n",
       "      <td>194.000000</td>\n",
       "      <td>230.000000</td>\n",
       "      <td>180.000000</td>\n",
       "      <td>999.900000</td>\n",
       "      <td>7.000000</td>\n",
       "      <td>1.000000</td>\n",
       "    </tr>\n",
       "  </tbody>\n",
       "</table>\n",
       "<p>8 rows × 34 columns</p>\n",
       "</div>"
      ],
      "text/plain": [
       "       against_bug  against_dark  against_dragon  against_electric  \\\n",
       "count   801.000000    801.000000      801.000000        801.000000   \n",
       "mean      0.996255      1.057116        0.968789          1.073970   \n",
       "std       0.597248      0.438142        0.353058          0.654962   \n",
       "min       0.250000      0.250000        0.000000          0.000000   \n",
       "25%       0.500000      1.000000        1.000000          0.500000   \n",
       "50%       1.000000      1.000000        1.000000          1.000000   \n",
       "75%       1.000000      1.000000        1.000000          1.000000   \n",
       "max       4.000000      4.000000        2.000000          4.000000   \n",
       "\n",
       "       against_fairy  against_fight  against_fire  against_flying  \\\n",
       "count     801.000000     801.000000    801.000000      801.000000   \n",
       "mean        1.068976       1.065543      1.135456        1.192884   \n",
       "std         0.522167       0.717251      0.691853        0.604488   \n",
       "min         0.250000       0.000000      0.250000        0.250000   \n",
       "25%         1.000000       0.500000      0.500000        1.000000   \n",
       "50%         1.000000       1.000000      1.000000        1.000000   \n",
       "75%         1.000000       1.000000      2.000000        1.000000   \n",
       "max         4.000000       4.000000      4.000000        4.000000   \n",
       "\n",
       "       against_ghost  against_grass  ...    height_m          hp  \\\n",
       "count     801.000000     801.000000  ...  781.000000  801.000000   \n",
       "mean        0.985019       1.034020  ...    1.163892   68.958801   \n",
       "std         0.558256       0.788896  ...    1.080326   26.576015   \n",
       "min         0.000000       0.250000  ...    0.100000    1.000000   \n",
       "25%         1.000000       0.500000  ...    0.600000   50.000000   \n",
       "50%         1.000000       1.000000  ...    1.000000   65.000000   \n",
       "75%         1.000000       1.000000  ...    1.500000   80.000000   \n",
       "max         4.000000       4.000000  ...   14.500000  255.000000   \n",
       "\n",
       "       percentage_male  pokedex_number   sp_attack  sp_defense       speed  \\\n",
       "count       703.000000      801.000000  801.000000  801.000000  801.000000   \n",
       "mean         55.155761      401.000000   71.305868   70.911361   66.334582   \n",
       "std          20.261623      231.373075   32.353826   27.942501   28.907662   \n",
       "min           0.000000        1.000000   10.000000   20.000000    5.000000   \n",
       "25%          50.000000      201.000000   45.000000   50.000000   45.000000   \n",
       "50%          50.000000      401.000000   65.000000   66.000000   65.000000   \n",
       "75%          50.000000      601.000000   91.000000   90.000000   85.000000   \n",
       "max         100.000000      801.000000  194.000000  230.000000  180.000000   \n",
       "\n",
       "        weight_kg  generation  is_legendary  \n",
       "count  781.000000  801.000000    801.000000  \n",
       "mean    61.378105    3.690387      0.087391  \n",
       "std    109.354766    1.930420      0.282583  \n",
       "min      0.100000    1.000000      0.000000  \n",
       "25%      9.000000    2.000000      0.000000  \n",
       "50%     27.300000    4.000000      0.000000  \n",
       "75%     64.800000    5.000000      0.000000  \n",
       "max    999.900000    7.000000      1.000000  \n",
       "\n",
       "[8 rows x 34 columns]"
      ]
     },
     "execution_count": 7,
     "metadata": {},
     "output_type": "execute_result"
    }
   ],
   "source": [
    "df.describe()"
   ]
  },
  {
   "cell_type": "code",
   "execution_count": 8,
   "metadata": {},
   "outputs": [
    {
     "data": {
      "text/html": [
       "<div>\n",
       "<style scoped>\n",
       "    .dataframe tbody tr th:only-of-type {\n",
       "        vertical-align: middle;\n",
       "    }\n",
       "\n",
       "    .dataframe tbody tr th {\n",
       "        vertical-align: top;\n",
       "    }\n",
       "\n",
       "    .dataframe thead th {\n",
       "        text-align: right;\n",
       "    }\n",
       "</style>\n",
       "<table border=\"1\" class=\"dataframe\">\n",
       "  <thead>\n",
       "    <tr style=\"text-align: right;\">\n",
       "      <th></th>\n",
       "      <th>ABILITIES</th>\n",
       "      <th>AGAINST_BUG</th>\n",
       "      <th>AGAINST_DARK</th>\n",
       "      <th>AGAINST_DRAGON</th>\n",
       "      <th>AGAINST_ELECTRIC</th>\n",
       "      <th>AGAINST_FAIRY</th>\n",
       "      <th>AGAINST_FIGHT</th>\n",
       "      <th>AGAINST_FIRE</th>\n",
       "      <th>AGAINST_FLYING</th>\n",
       "      <th>AGAINST_GHOST</th>\n",
       "      <th>...</th>\n",
       "      <th>PERCENTAGE_MALE</th>\n",
       "      <th>POKEDEX_NUMBER</th>\n",
       "      <th>SP_ATTACK</th>\n",
       "      <th>SP_DEFENSE</th>\n",
       "      <th>SPEED</th>\n",
       "      <th>TYPE1</th>\n",
       "      <th>TYPE2</th>\n",
       "      <th>WEIGHT_KG</th>\n",
       "      <th>GENERATION</th>\n",
       "      <th>IS_LEGENDARY</th>\n",
       "    </tr>\n",
       "  </thead>\n",
       "  <tbody>\n",
       "    <tr>\n",
       "      <th>0</th>\n",
       "      <td>['Overgrow', 'Chlorophyll']</td>\n",
       "      <td>1.0</td>\n",
       "      <td>1.0</td>\n",
       "      <td>1.0</td>\n",
       "      <td>0.5</td>\n",
       "      <td>0.5</td>\n",
       "      <td>0.5</td>\n",
       "      <td>2.0</td>\n",
       "      <td>2.0</td>\n",
       "      <td>1.0</td>\n",
       "      <td>...</td>\n",
       "      <td>88.1</td>\n",
       "      <td>1</td>\n",
       "      <td>65</td>\n",
       "      <td>65</td>\n",
       "      <td>45</td>\n",
       "      <td>Grass</td>\n",
       "      <td>Poison</td>\n",
       "      <td>6.9</td>\n",
       "      <td>1</td>\n",
       "      <td>0</td>\n",
       "    </tr>\n",
       "    <tr>\n",
       "      <th>1</th>\n",
       "      <td>['Overgrow', 'Chlorophyll']</td>\n",
       "      <td>1.0</td>\n",
       "      <td>1.0</td>\n",
       "      <td>1.0</td>\n",
       "      <td>0.5</td>\n",
       "      <td>0.5</td>\n",
       "      <td>0.5</td>\n",
       "      <td>2.0</td>\n",
       "      <td>2.0</td>\n",
       "      <td>1.0</td>\n",
       "      <td>...</td>\n",
       "      <td>88.1</td>\n",
       "      <td>2</td>\n",
       "      <td>80</td>\n",
       "      <td>80</td>\n",
       "      <td>60</td>\n",
       "      <td>Grass</td>\n",
       "      <td>Poison</td>\n",
       "      <td>13.0</td>\n",
       "      <td>1</td>\n",
       "      <td>0</td>\n",
       "    </tr>\n",
       "    <tr>\n",
       "      <th>2</th>\n",
       "      <td>['Overgrow', 'Chlorophyll']</td>\n",
       "      <td>1.0</td>\n",
       "      <td>1.0</td>\n",
       "      <td>1.0</td>\n",
       "      <td>0.5</td>\n",
       "      <td>0.5</td>\n",
       "      <td>0.5</td>\n",
       "      <td>2.0</td>\n",
       "      <td>2.0</td>\n",
       "      <td>1.0</td>\n",
       "      <td>...</td>\n",
       "      <td>88.1</td>\n",
       "      <td>3</td>\n",
       "      <td>122</td>\n",
       "      <td>120</td>\n",
       "      <td>80</td>\n",
       "      <td>Grass</td>\n",
       "      <td>Poison</td>\n",
       "      <td>100.0</td>\n",
       "      <td>1</td>\n",
       "      <td>0</td>\n",
       "    </tr>\n",
       "    <tr>\n",
       "      <th>3</th>\n",
       "      <td>['Blaze', 'Solar Power']</td>\n",
       "      <td>0.5</td>\n",
       "      <td>1.0</td>\n",
       "      <td>1.0</td>\n",
       "      <td>1.0</td>\n",
       "      <td>0.5</td>\n",
       "      <td>1.0</td>\n",
       "      <td>0.5</td>\n",
       "      <td>1.0</td>\n",
       "      <td>1.0</td>\n",
       "      <td>...</td>\n",
       "      <td>88.1</td>\n",
       "      <td>4</td>\n",
       "      <td>60</td>\n",
       "      <td>50</td>\n",
       "      <td>65</td>\n",
       "      <td>Fire</td>\n",
       "      <td>None</td>\n",
       "      <td>8.5</td>\n",
       "      <td>1</td>\n",
       "      <td>0</td>\n",
       "    </tr>\n",
       "    <tr>\n",
       "      <th>4</th>\n",
       "      <td>['Blaze', 'Solar Power']</td>\n",
       "      <td>0.5</td>\n",
       "      <td>1.0</td>\n",
       "      <td>1.0</td>\n",
       "      <td>1.0</td>\n",
       "      <td>0.5</td>\n",
       "      <td>1.0</td>\n",
       "      <td>0.5</td>\n",
       "      <td>1.0</td>\n",
       "      <td>1.0</td>\n",
       "      <td>...</td>\n",
       "      <td>88.1</td>\n",
       "      <td>5</td>\n",
       "      <td>80</td>\n",
       "      <td>65</td>\n",
       "      <td>80</td>\n",
       "      <td>Fire</td>\n",
       "      <td>None</td>\n",
       "      <td>19.0</td>\n",
       "      <td>1</td>\n",
       "      <td>0</td>\n",
       "    </tr>\n",
       "  </tbody>\n",
       "</table>\n",
       "<p>5 rows × 41 columns</p>\n",
       "</div>"
      ],
      "text/plain": [
       "                     ABILITIES  AGAINST_BUG  AGAINST_DARK  AGAINST_DRAGON  \\\n",
       "0  ['Overgrow', 'Chlorophyll']          1.0           1.0             1.0   \n",
       "1  ['Overgrow', 'Chlorophyll']          1.0           1.0             1.0   \n",
       "2  ['Overgrow', 'Chlorophyll']          1.0           1.0             1.0   \n",
       "3     ['Blaze', 'Solar Power']          0.5           1.0             1.0   \n",
       "4     ['Blaze', 'Solar Power']          0.5           1.0             1.0   \n",
       "\n",
       "   AGAINST_ELECTRIC  AGAINST_FAIRY  AGAINST_FIGHT  AGAINST_FIRE  \\\n",
       "0               0.5            0.5            0.5           2.0   \n",
       "1               0.5            0.5            0.5           2.0   \n",
       "2               0.5            0.5            0.5           2.0   \n",
       "3               1.0            0.5            1.0           0.5   \n",
       "4               1.0            0.5            1.0           0.5   \n",
       "\n",
       "   AGAINST_FLYING  AGAINST_GHOST  ...  PERCENTAGE_MALE  POKEDEX_NUMBER  \\\n",
       "0             2.0            1.0  ...             88.1               1   \n",
       "1             2.0            1.0  ...             88.1               2   \n",
       "2             2.0            1.0  ...             88.1               3   \n",
       "3             1.0            1.0  ...             88.1               4   \n",
       "4             1.0            1.0  ...             88.1               5   \n",
       "\n",
       "   SP_ATTACK  SP_DEFENSE  SPEED  TYPE1   TYPE2  WEIGHT_KG  GENERATION  \\\n",
       "0         65          65     45  Grass  Poison        6.9           1   \n",
       "1         80          80     60  Grass  Poison       13.0           1   \n",
       "2        122         120     80  Grass  Poison      100.0           1   \n",
       "3         60          50     65   Fire    None        8.5           1   \n",
       "4         80          65     80   Fire    None       19.0           1   \n",
       "\n",
       "   IS_LEGENDARY  \n",
       "0             0  \n",
       "1             0  \n",
       "2             0  \n",
       "3             0  \n",
       "4             0  \n",
       "\n",
       "[5 rows x 41 columns]"
      ]
     },
     "execution_count": 8,
     "metadata": {},
     "output_type": "execute_result"
    }
   ],
   "source": [
    "#data prep\n",
    "df.columns = df.columns.str.upper()\n",
    "df['TYPE1']= df['TYPE1'].str.capitalize()\n",
    "df['TYPE2']= df['TYPE2'].str.capitalize()\n",
    "df['TYPE2'].fillna(value='None', inplace=True) \n",
    "df.head()"
   ]
  },
  {
   "cell_type": "code",
   "execution_count": 9,
   "metadata": {},
   "outputs": [
    {
     "data": {
      "text/plain": [
       "0       45\n",
       "1       45\n",
       "2       45\n",
       "3       45\n",
       "4       45\n",
       "      ... \n",
       "796     25\n",
       "797    255\n",
       "798     15\n",
       "799      3\n",
       "800      3\n",
       "Name: CAPTURE_RATE, Length: 801, dtype: int64"
      ]
     },
     "execution_count": 9,
     "metadata": {},
     "output_type": "execute_result"
    }
   ],
   "source": [
    "df['CAPTURE_RATE'].astype(int)"
   ]
  },
  {
   "cell_type": "code",
   "execution_count": 10,
   "metadata": {},
   "outputs": [
    {
     "data": {
      "text/plain": [
       "Index(['AGAINST_BUG', 'AGAINST_DARK', 'AGAINST_DRAGON', 'AGAINST_ELECTRIC',\n",
       "       'AGAINST_FAIRY', 'AGAINST_FIGHT', 'AGAINST_FIRE', 'AGAINST_FLYING',\n",
       "       'AGAINST_GHOST', 'AGAINST_GRASS', 'AGAINST_GROUND', 'AGAINST_ICE',\n",
       "       'AGAINST_NORMAL', 'AGAINST_POISON', 'AGAINST_PSYCHIC', 'AGAINST_ROCK',\n",
       "       'AGAINST_STEEL', 'AGAINST_WATER', 'ATTACK', 'BASE_EGG_STEPS',\n",
       "       'BASE_HAPPINESS', 'BASE_TOTAL', 'DEFENSE', 'EXPERIENCE_GROWTH',\n",
       "       'HEIGHT_M', 'HP', 'PERCENTAGE_MALE', 'POKEDEX_NUMBER', 'SP_ATTACK',\n",
       "       'SP_DEFENSE', 'SPEED', 'WEIGHT_KG', 'GENERATION', 'IS_LEGENDARY'],\n",
       "      dtype='object')"
      ]
     },
     "execution_count": 10,
     "metadata": {},
     "output_type": "execute_result"
    }
   ],
   "source": [
    "df.select_dtypes(include=['int64','float']).columns"
   ]
  },
  {
   "cell_type": "code",
   "execution_count": 11,
   "metadata": {},
   "outputs": [],
   "source": [
    "import seaborn as sns\n",
    "import matplotlib.pyplot as plt\n",
    "sns.set(style=\"whitegrid\")"
   ]
  },
  {
   "cell_type": "code",
   "execution_count": 12,
   "metadata": {},
   "outputs": [
    {
     "data": {
      "text/plain": [
       "<AxesSubplot: xlabel='DEFENSE', ylabel='ATTACK'>"
      ]
     },
     "execution_count": 12,
     "metadata": {},
     "output_type": "execute_result"
    },
    {
     "data": {
      "image/png": "[encoded data removed]",
      "text/plain": [
       "<Figure size 640x480 with 1 Axes>"
      ]
     },
     "metadata": {},
     "output_type": "display_data"
    }
   ],
   "source": [
    "sns.lineplot(x=\"DEFENSE\", y=\"ATTACK\", data=df.sort_values(by=\"DEFENSE\"))"
   ]
  },
  {
   "cell_type": "code",
   "execution_count": 13,
   "metadata": {},
   "outputs": [
    {
     "name": "stderr",
     "output_type": "stream",
     "text": [
      "/tmp/ipykernel_4579/1134722465.py:1: FutureWarning: The default value of numeric_only in DataFrame.corr is deprecated. In a future version, it will default to False. Select only valid columns or specify the value of numeric_only to silence this warning.\n",
      "  df.corr()\n"
     ]
    },
    {
     "data": {
      "text/html": [
       "<div>\n",
       "<style scoped>\n",
       "    .dataframe tbody tr th:only-of-type {\n",
       "        vertical-align: middle;\n",
       "    }\n",
       "\n",
       "    .dataframe tbody tr th {\n",
       "        vertical-align: top;\n",
       "    }\n",
       "\n",
       "    .dataframe thead th {\n",
       "        text-align: right;\n",
       "    }\n",
       "</style>\n",
       "<table border=\"1\" class=\"dataframe\">\n",
       "  <thead>\n",
       "    <tr style=\"text-align: right;\">\n",
       "      <th></th>\n",
       "      <th>AGAINST_BUG</th>\n",
       "      <th>AGAINST_DARK</th>\n",
       "      <th>AGAINST_DRAGON</th>\n",
       "      <th>AGAINST_ELECTRIC</th>\n",
       "      <th>AGAINST_FAIRY</th>\n",
       "      <th>AGAINST_FIGHT</th>\n",
       "      <th>AGAINST_FIRE</th>\n",
       "      <th>AGAINST_FLYING</th>\n",
       "      <th>AGAINST_GHOST</th>\n",
       "      <th>AGAINST_GRASS</th>\n",
       "      <th>...</th>\n",
       "      <th>HEIGHT_M</th>\n",
       "      <th>HP</th>\n",
       "      <th>PERCENTAGE_MALE</th>\n",
       "      <th>POKEDEX_NUMBER</th>\n",
       "      <th>SP_ATTACK</th>\n",
       "      <th>SP_DEFENSE</th>\n",
       "      <th>SPEED</th>\n",
       "      <th>WEIGHT_KG</th>\n",
       "      <th>GENERATION</th>\n",
       "      <th>IS_LEGENDARY</th>\n",
       "    </tr>\n",
       "  </thead>\n",
       "  <tbody>\n",
       "    <tr>\n",
       "      <th>AGAINST_BUG</th>\n",
       "      <td>1.000000</td>\n",
       "      <td>0.230107</td>\n",
       "      <td>0.165430</td>\n",
       "      <td>-0.246943</td>\n",
       "      <td>0.239566</td>\n",
       "      <td>0.137902</td>\n",
       "      <td>0.202778</td>\n",
       "      <td>0.183343</td>\n",
       "      <td>0.129174</td>\n",
       "      <td>0.079197</td>\n",
       "      <td>...</td>\n",
       "      <td>-0.060858</td>\n",
       "      <td>0.034897</td>\n",
       "      <td>-0.048373</td>\n",
       "      <td>0.004618</td>\n",
       "      <td>0.055352</td>\n",
       "      <td>-0.002342</td>\n",
       "      <td>-0.043802</td>\n",
       "      <td>-0.031909</td>\n",
       "      <td>-0.001549</td>\n",
       "      <td>0.027864</td>\n",
       "    </tr>\n",
       "    <tr>\n",
       "      <th>AGAINST_DARK</th>\n",
       "      <td>0.230107</td>\n",
       "      <td>1.000000</td>\n",
       "      <td>0.140830</td>\n",
       "      <td>-0.015830</td>\n",
       "      <td>-0.301354</td>\n",
       "      <td>-0.357981</td>\n",
       "      <td>0.010527</td>\n",
       "      <td>-0.179697</td>\n",
       "      <td>0.672337</td>\n",
       "      <td>-0.006533</td>\n",
       "      <td>...</td>\n",
       "      <td>0.019219</td>\n",
       "      <td>0.010589</td>\n",
       "      <td>-0.097547</td>\n",
       "      <td>0.009066</td>\n",
       "      <td>0.170849</td>\n",
       "      <td>0.132507</td>\n",
       "      <td>-0.000326</td>\n",
       "      <td>0.038871</td>\n",
       "      <td>-0.016013</td>\n",
       "      <td>0.136315</td>\n",
       "    </tr>\n",
       "    <tr>\n",
       "      <th>AGAINST_DRAGON</th>\n",
       "      <td>0.165430</td>\n",
       "      <td>0.140830</td>\n",
       "      <td>1.000000</td>\n",
       "      <td>-0.108928</td>\n",
       "      <td>0.439705</td>\n",
       "      <td>0.035237</td>\n",
       "      <td>-0.261570</td>\n",
       "      <td>0.064850</td>\n",
       "      <td>-0.049941</td>\n",
       "      <td>-0.037135</td>\n",
       "      <td>...</td>\n",
       "      <td>0.164464</td>\n",
       "      <td>0.089721</td>\n",
       "      <td>0.061785</td>\n",
       "      <td>0.000872</td>\n",
       "      <td>0.039739</td>\n",
       "      <td>-0.047416</td>\n",
       "      <td>0.078123</td>\n",
       "      <td>0.126003</td>\n",
       "      <td>-0.025201</td>\n",
       "      <td>0.014844</td>\n",
       "    </tr>\n",
       "    <tr>\n",
       "      <th>AGAINST_ELECTRIC</th>\n",
       "      <td>-0.246943</td>\n",
       "      <td>-0.015830</td>\n",
       "      <td>-0.108928</td>\n",
       "      <td>1.000000</td>\n",
       "      <td>-0.089864</td>\n",
       "      <td>-0.102798</td>\n",
       "      <td>-0.279029</td>\n",
       "      <td>-0.111461</td>\n",
       "      <td>-0.073031</td>\n",
       "      <td>0.056209</td>\n",
       "      <td>...</td>\n",
       "      <td>0.003068</td>\n",
       "      <td>-0.035354</td>\n",
       "      <td>0.051265</td>\n",
       "      <td>-0.068552</td>\n",
       "      <td>0.022305</td>\n",
       "      <td>0.019193</td>\n",
       "      <td>0.111422</td>\n",
       "      <td>-0.102926</td>\n",
       "      <td>-0.063180</td>\n",
       "      <td>-0.023151</td>\n",
       "    </tr>\n",
       "    <tr>\n",
       "      <th>AGAINST_FAIRY</th>\n",
       "      <td>0.239566</td>\n",
       "      <td>-0.301354</td>\n",
       "      <td>0.439705</td>\n",
       "      <td>-0.089864</td>\n",
       "      <td>1.000000</td>\n",
       "      <td>0.157712</td>\n",
       "      <td>-0.169489</td>\n",
       "      <td>0.199862</td>\n",
       "      <td>-0.120806</td>\n",
       "      <td>0.052899</td>\n",
       "      <td>...</td>\n",
       "      <td>0.115360</td>\n",
       "      <td>0.129284</td>\n",
       "      <td>0.010527</td>\n",
       "      <td>0.176651</td>\n",
       "      <td>-0.010296</td>\n",
       "      <td>0.002754</td>\n",
       "      <td>0.065401</td>\n",
       "      <td>0.098523</td>\n",
       "      <td>0.150801</td>\n",
       "      <td>0.050165</td>\n",
       "    </tr>\n",
       "    <tr>\n",
       "      <th>AGAINST_FIGHT</th>\n",
       "      <td>0.137902</td>\n",
       "      <td>-0.357981</td>\n",
       "      <td>0.035237</td>\n",
       "      <td>-0.102798</td>\n",
       "      <td>0.157712</td>\n",
       "      <td>1.000000</td>\n",
       "      <td>-0.076480</td>\n",
       "      <td>-0.318941</td>\n",
       "      <td>-0.546982</td>\n",
       "      <td>0.269157</td>\n",
       "      <td>...</td>\n",
       "      <td>0.059184</td>\n",
       "      <td>0.109425</td>\n",
       "      <td>0.048101</td>\n",
       "      <td>0.018296</td>\n",
       "      <td>-0.118481</td>\n",
       "      <td>-0.044460</td>\n",
       "      <td>-0.050495</td>\n",
       "      <td>0.161564</td>\n",
       "      <td>0.000681</td>\n",
       "      <td>-0.059132</td>\n",
       "    </tr>\n",
       "    <tr>\n",
       "      <th>AGAINST_FIRE</th>\n",
       "      <td>0.202778</td>\n",
       "      <td>0.010527</td>\n",
       "      <td>-0.261570</td>\n",
       "      <td>-0.279029</td>\n",
       "      <td>-0.169489</td>\n",
       "      <td>-0.076480</td>\n",
       "      <td>1.000000</td>\n",
       "      <td>0.528127</td>\n",
       "      <td>0.050570</td>\n",
       "      <td>-0.463634</td>\n",
       "      <td>...</td>\n",
       "      <td>-0.085808</td>\n",
       "      <td>-0.099242</td>\n",
       "      <td>-0.120378</td>\n",
       "      <td>0.052012</td>\n",
       "      <td>-0.088578</td>\n",
       "      <td>-0.019520</td>\n",
       "      <td>-0.079129</td>\n",
       "      <td>-0.044124</td>\n",
       "      <td>0.061157</td>\n",
       "      <td>-0.011073</td>\n",
       "    </tr>\n",
       "    <tr>\n",
       "      <th>AGAINST_FLYING</th>\n",
       "      <td>0.183343</td>\n",
       "      <td>-0.179697</td>\n",
       "      <td>0.064850</td>\n",
       "      <td>-0.111461</td>\n",
       "      <td>0.199862</td>\n",
       "      <td>-0.318941</td>\n",
       "      <td>0.528127</td>\n",
       "      <td>1.000000</td>\n",
       "      <td>0.013204</td>\n",
       "      <td>-0.358467</td>\n",
       "      <td>...</td>\n",
       "      <td>-0.072985</td>\n",
       "      <td>-0.060624</td>\n",
       "      <td>0.022895</td>\n",
       "      <td>0.020324</td>\n",
       "      <td>-0.111243</td>\n",
       "      <td>-0.079022</td>\n",
       "      <td>-0.043381</td>\n",
       "      <td>-0.126744</td>\n",
       "      <td>0.058204</td>\n",
       "      <td>-0.062214</td>\n",
       "    </tr>\n",
       "    <tr>\n",
       "      <th>AGAINST_GHOST</th>\n",
       "      <td>0.129174</td>\n",
       "      <td>0.672337</td>\n",
       "      <td>-0.049941</td>\n",
       "      <td>-0.073031</td>\n",
       "      <td>-0.120806</td>\n",
       "      <td>-0.546982</td>\n",
       "      <td>0.050570</td>\n",
       "      <td>0.013204</td>\n",
       "      <td>1.000000</td>\n",
       "      <td>0.029542</td>\n",
       "      <td>...</td>\n",
       "      <td>0.032553</td>\n",
       "      <td>-0.062052</td>\n",
       "      <td>0.059852</td>\n",
       "      <td>0.063189</td>\n",
       "      <td>0.233309</td>\n",
       "      <td>0.195439</td>\n",
       "      <td>-0.029007</td>\n",
       "      <td>0.047869</td>\n",
       "      <td>0.038027</td>\n",
       "      <td>0.170746</td>\n",
       "    </tr>\n",
       "    <tr>\n",
       "      <th>AGAINST_GRASS</th>\n",
       "      <td>0.079197</td>\n",
       "      <td>-0.006533</td>\n",
       "      <td>-0.037135</td>\n",
       "      <td>0.056209</td>\n",
       "      <td>0.052899</td>\n",
       "      <td>0.269157</td>\n",
       "      <td>-0.463634</td>\n",
       "      <td>-0.358467</td>\n",
       "      <td>0.029542</td>\n",
       "      <td>1.000000</td>\n",
       "      <td>...</td>\n",
       "      <td>0.030583</td>\n",
       "      <td>0.056886</td>\n",
       "      <td>0.070926</td>\n",
       "      <td>-0.092353</td>\n",
       "      <td>-0.093899</td>\n",
       "      <td>-0.056427</td>\n",
       "      <td>-0.153618</td>\n",
       "      <td>0.050129</td>\n",
       "      <td>-0.107987</td>\n",
       "      <td>-0.070826</td>\n",
       "    </tr>\n",
       "    <tr>\n",
       "      <th>AGAINST_GROUND</th>\n",
       "      <td>-0.186841</td>\n",
       "      <td>-0.007660</td>\n",
       "      <td>-0.120042</td>\n",
       "      <td>-0.269444</td>\n",
       "      <td>-0.256504</td>\n",
       "      <td>0.358793</td>\n",
       "      <td>-0.260766</td>\n",
       "      <td>-0.465010</td>\n",
       "      <td>0.093727</td>\n",
       "      <td>0.195064</td>\n",
       "      <td>...</td>\n",
       "      <td>-0.004037</td>\n",
       "      <td>-0.025928</td>\n",
       "      <td>0.079307</td>\n",
       "      <td>-0.009267</td>\n",
       "      <td>0.075511</td>\n",
       "      <td>0.058397</td>\n",
       "      <td>-0.082846</td>\n",
       "      <td>0.109210</td>\n",
       "      <td>-0.019672</td>\n",
       "      <td>0.012812</td>\n",
       "    </tr>\n",
       "    <tr>\n",
       "      <th>AGAINST_ICE</th>\n",
       "      <td>0.148176</td>\n",
       "      <td>-0.010763</td>\n",
       "      <td>0.350048</td>\n",
       "      <td>-0.328531</td>\n",
       "      <td>0.273650</td>\n",
       "      <td>-0.220239</td>\n",
       "      <td>0.186361</td>\n",
       "      <td>0.277935</td>\n",
       "      <td>-0.052531</td>\n",
       "      <td>-0.239682</td>\n",
       "      <td>...</td>\n",
       "      <td>0.068696</td>\n",
       "      <td>0.055031</td>\n",
       "      <td>-0.033372</td>\n",
       "      <td>0.022792</td>\n",
       "      <td>-0.035767</td>\n",
       "      <td>-0.043342</td>\n",
       "      <td>0.056169</td>\n",
       "      <td>0.017336</td>\n",
       "      <td>0.026089</td>\n",
       "      <td>0.005580</td>\n",
       "    </tr>\n",
       "    <tr>\n",
       "      <th>AGAINST_NORMAL</th>\n",
       "      <td>0.215589</td>\n",
       "      <td>-0.413632</td>\n",
       "      <td>0.142035</td>\n",
       "      <td>0.076699</td>\n",
       "      <td>0.149488</td>\n",
       "      <td>-0.006997</td>\n",
       "      <td>-0.055106</td>\n",
       "      <td>0.266780</td>\n",
       "      <td>-0.404780</td>\n",
       "      <td>-0.127550</td>\n",
       "      <td>...</td>\n",
       "      <td>-0.075073</td>\n",
       "      <td>0.042292</td>\n",
       "      <td>-0.027286</td>\n",
       "      <td>-0.145942</td>\n",
       "      <td>-0.037069</td>\n",
       "      <td>-0.111376</td>\n",
       "      <td>0.129555</td>\n",
       "      <td>-0.135808</td>\n",
       "      <td>-0.115024</td>\n",
       "      <td>-0.034761</td>\n",
       "    </tr>\n",
       "    <tr>\n",
       "      <th>AGAINST_POISON</th>\n",
       "      <td>0.354255</td>\n",
       "      <td>-0.236919</td>\n",
       "      <td>-0.210199</td>\n",
       "      <td>-0.015769</td>\n",
       "      <td>0.146464</td>\n",
       "      <td>-0.189798</td>\n",
       "      <td>0.184334</td>\n",
       "      <td>0.484843</td>\n",
       "      <td>-0.105137</td>\n",
       "      <td>-0.221946</td>\n",
       "      <td>...</td>\n",
       "      <td>-0.125700</td>\n",
       "      <td>-0.020831</td>\n",
       "      <td>-0.039674</td>\n",
       "      <td>0.052066</td>\n",
       "      <td>0.050514</td>\n",
       "      <td>-0.006453</td>\n",
       "      <td>0.015357</td>\n",
       "      <td>-0.203886</td>\n",
       "      <td>0.085318</td>\n",
       "      <td>-0.024349</td>\n",
       "    </tr>\n",
       "    <tr>\n",
       "      <th>AGAINST_PSYCHIC</th>\n",
       "      <td>-0.463272</td>\n",
       "      <td>-0.230415</td>\n",
       "      <td>0.100153</td>\n",
       "      <td>-0.017592</td>\n",
       "      <td>-0.145238</td>\n",
       "      <td>-0.264938</td>\n",
       "      <td>-0.018519</td>\n",
       "      <td>0.375023</td>\n",
       "      <td>-0.084496</td>\n",
       "      <td>-0.093657</td>\n",
       "      <td>...</td>\n",
       "      <td>-0.021810</td>\n",
       "      <td>-0.039355</td>\n",
       "      <td>0.095823</td>\n",
       "      <td>-0.126272</td>\n",
       "      <td>-0.127005</td>\n",
       "      <td>-0.093377</td>\n",
       "      <td>-0.037739</td>\n",
       "      <td>-0.088157</td>\n",
       "      <td>-0.095373</td>\n",
       "      <td>-0.106047</td>\n",
       "    </tr>\n",
       "    <tr>\n",
       "      <th>AGAINST_ROCK</th>\n",
       "      <td>-0.210522</td>\n",
       "      <td>0.011963</td>\n",
       "      <td>0.090184</td>\n",
       "      <td>0.417261</td>\n",
       "      <td>-0.205444</td>\n",
       "      <td>-0.240964</td>\n",
       "      <td>0.120747</td>\n",
       "      <td>0.161885</td>\n",
       "      <td>-0.061013</td>\n",
       "      <td>-0.375177</td>\n",
       "      <td>...</td>\n",
       "      <td>-0.035653</td>\n",
       "      <td>-0.069542</td>\n",
       "      <td>-0.030818</td>\n",
       "      <td>-0.037008</td>\n",
       "      <td>0.074479</td>\n",
       "      <td>-0.014870</td>\n",
       "      <td>0.156703</td>\n",
       "      <td>-0.112743</td>\n",
       "      <td>-0.026864</td>\n",
       "      <td>-0.017588</td>\n",
       "    </tr>\n",
       "    <tr>\n",
       "      <th>AGAINST_STEEL</th>\n",
       "      <td>0.055504</td>\n",
       "      <td>-0.119758</td>\n",
       "      <td>-0.227697</td>\n",
       "      <td>-0.187543</td>\n",
       "      <td>0.130323</td>\n",
       "      <td>0.165066</td>\n",
       "      <td>0.115992</td>\n",
       "      <td>0.001264</td>\n",
       "      <td>-0.002008</td>\n",
       "      <td>0.082812</td>\n",
       "      <td>...</td>\n",
       "      <td>-0.029219</td>\n",
       "      <td>0.028492</td>\n",
       "      <td>-0.093667</td>\n",
       "      <td>0.079812</td>\n",
       "      <td>-0.076379</td>\n",
       "      <td>0.055443</td>\n",
       "      <td>-0.096497</td>\n",
       "      <td>0.016147</td>\n",
       "      <td>0.069460</td>\n",
       "      <td>0.001397</td>\n",
       "    </tr>\n",
       "    <tr>\n",
       "      <th>AGAINST_WATER</th>\n",
       "      <td>-0.254732</td>\n",
       "      <td>-0.001976</td>\n",
       "      <td>-0.096549</td>\n",
       "      <td>-0.297600</td>\n",
       "      <td>-0.218937</td>\n",
       "      <td>0.205249</td>\n",
       "      <td>-0.242635</td>\n",
       "      <td>-0.311997</td>\n",
       "      <td>0.009046</td>\n",
       "      <td>0.229968</td>\n",
       "      <td>...</td>\n",
       "      <td>0.036732</td>\n",
       "      <td>0.004569</td>\n",
       "      <td>0.049844</td>\n",
       "      <td>-0.057970</td>\n",
       "      <td>-0.060562</td>\n",
       "      <td>-0.054123</td>\n",
       "      <td>-0.044726</td>\n",
       "      <td>0.121059</td>\n",
       "      <td>-0.061144</td>\n",
       "      <td>-0.020679</td>\n",
       "    </tr>\n",
       "    <tr>\n",
       "      <th>ATTACK</th>\n",
       "      <td>-0.054175</td>\n",
       "      <td>-0.098849</td>\n",
       "      <td>0.138217</td>\n",
       "      <td>-0.104276</td>\n",
       "      <td>0.207526</td>\n",
       "      <td>0.149123</td>\n",
       "      <td>-0.005762</td>\n",
       "      <td>-0.002991</td>\n",
       "      <td>-0.034549</td>\n",
       "      <td>0.036787</td>\n",
       "      <td>...</td>\n",
       "      <td>0.423160</td>\n",
       "      <td>0.410616</td>\n",
       "      <td>0.190035</td>\n",
       "      <td>0.137633</td>\n",
       "      <td>0.368154</td>\n",
       "      <td>0.265836</td>\n",
       "      <td>0.352703</td>\n",
       "      <td>0.382183</td>\n",
       "      <td>0.101375</td>\n",
       "      <td>0.303295</td>\n",
       "    </tr>\n",
       "    <tr>\n",
       "      <th>BASE_EGG_STEPS</th>\n",
       "      <td>0.062133</td>\n",
       "      <td>0.187220</td>\n",
       "      <td>0.164773</td>\n",
       "      <td>-0.061970</td>\n",
       "      <td>0.120594</td>\n",
       "      <td>-0.006359</td>\n",
       "      <td>-0.044802</td>\n",
       "      <td>-0.091304</td>\n",
       "      <td>0.174115</td>\n",
       "      <td>-0.064971</td>\n",
       "      <td>...</td>\n",
       "      <td>0.381455</td>\n",
       "      <td>0.359218</td>\n",
       "      <td>0.115968</td>\n",
       "      <td>0.197278</td>\n",
       "      <td>0.404477</td>\n",
       "      <td>0.335404</td>\n",
       "      <td>0.289447</td>\n",
       "      <td>0.443286</td>\n",
       "      <td>0.128941</td>\n",
       "      <td>0.873488</td>\n",
       "    </tr>\n",
       "    <tr>\n",
       "      <th>BASE_HAPPINESS</th>\n",
       "      <td>0.009994</td>\n",
       "      <td>0.024155</td>\n",
       "      <td>-0.151915</td>\n",
       "      <td>0.030411</td>\n",
       "      <td>-0.209323</td>\n",
       "      <td>-0.088722</td>\n",
       "      <td>0.007441</td>\n",
       "      <td>0.056480</td>\n",
       "      <td>-0.037205</td>\n",
       "      <td>0.063475</td>\n",
       "      <td>...</td>\n",
       "      <td>-0.343394</td>\n",
       "      <td>-0.108217</td>\n",
       "      <td>-0.059802</td>\n",
       "      <td>-0.154776</td>\n",
       "      <td>-0.228924</td>\n",
       "      <td>-0.149719</td>\n",
       "      <td>-0.148753</td>\n",
       "      <td>-0.405840</td>\n",
       "      <td>-0.115974</td>\n",
       "      <td>-0.413108</td>\n",
       "    </tr>\n",
       "    <tr>\n",
       "      <th>BASE_TOTAL</th>\n",
       "      <td>-0.012398</td>\n",
       "      <td>0.065446</td>\n",
       "      <td>0.069766</td>\n",
       "      <td>-0.017137</td>\n",
       "      <td>0.098948</td>\n",
       "      <td>0.048629</td>\n",
       "      <td>-0.061698</td>\n",
       "      <td>-0.106586</td>\n",
       "      <td>0.114179</td>\n",
       "      <td>-0.017340</td>\n",
       "      <td>...</td>\n",
       "      <td>0.535063</td>\n",
       "      <td>0.620624</td>\n",
       "      <td>0.098462</td>\n",
       "      <td>0.140363</td>\n",
       "      <td>0.741120</td>\n",
       "      <td>0.717434</td>\n",
       "      <td>0.547666</td>\n",
       "      <td>0.458111</td>\n",
       "      <td>0.084358</td>\n",
       "      <td>0.485440</td>\n",
       "    </tr>\n",
       "    <tr>\n",
       "      <th>DEFENSE</th>\n",
       "      <td>-0.036474</td>\n",
       "      <td>0.048039</td>\n",
       "      <td>-0.023794</td>\n",
       "      <td>-0.072433</td>\n",
       "      <td>0.001655</td>\n",
       "      <td>0.150424</td>\n",
       "      <td>0.037921</td>\n",
       "      <td>-0.127950</td>\n",
       "      <td>0.136490</td>\n",
       "      <td>0.139542</td>\n",
       "      <td>...</td>\n",
       "      <td>0.361938</td>\n",
       "      <td>0.242378</td>\n",
       "      <td>0.044706</td>\n",
       "      <td>0.102412</td>\n",
       "      <td>0.241882</td>\n",
       "      <td>0.526348</td>\n",
       "      <td>0.007934</td>\n",
       "      <td>0.424067</td>\n",
       "      <td>0.057603</td>\n",
       "      <td>0.265587</td>\n",
       "    </tr>\n",
       "    <tr>\n",
       "      <th>EXPERIENCE_GROWTH</th>\n",
       "      <td>0.035717</td>\n",
       "      <td>-0.008391</td>\n",
       "      <td>0.172547</td>\n",
       "      <td>-0.041584</td>\n",
       "      <td>0.146370</td>\n",
       "      <td>0.010407</td>\n",
       "      <td>-0.027136</td>\n",
       "      <td>0.019100</td>\n",
       "      <td>0.059262</td>\n",
       "      <td>-0.039623</td>\n",
       "      <td>...</td>\n",
       "      <td>0.245984</td>\n",
       "      <td>0.214068</td>\n",
       "      <td>0.023671</td>\n",
       "      <td>0.084687</td>\n",
       "      <td>0.201603</td>\n",
       "      <td>0.088806</td>\n",
       "      <td>0.144946</td>\n",
       "      <td>0.246108</td>\n",
       "      <td>0.052530</td>\n",
       "      <td>0.361038</td>\n",
       "    </tr>\n",
       "    <tr>\n",
       "      <th>HEIGHT_M</th>\n",
       "      <td>-0.060858</td>\n",
       "      <td>0.019219</td>\n",
       "      <td>0.164464</td>\n",
       "      <td>0.003068</td>\n",
       "      <td>0.115360</td>\n",
       "      <td>0.059184</td>\n",
       "      <td>-0.085808</td>\n",
       "      <td>-0.072985</td>\n",
       "      <td>0.032553</td>\n",
       "      <td>0.030583</td>\n",
       "      <td>...</td>\n",
       "      <td>1.000000</td>\n",
       "      <td>0.478369</td>\n",
       "      <td>0.040893</td>\n",
       "      <td>0.008580</td>\n",
       "      <td>0.353007</td>\n",
       "      <td>0.328327</td>\n",
       "      <td>0.202202</td>\n",
       "      <td>0.626551</td>\n",
       "      <td>-0.025525</td>\n",
       "      <td>0.322155</td>\n",
       "    </tr>\n",
       "    <tr>\n",
       "      <th>HP</th>\n",
       "      <td>0.034897</td>\n",
       "      <td>0.010589</td>\n",
       "      <td>0.089721</td>\n",
       "      <td>-0.035354</td>\n",
       "      <td>0.129284</td>\n",
       "      <td>0.109425</td>\n",
       "      <td>-0.099242</td>\n",
       "      <td>-0.060624</td>\n",
       "      <td>-0.062052</td>\n",
       "      <td>0.056886</td>\n",
       "      <td>...</td>\n",
       "      <td>0.478369</td>\n",
       "      <td>1.000000</td>\n",
       "      <td>-0.059014</td>\n",
       "      <td>0.108079</td>\n",
       "      <td>0.365973</td>\n",
       "      <td>0.366971</td>\n",
       "      <td>0.160760</td>\n",
       "      <td>0.427743</td>\n",
       "      <td>0.074065</td>\n",
       "      <td>0.308405</td>\n",
       "    </tr>\n",
       "    <tr>\n",
       "      <th>PERCENTAGE_MALE</th>\n",
       "      <td>-0.048373</td>\n",
       "      <td>-0.097547</td>\n",
       "      <td>0.061785</td>\n",
       "      <td>0.051265</td>\n",
       "      <td>0.010527</td>\n",
       "      <td>0.048101</td>\n",
       "      <td>-0.120378</td>\n",
       "      <td>0.022895</td>\n",
       "      <td>0.059852</td>\n",
       "      <td>0.070926</td>\n",
       "      <td>...</td>\n",
       "      <td>0.040893</td>\n",
       "      <td>-0.059014</td>\n",
       "      <td>1.000000</td>\n",
       "      <td>-0.035846</td>\n",
       "      <td>0.102876</td>\n",
       "      <td>0.009703</td>\n",
       "      <td>0.056960</td>\n",
       "      <td>0.047131</td>\n",
       "      <td>-0.014875</td>\n",
       "      <td>0.045222</td>\n",
       "    </tr>\n",
       "    <tr>\n",
       "      <th>POKEDEX_NUMBER</th>\n",
       "      <td>0.004618</td>\n",
       "      <td>0.009066</td>\n",
       "      <td>0.000872</td>\n",
       "      <td>-0.068552</td>\n",
       "      <td>0.176651</td>\n",
       "      <td>0.018296</td>\n",
       "      <td>0.052012</td>\n",
       "      <td>0.020324</td>\n",
       "      <td>0.063189</td>\n",
       "      <td>-0.092353</td>\n",
       "      <td>...</td>\n",
       "      <td>0.008580</td>\n",
       "      <td>0.108079</td>\n",
       "      <td>-0.035846</td>\n",
       "      <td>1.000000</td>\n",
       "      <td>0.109285</td>\n",
       "      <td>0.093848</td>\n",
       "      <td>0.004294</td>\n",
       "      <td>0.123567</td>\n",
       "      <td>0.985904</td>\n",
       "      <td>0.196785</td>\n",
       "    </tr>\n",
       "    <tr>\n",
       "      <th>SP_ATTACK</th>\n",
       "      <td>0.055352</td>\n",
       "      <td>0.170849</td>\n",
       "      <td>0.039739</td>\n",
       "      <td>0.022305</td>\n",
       "      <td>-0.010296</td>\n",
       "      <td>-0.118481</td>\n",
       "      <td>-0.088578</td>\n",
       "      <td>-0.111243</td>\n",
       "      <td>0.233309</td>\n",
       "      <td>-0.093899</td>\n",
       "      <td>...</td>\n",
       "      <td>0.353007</td>\n",
       "      <td>0.365973</td>\n",
       "      <td>0.102876</td>\n",
       "      <td>0.109285</td>\n",
       "      <td>1.000000</td>\n",
       "      <td>0.511496</td>\n",
       "      <td>0.438981</td>\n",
       "      <td>0.245218</td>\n",
       "      <td>0.070146</td>\n",
       "      <td>0.406281</td>\n",
       "    </tr>\n",
       "    <tr>\n",
       "      <th>SP_DEFENSE</th>\n",
       "      <td>-0.002342</td>\n",
       "      <td>0.132507</td>\n",
       "      <td>-0.047416</td>\n",
       "      <td>0.019193</td>\n",
       "      <td>0.002754</td>\n",
       "      <td>-0.044460</td>\n",
       "      <td>-0.019520</td>\n",
       "      <td>-0.079022</td>\n",
       "      <td>0.195439</td>\n",
       "      <td>-0.056427</td>\n",
       "      <td>...</td>\n",
       "      <td>0.328327</td>\n",
       "      <td>0.366971</td>\n",
       "      <td>0.009703</td>\n",
       "      <td>0.093848</td>\n",
       "      <td>0.511496</td>\n",
       "      <td>1.000000</td>\n",
       "      <td>0.225977</td>\n",
       "      <td>0.306523</td>\n",
       "      <td>0.048711</td>\n",
       "      <td>0.343241</td>\n",
       "    </tr>\n",
       "    <tr>\n",
       "      <th>SPEED</th>\n",
       "      <td>-0.043802</td>\n",
       "      <td>-0.000326</td>\n",
       "      <td>0.078123</td>\n",
       "      <td>0.111422</td>\n",
       "      <td>0.065401</td>\n",
       "      <td>-0.050495</td>\n",
       "      <td>-0.079129</td>\n",
       "      <td>-0.043381</td>\n",
       "      <td>-0.029007</td>\n",
       "      <td>-0.153618</td>\n",
       "      <td>...</td>\n",
       "      <td>0.202202</td>\n",
       "      <td>0.160760</td>\n",
       "      <td>0.056960</td>\n",
       "      <td>0.004294</td>\n",
       "      <td>0.438981</td>\n",
       "      <td>0.225977</td>\n",
       "      <td>1.000000</td>\n",
       "      <td>0.051384</td>\n",
       "      <td>-0.019914</td>\n",
       "      <td>0.311639</td>\n",
       "    </tr>\n",
       "    <tr>\n",
       "      <th>WEIGHT_KG</th>\n",
       "      <td>-0.031909</td>\n",
       "      <td>0.038871</td>\n",
       "      <td>0.126003</td>\n",
       "      <td>-0.102926</td>\n",
       "      <td>0.098523</td>\n",
       "      <td>0.161564</td>\n",
       "      <td>-0.044124</td>\n",
       "      <td>-0.126744</td>\n",
       "      <td>0.047869</td>\n",
       "      <td>0.050129</td>\n",
       "      <td>...</td>\n",
       "      <td>0.626551</td>\n",
       "      <td>0.427743</td>\n",
       "      <td>0.047131</td>\n",
       "      <td>0.123567</td>\n",
       "      <td>0.245218</td>\n",
       "      <td>0.306523</td>\n",
       "      <td>0.051384</td>\n",
       "      <td>1.000000</td>\n",
       "      <td>0.085767</td>\n",
       "      <td>0.393023</td>\n",
       "    </tr>\n",
       "    <tr>\n",
       "      <th>GENERATION</th>\n",
       "      <td>-0.001549</td>\n",
       "      <td>-0.016013</td>\n",
       "      <td>-0.025201</td>\n",
       "      <td>-0.063180</td>\n",
       "      <td>0.150801</td>\n",
       "      <td>0.000681</td>\n",
       "      <td>0.061157</td>\n",
       "      <td>0.058204</td>\n",
       "      <td>0.038027</td>\n",
       "      <td>-0.107987</td>\n",
       "      <td>...</td>\n",
       "      <td>-0.025525</td>\n",
       "      <td>0.074065</td>\n",
       "      <td>-0.014875</td>\n",
       "      <td>0.985904</td>\n",
       "      <td>0.070146</td>\n",
       "      <td>0.048711</td>\n",
       "      <td>-0.019914</td>\n",
       "      <td>0.085767</td>\n",
       "      <td>1.000000</td>\n",
       "      <td>0.139029</td>\n",
       "    </tr>\n",
       "    <tr>\n",
       "      <th>IS_LEGENDARY</th>\n",
       "      <td>0.027864</td>\n",
       "      <td>0.136315</td>\n",
       "      <td>0.014844</td>\n",
       "      <td>-0.023151</td>\n",
       "      <td>0.050165</td>\n",
       "      <td>-0.059132</td>\n",
       "      <td>-0.011073</td>\n",
       "      <td>-0.062214</td>\n",
       "      <td>0.170746</td>\n",
       "      <td>-0.070826</td>\n",
       "      <td>...</td>\n",
       "      <td>0.322155</td>\n",
       "      <td>0.308405</td>\n",
       "      <td>0.045222</td>\n",
       "      <td>0.196785</td>\n",
       "      <td>0.406281</td>\n",
       "      <td>0.343241</td>\n",
       "      <td>0.311639</td>\n",
       "      <td>0.393023</td>\n",
       "      <td>0.139029</td>\n",
       "      <td>1.000000</td>\n",
       "    </tr>\n",
       "  </tbody>\n",
       "</table>\n",
       "<p>34 rows × 34 columns</p>\n",
       "</div>"
      ],
      "text/plain": [
       "                   AGAINST_BUG  AGAINST_DARK  AGAINST_DRAGON  \\\n",
       "AGAINST_BUG           1.000000      0.230107        0.165430   \n",
       "AGAINST_DARK          0.230107      1.000000        0.140830   \n",
       "AGAINST_DRAGON        0.165430      0.140830        1.000000   \n",
       "AGAINST_ELECTRIC     -0.246943     -0.015830       -0.108928   \n",
       "AGAINST_FAIRY         0.239566     -0.301354        0.439705   \n",
       "AGAINST_FIGHT         0.137902     -0.357981        0.035237   \n",
       "AGAINST_FIRE          0.202778      0.010527       -0.261570   \n",
       "AGAINST_FLYING        0.183343     -0.179697        0.064850   \n",
       "AGAINST_GHOST         0.129174      0.672337       -0.049941   \n",
       "AGAINST_GRASS         0.079197     -0.006533       -0.037135   \n",
       "AGAINST_GROUND       -0.186841     -0.007660       -0.120042   \n",
       "AGAINST_ICE           0.148176     -0.010763        0.350048   \n",
       "AGAINST_NORMAL        0.215589     -0.413632        0.142035   \n",
       "AGAINST_POISON        0.354255     -0.236919       -0.210199   \n",
       "AGAINST_PSYCHIC      -0.463272     -0.230415        0.100153   \n",
       "AGAINST_ROCK         -0.210522      0.011963        0.090184   \n",
       "AGAINST_STEEL         0.055504     -0.119758       -0.227697   \n",
       "AGAINST_WATER        -0.254732     -0.001976       -0.096549   \n",
       "ATTACK               -0.054175     -0.098849        0.138217   \n",
       "BASE_EGG_STEPS        0.062133      0.187220        0.164773   \n",
       "BASE_HAPPINESS        0.009994      0.024155       -0.151915   \n",
       "BASE_TOTAL           -0.012398      0.065446        0.069766   \n",
       "DEFENSE              -0.036474      0.048039       -0.023794   \n",
       "EXPERIENCE_GROWTH     0.035717     -0.008391        0.172547   \n",
       "HEIGHT_M             -0.060858      0.019219        0.164464   \n",
       "HP                    0.034897      0.010589        0.089721   \n",
       "PERCENTAGE_MALE      -0.048373     -0.097547        0.061785   \n",
       "POKEDEX_NUMBER        0.004618      0.009066        0.000872   \n",
       "SP_ATTACK             0.055352      0.170849        0.039739   \n",
       "SP_DEFENSE           -0.002342      0.132507       -0.047416   \n",
       "SPEED                -0.043802     -0.000326        0.078123   \n",
       "WEIGHT_KG            -0.031909      0.038871        0.126003   \n",
       "GENERATION           -0.001549     -0.016013       -0.025201   \n",
       "IS_LEGENDARY          0.027864      0.136315        0.014844   \n",
       "\n",
       "                   AGAINST_ELECTRIC  AGAINST_FAIRY  AGAINST_FIGHT  \\\n",
       "AGAINST_BUG               -0.246943       0.239566       0.137902   \n",
       "AGAINST_DARK              -0.015830      -0.301354      -0.357981   \n",
       "AGAINST_DRAGON            -0.108928       0.439705       0.035237   \n",
       "AGAINST_ELECTRIC           1.000000      -0.089864      -0.102798   \n",
       "AGAINST_FAIRY             -0.089864       1.000000       0.157712   \n",
       "AGAINST_FIGHT             -0.102798       0.157712       1.000000   \n",
       "AGAINST_FIRE              -0.279029      -0.169489      -0.076480   \n",
       "AGAINST_FLYING            -0.111461       0.199862      -0.318941   \n",
       "AGAINST_GHOST             -0.073031      -0.120806      -0.546982   \n",
       "AGAINST_GRASS              0.056209       0.052899       0.269157   \n",
       "AGAINST_GROUND            -0.269444      -0.256504       0.358793   \n",
       "AGAINST_ICE               -0.328531       0.273650      -0.220239   \n",
       "AGAINST_NORMAL             0.076699       0.149488      -0.006997   \n",
       "AGAINST_POISON            -0.015769       0.146464      -0.189798   \n",
       "AGAINST_PSYCHIC           -0.017592      -0.145238      -0.264938   \n",
       "AGAINST_ROCK               0.417261      -0.205444      -0.240964   \n",
       "AGAINST_STEEL             -0.187543       0.130323       0.165066   \n",
       "AGAINST_WATER             -0.297600      -0.218937       0.205249   \n",
       "ATTACK                    -0.104276       0.207526       0.149123   \n",
       "BASE_EGG_STEPS            -0.061970       0.120594      -0.006359   \n",
       "BASE_HAPPINESS             0.030411      -0.209323      -0.088722   \n",
       "BASE_TOTAL                -0.017137       0.098948       0.048629   \n",
       "DEFENSE                   -0.072433       0.001655       0.150424   \n",
       "EXPERIENCE_GROWTH         -0.041584       0.146370       0.010407   \n",
       "HEIGHT_M                   0.003068       0.115360       0.059184   \n",
       "HP                        -0.035354       0.129284       0.109425   \n",
       "PERCENTAGE_MALE            0.051265       0.010527       0.048101   \n",
       "POKEDEX_NUMBER            -0.068552       0.176651       0.018296   \n",
       "SP_ATTACK                  0.022305      -0.010296      -0.118481   \n",
       "SP_DEFENSE                 0.019193       0.002754      -0.044460   \n",
       "SPEED                      0.111422       0.065401      -0.050495   \n",
       "WEIGHT_KG                 -0.102926       0.098523       0.161564   \n",
       "GENERATION                -0.063180       0.150801       0.000681   \n",
       "IS_LEGENDARY              -0.023151       0.050165      -0.059132   \n",
       "\n",
       "                   AGAINST_FIRE  AGAINST_FLYING  AGAINST_GHOST  AGAINST_GRASS  \\\n",
       "AGAINST_BUG            0.202778        0.183343       0.129174       0.079197   \n",
       "AGAINST_DARK           0.010527       -0.179697       0.672337      -0.006533   \n",
       "AGAINST_DRAGON        -0.261570        0.064850      -0.049941      -0.037135   \n",
       "AGAINST_ELECTRIC      -0.279029       -0.111461      -0.073031       0.056209   \n",
       "AGAINST_FAIRY         -0.169489        0.199862      -0.120806       0.052899   \n",
       "AGAINST_FIGHT         -0.076480       -0.318941      -0.546982       0.269157   \n",
       "AGAINST_FIRE           1.000000        0.528127       0.050570      -0.463634   \n",
       "AGAINST_FLYING         0.528127        1.000000       0.013204      -0.358467   \n",
       "AGAINST_GHOST          0.050570        0.013204       1.000000       0.029542   \n",
       "AGAINST_GRASS         -0.463634       -0.358467       0.029542       1.000000   \n",
       "AGAINST_GROUND        -0.260766       -0.465010       0.093727       0.195064   \n",
       "AGAINST_ICE            0.186361        0.277935      -0.052531      -0.239682   \n",
       "AGAINST_NORMAL        -0.055106        0.266780      -0.404780      -0.127550   \n",
       "AGAINST_POISON         0.184334        0.484843      -0.105137      -0.221946   \n",
       "AGAINST_PSYCHIC       -0.018519        0.375023      -0.084496      -0.093657   \n",
       "AGAINST_ROCK           0.120747        0.161885      -0.061013      -0.375177   \n",
       "AGAINST_STEEL          0.115992        0.001264      -0.002008       0.082812   \n",
       "AGAINST_WATER         -0.242635       -0.311997       0.009046       0.229968   \n",
       "ATTACK                -0.005762       -0.002991      -0.034549       0.036787   \n",
       "BASE_EGG_STEPS        -0.044802       -0.091304       0.174115      -0.064971   \n",
       "BASE_HAPPINESS         0.007441        0.056480      -0.037205       0.063475   \n",
       "BASE_TOTAL            -0.061698       -0.106586       0.114179      -0.017340   \n",
       "DEFENSE                0.037921       -0.127950       0.136490       0.139542   \n",
       "EXPERIENCE_GROWTH     -0.027136        0.019100       0.059262      -0.039623   \n",
       "HEIGHT_M              -0.085808       -0.072985       0.032553       0.030583   \n",
       "HP                    -0.099242       -0.060624      -0.062052       0.056886   \n",
       "PERCENTAGE_MALE       -0.120378        0.022895       0.059852       0.070926   \n",
       "POKEDEX_NUMBER         0.052012        0.020324       0.063189      -0.092353   \n",
       "SP_ATTACK             -0.088578       -0.111243       0.233309      -0.093899   \n",
       "SP_DEFENSE            -0.019520       -0.079022       0.195439      -0.056427   \n",
       "SPEED                 -0.079129       -0.043381      -0.029007      -0.153618   \n",
       "WEIGHT_KG             -0.044124       -0.126744       0.047869       0.050129   \n",
       "GENERATION             0.061157        0.058204       0.038027      -0.107987   \n",
       "IS_LEGENDARY          -0.011073       -0.062214       0.170746      -0.070826   \n",
       "\n",
       "                   ...  HEIGHT_M        HP  PERCENTAGE_MALE  POKEDEX_NUMBER  \\\n",
       "AGAINST_BUG        ... -0.060858  0.034897        -0.048373        0.004618   \n",
       "AGAINST_DARK       ...  0.019219  0.010589        -0.097547        0.009066   \n",
       "AGAINST_DRAGON     ...  0.164464  0.089721         0.061785        0.000872   \n",
       "AGAINST_ELECTRIC   ...  0.003068 -0.035354         0.051265       -0.068552   \n",
       "AGAINST_FAIRY      ...  0.115360  0.129284         0.010527        0.176651   \n",
       "AGAINST_FIGHT      ...  0.059184  0.109425         0.048101        0.018296   \n",
       "AGAINST_FIRE       ... -0.085808 -0.099242        -0.120378        0.052012   \n",
       "AGAINST_FLYING     ... -0.072985 -0.060624         0.022895        0.020324   \n",
       "AGAINST_GHOST      ...  0.032553 -0.062052         0.059852        0.063189   \n",
       "AGAINST_GRASS      ...  0.030583  0.056886         0.070926       -0.092353   \n",
       "AGAINST_GROUND     ... -0.004037 -0.025928         0.079307       -0.009267   \n",
       "AGAINST_ICE        ...  0.068696  0.055031        -0.033372        0.022792   \n",
       "AGAINST_NORMAL     ... -0.075073  0.042292        -0.027286       -0.145942   \n",
       "AGAINST_POISON     ... -0.125700 -0.020831        -0.039674        0.052066   \n",
       "AGAINST_PSYCHIC    ... -0.021810 -0.039355         0.095823       -0.126272   \n",
       "AGAINST_ROCK       ... -0.035653 -0.069542        -0.030818       -0.037008   \n",
       "AGAINST_STEEL      ... -0.029219  0.028492        -0.093667        0.079812   \n",
       "AGAINST_WATER      ...  0.036732  0.004569         0.049844       -0.057970   \n",
       "ATTACK             ...  0.423160  0.410616         0.190035        0.137633   \n",
       "BASE_EGG_STEPS     ...  0.381455  0.359218         0.115968        0.197278   \n",
       "BASE_HAPPINESS     ... -0.343394 -0.108217        -0.059802       -0.154776   \n",
       "BASE_TOTAL         ...  0.535063  0.620624         0.098462        0.140363   \n",
       "DEFENSE            ...  0.361938  0.242378         0.044706        0.102412   \n",
       "EXPERIENCE_GROWTH  ...  0.245984  0.214068         0.023671        0.084687   \n",
       "HEIGHT_M           ...  1.000000  0.478369         0.040893        0.008580   \n",
       "HP                 ...  0.478369  1.000000        -0.059014        0.108079   \n",
       "PERCENTAGE_MALE    ...  0.040893 -0.059014         1.000000       -0.035846   \n",
       "POKEDEX_NUMBER     ...  0.008580  0.108079        -0.035846        1.000000   \n",
       "SP_ATTACK          ...  0.353007  0.365973         0.102876        0.109285   \n",
       "SP_DEFENSE         ...  0.328327  0.366971         0.009703        0.093848   \n",
       "SPEED              ...  0.202202  0.160760         0.056960        0.004294   \n",
       "WEIGHT_KG          ...  0.626551  0.427743         0.047131        0.123567   \n",
       "GENERATION         ... -0.025525  0.074065        -0.014875        0.985904   \n",
       "IS_LEGENDARY       ...  0.322155  0.308405         0.045222        0.196785   \n",
       "\n",
       "                   SP_ATTACK  SP_DEFENSE     SPEED  WEIGHT_KG  GENERATION  \\\n",
       "AGAINST_BUG         0.055352   -0.002342 -0.043802  -0.031909   -0.001549   \n",
       "AGAINST_DARK        0.170849    0.132507 -0.000326   0.038871   -0.016013   \n",
       "AGAINST_DRAGON      0.039739   -0.047416  0.078123   0.126003   -0.025201   \n",
       "AGAINST_ELECTRIC    0.022305    0.019193  0.111422  -0.102926   -0.063180   \n",
       "AGAINST_FAIRY      -0.010296    0.002754  0.065401   0.098523    0.150801   \n",
       "AGAINST_FIGHT      -0.118481   -0.044460 -0.050495   0.161564    0.000681   \n",
       "AGAINST_FIRE       -0.088578   -0.019520 -0.079129  -0.044124    0.061157   \n",
       "AGAINST_FLYING     -0.111243   -0.079022 -0.043381  -0.126744    0.058204   \n",
       "AGAINST_GHOST       0.233309    0.195439 -0.029007   0.047869    0.038027   \n",
       "AGAINST_GRASS      -0.093899   -0.056427 -0.153618   0.050129   -0.107987   \n",
       "AGAINST_GROUND      0.075511    0.058397 -0.082846   0.109210   -0.019672   \n",
       "AGAINST_ICE        -0.035767   -0.043342  0.056169   0.017336    0.026089   \n",
       "AGAINST_NORMAL     -0.037069   -0.111376  0.129555  -0.135808   -0.115024   \n",
       "AGAINST_POISON      0.050514   -0.006453  0.015357  -0.203886    0.085318   \n",
       "AGAINST_PSYCHIC    -0.127005   -0.093377 -0.037739  -0.088157   -0.095373   \n",
       "AGAINST_ROCK        0.074479   -0.014870  0.156703  -0.112743   -0.026864   \n",
       "AGAINST_STEEL      -0.076379    0.055443 -0.096497   0.016147    0.069460   \n",
       "AGAINST_WATER      -0.060562   -0.054123 -0.044726   0.121059   -0.061144   \n",
       "ATTACK              0.368154    0.265836  0.352703   0.382183    0.101375   \n",
       "BASE_EGG_STEPS      0.404477    0.335404  0.289447   0.443286    0.128941   \n",
       "BASE_HAPPINESS     -0.228924   -0.149719 -0.148753  -0.405840   -0.115974   \n",
       "BASE_TOTAL          0.741120    0.717434  0.547666   0.458111    0.084358   \n",
       "DEFENSE             0.241882    0.526348  0.007934   0.424067    0.057603   \n",
       "EXPERIENCE_GROWTH   0.201603    0.088806  0.144946   0.246108    0.052530   \n",
       "HEIGHT_M            0.353007    0.328327  0.202202   0.626551   -0.025525   \n",
       "HP                  0.365973    0.366971  0.160760   0.427743    0.074065   \n",
       "PERCENTAGE_MALE     0.102876    0.009703  0.056960   0.047131   -0.014875   \n",
       "POKEDEX_NUMBER      0.109285    0.093848  0.004294   0.123567    0.985904   \n",
       "SP_ATTACK           1.000000    0.511496  0.438981   0.245218    0.070146   \n",
       "SP_DEFENSE          0.511496    1.000000  0.225977   0.306523    0.048711   \n",
       "SPEED               0.438981    0.225977  1.000000   0.051384   -0.019914   \n",
       "WEIGHT_KG           0.245218    0.306523  0.051384   1.000000    0.085767   \n",
       "GENERATION          0.070146    0.048711 -0.019914   0.085767    1.000000   \n",
       "IS_LEGENDARY        0.406281    0.343241  0.311639   0.393023    0.139029   \n",
       "\n",
       "                   IS_LEGENDARY  \n",
       "AGAINST_BUG            0.027864  \n",
       "AGAINST_DARK           0.136315  \n",
       "AGAINST_DRAGON         0.014844  \n",
       "AGAINST_ELECTRIC      -0.023151  \n",
       "AGAINST_FAIRY          0.050165  \n",
       "AGAINST_FIGHT         -0.059132  \n",
       "AGAINST_FIRE          -0.011073  \n",
       "AGAINST_FLYING        -0.062214  \n",
       "AGAINST_GHOST          0.170746  \n",
       "AGAINST_GRASS         -0.070826  \n",
       "AGAINST_GROUND         0.012812  \n",
       "AGAINST_ICE            0.005580  \n",
       "AGAINST_NORMAL        -0.034761  \n",
       "AGAINST_POISON        -0.024349  \n",
       "AGAINST_PSYCHIC       -0.106047  \n",
       "AGAINST_ROCK          -0.017588  \n",
       "AGAINST_STEEL          0.001397  \n",
       "AGAINST_WATER         -0.020679  \n",
       "ATTACK                 0.303295  \n",
       "BASE_EGG_STEPS         0.873488  \n",
       "BASE_HAPPINESS        -0.413108  \n",
       "BASE_TOTAL             0.485440  \n",
       "DEFENSE                0.265587  \n",
       "EXPERIENCE_GROWTH      0.361038  \n",
       "HEIGHT_M               0.322155  \n",
       "HP                     0.308405  \n",
       "PERCENTAGE_MALE        0.045222  \n",
       "POKEDEX_NUMBER         0.196785  \n",
       "SP_ATTACK              0.406281  \n",
       "SP_DEFENSE             0.343241  \n",
       "SPEED                  0.311639  \n",
       "WEIGHT_KG              0.393023  \n",
       "GENERATION             0.139029  \n",
       "IS_LEGENDARY           1.000000  \n",
       "\n",
       "[34 rows x 34 columns]"
      ]
     },
     "execution_count": 13,
     "metadata": {},
     "output_type": "execute_result"
    }
   ],
   "source": [
    "df.corr()"
   ]
  },
  {
   "cell_type": "code",
   "execution_count": 14,
   "metadata": {},
   "outputs": [
    {
     "name": "stderr",
     "output_type": "stream",
     "text": [
      "/tmp/ipykernel_4579/2609764640.py:4: FutureWarning: The default value of numeric_only in DataFrame.corr is deprecated. In a future version, it will default to False. Select only valid columns or specify the value of numeric_only to silence this warning.\n",
      "  sns.heatmap(df.corr())\n"
     ]
    },
    {
     "data": {
      "text/plain": [
       "<AxesSubplot: >"
      ]
     },
     "execution_count": 14,
     "metadata": {},
     "output_type": "execute_result"
    },
    {
     "data": {
      "image/png": "[encoded data removed]",
      "text/plain": [
       "<Figure size 500x500 with 2 Axes>"
      ]
     },
     "metadata": {},
     "output_type": "display_data"
    }
   ],
   "source": [
    "#Heat map\n",
    "\n",
    "plt.figure(figsize=(5,5))\n",
    "sns.heatmap(df.corr())\n"
   ]
  },
  {
   "cell_type": "code",
   "execution_count": 15,
   "metadata": {},
   "outputs": [
    {
     "name": "stderr",
     "output_type": "stream",
     "text": [
      "/tmp/ipykernel_4579/1881863404.py:1: FutureWarning: The default value of numeric_only in DataFrame.corr is deprecated. In a future version, it will default to False. Select only valid columns or specify the value of numeric_only to silence this warning.\n",
      "  sns.heatmap(df.corr(),cmap=sns.cubehelix_palette(as_cmap=True))\n"
     ]
    },
    {
     "data": {
      "text/plain": [
       "<AxesSubplot: >"
      ]
     },
     "execution_count": 15,
     "metadata": {},
     "output_type": "execute_result"
    },
    {
     "data": {
      "image/png": "[encoded data removed]",
      "text/plain": [
       "<Figure size 640x480 with 2 Axes>"
      ]
     },
     "metadata": {},
     "output_type": "display_data"
    }
   ],
   "source": [
    "sns.heatmap(df.corr(),cmap=sns.cubehelix_palette(as_cmap=True))\n",
    "\n"
   ]
  },
  {
   "cell_type": "code",
   "execution_count": 16,
   "metadata": {},
   "outputs": [
    {
     "data": {
      "text/plain": [
       "<AxesSubplot: xlabel='TYPE2', ylabel='TYPE1'>"
      ]
     },
     "execution_count": 16,
     "metadata": {},
     "output_type": "execute_result"
    },
    {
     "data": {
      "image/png": "[encoded data removed]",
      "text/plain": [
       "<Figure size 800x800 with 2 Axes>"
      ]
     },
     "metadata": {},
     "output_type": "display_data"
    }
   ],
   "source": [
    "plt.figure(figsize=(8,8))\n",
    "\n",
    "sns.heatmap(\n",
    "    df[df['TYPE2']!='None'].groupby(['TYPE1', 'TYPE2']).size().unstack(),\n",
    "    linewidths=1,\n",
    "    annot=True,cmap=sns.cubehelix_palette(as_cmap=True)\n",
    ")"
   ]
  },
  {
   "cell_type": "code",
   "execution_count": 17,
   "metadata": {},
   "outputs": [
    {
     "data": {
      "text/plain": [
       "<seaborn.axisgrid.FacetGrid at 0x796b43b0ff10>"
      ]
     },
     "execution_count": 17,
     "metadata": {},
     "output_type": "execute_result"
    },
    {
     "data": {
      "image/png": "[encoded data removed]",
      "text/plain": [
       "<Figure size 732.319x600 with 1 Axes>"
      ]
     },
     "metadata": {},
     "output_type": "display_data"
    }
   ],
   "source": [
    "\n",
    "# Plot miles per gallon against horsepower with other semantics\n",
    "sns.relplot(x=\"DEFENSE\", y=\"ATTACK\", hue=\"GENERATION\", size=\"WEIGHT_KG\",\n",
    "            sizes=(40, 400), alpha=.5, palette=\"muted\",\n",
    "            height=6, data=df[df['GENERATION'].isin([1,7])])"
   ]
  },
  {
   "cell_type": "code",
   "execution_count": 18,
   "metadata": {},
   "outputs": [
    {
     "data": {
      "text/plain": [
       "<AxesSubplot: xlabel='GENERATION', ylabel='BASE_TOTAL'>"
      ]
     },
     "execution_count": 18,
     "metadata": {},
     "output_type": "execute_result"
    },
    {
     "data": {
      "image/png": "[encoded data removed]",
      "text/plain": [
       "<Figure size 2000x800 with 1 Axes>"
      ]
     },
     "metadata": {},
     "output_type": "display_data"
    }
   ],
   "source": [
    "plt.figure(figsize=(20,8))\n",
    "sns.boxplot(data=df, x=\"GENERATION\", y=\"BASE_TOTAL\", hue=\"IS_LEGENDARY\", palette=\"vlag\")"
   ]
  },
  {
   "cell_type": "code",
   "execution_count": 19,
   "metadata": {},
   "outputs": [
    {
     "data": {
      "text/plain": [
       "190    Sunkern\n",
       "Name: NAME, dtype: object"
      ]
     },
     "execution_count": 19,
     "metadata": {},
     "output_type": "execute_result"
    }
   ],
   "source": [
    "df[(df[\"GENERATION\"]==2) & (df[\"BASE_TOTAL\"]<200)][\"NAME\"]"
   ]
  },
  {
   "cell_type": "code",
   "execution_count": 20,
   "metadata": {},
   "outputs": [
    {
     "data": {
      "text/plain": [
       "<AxesSubplot: xlabel='TYPE1', ylabel='count'>"
      ]
     },
     "execution_count": 20,
     "metadata": {},
     "output_type": "execute_result"
    },
    {
     "data": {
      "image/png": "[encoded data removed]",
      "text/plain": [
       "<Figure size 2000x800 with 1 Axes>"
      ]
     },
     "metadata": {},
     "output_type": "display_data"
    }
   ],
   "source": [
    "plt.figure(figsize=(20,8))\n",
    "\n",
    "sns.countplot(x='TYPE1',data = df)"
   ]
  },
  {
   "cell_type": "code",
   "execution_count": 21,
   "metadata": {},
   "outputs": [
    {
     "data": {
      "text/plain": [
       "<seaborn.axisgrid.FacetGrid at 0x796b43856ee0>"
      ]
     },
     "execution_count": 21,
     "metadata": {},
     "output_type": "execute_result"
    },
    {
     "data": {
      "image/png": "[encoded data removed]",
      "text/plain": [
       "<Figure size 736.097x600 with 1 Axes>"
      ]
     },
     "metadata": {},
     "output_type": "display_data"
    }
   ],
   "source": [
    "# Diagramme en violon - catplot (kind=\"violin\")\n",
    "sns.set(style=\"whitegrid\")\n",
    "\n",
    "\n",
    "# Draw a nested barplot to show survival for class and sex\n",
    "g = sns.catplot(x=\"GENERATION\", y=\"HP\", hue=\"IS_LEGENDARY\", data=df,\n",
    "                height=6, kind=\"bar\", palette=\"muted\")\n",
    "g.despine(left=True)\n",
    "g.set_ylabels(\"HP\")"
   ]
  },
  {
   "cell_type": "code",
   "execution_count": 22,
   "metadata": {},
   "outputs": [
    {
     "data": {
      "image/png": "[encoded data removed]",
      "text/plain": [
       "<Figure size 640x480 with 1 Axes>"
      ]
     },
     "metadata": {},
     "output_type": "display_data"
    }
   ],
   "source": [
    "colours = [\"red\", \"blue\"]\n",
    "pokeLeg = df[df['IS_LEGENDARY']==True]\n",
    "pokeNon = df[df['IS_LEGENDARY']==False]\n",
    "\n",
    "legDist = [pokeLeg['NAME'].count(),pokeNon['NAME'].count()]\n",
    "legPie = plt.pie(legDist,\n",
    "                 labels= ['Legendary', 'Non Legendary'], \n",
    "                 autopct ='%1.1f%%', \n",
    "                 shadow = True,\n",
    "                 colors=colours,\n",
    "                 startangle = 45,\n",
    "                 explode=(0, 0.1))"
   ]
  },
  {
   "cell_type": "code",
   "execution_count": 23,
   "metadata": {},
   "outputs": [
    {
     "data": {
      "text/html": [
       "<div>\n",
       "<style scoped>\n",
       "    .dataframe tbody tr th:only-of-type {\n",
       "        vertical-align: middle;\n",
       "    }\n",
       "\n",
       "    .dataframe tbody tr th {\n",
       "        vertical-align: top;\n",
       "    }\n",
       "\n",
       "    .dataframe thead th {\n",
       "        text-align: right;\n",
       "    }\n",
       "</style>\n",
       "<table border=\"1\" class=\"dataframe\">\n",
       "  <thead>\n",
       "    <tr style=\"text-align: right;\">\n",
       "      <th></th>\n",
       "      <th>ABILITIES</th>\n",
       "      <th>AGAINST_BUG</th>\n",
       "      <th>AGAINST_DARK</th>\n",
       "      <th>AGAINST_DRAGON</th>\n",
       "      <th>AGAINST_ELECTRIC</th>\n",
       "      <th>AGAINST_FAIRY</th>\n",
       "      <th>AGAINST_FIGHT</th>\n",
       "      <th>AGAINST_FIRE</th>\n",
       "      <th>AGAINST_FLYING</th>\n",
       "      <th>AGAINST_GHOST</th>\n",
       "      <th>...</th>\n",
       "      <th>PERCENTAGE_MALE</th>\n",
       "      <th>POKEDEX_NUMBER</th>\n",
       "      <th>SP_ATTACK</th>\n",
       "      <th>SP_DEFENSE</th>\n",
       "      <th>SPEED</th>\n",
       "      <th>TYPE1</th>\n",
       "      <th>TYPE2</th>\n",
       "      <th>WEIGHT_KG</th>\n",
       "      <th>GENERATION</th>\n",
       "      <th>IS_LEGENDARY</th>\n",
       "    </tr>\n",
       "  </thead>\n",
       "  <tbody>\n",
       "    <tr>\n",
       "      <th>447</th>\n",
       "      <td>['Steadfast', 'Inner Focus', 'Justified']</td>\n",
       "      <td>0.25</td>\n",
       "      <td>0.5</td>\n",
       "      <td>0.5</td>\n",
       "      <td>1.0</td>\n",
       "      <td>1.0</td>\n",
       "      <td>2.0</td>\n",
       "      <td>2.0</td>\n",
       "      <td>1.0</td>\n",
       "      <td>1.0</td>\n",
       "      <td>...</td>\n",
       "      <td>88.1</td>\n",
       "      <td>448</td>\n",
       "      <td>140</td>\n",
       "      <td>70</td>\n",
       "      <td>112</td>\n",
       "      <td>Fighting</td>\n",
       "      <td>Steel</td>\n",
       "      <td>54.0</td>\n",
       "      <td>4</td>\n",
       "      <td>0</td>\n",
       "    </tr>\n",
       "  </tbody>\n",
       "</table>\n",
       "<p>1 rows × 41 columns</p>\n",
       "</div>"
      ],
      "text/plain": [
       "                                     ABILITIES  AGAINST_BUG  AGAINST_DARK  \\\n",
       "447  ['Steadfast', 'Inner Focus', 'Justified']         0.25           0.5   \n",
       "\n",
       "     AGAINST_DRAGON  AGAINST_ELECTRIC  AGAINST_FAIRY  AGAINST_FIGHT  \\\n",
       "447             0.5               1.0            1.0            2.0   \n",
       "\n",
       "     AGAINST_FIRE  AGAINST_FLYING  AGAINST_GHOST  ...  PERCENTAGE_MALE  \\\n",
       "447           2.0             1.0            1.0  ...             88.1   \n",
       "\n",
       "     POKEDEX_NUMBER  SP_ATTACK  SP_DEFENSE  SPEED     TYPE1  TYPE2  WEIGHT_KG  \\\n",
       "447             448        140          70    112  Fighting  Steel       54.0   \n",
       "\n",
       "     GENERATION  IS_LEGENDARY  \n",
       "447           4             0  \n",
       "\n",
       "[1 rows x 41 columns]"
      ]
     },
     "execution_count": 23,
     "metadata": {},
     "output_type": "execute_result"
    }
   ],
   "source": [
    "df[df['NAME']=='Lucario']"
   ]
  },
  {
   "cell_type": "code",
   "execution_count": 24,
   "metadata": {},
   "outputs": [
    {
     "name": "stdout",
     "output_type": "stream",
     "text": [
      "Requirement already satisfied: nbformat in /home/hugo/.local/lib/python3.9/site-packages (5.7.3)\n",
      "Collecting nbformat\n",
      "  Using cached nbformat-5.7.3-py3-none-any.whl (78 kB)\n",
      "  Downloading nbformat-5.7.2-py3-none-any.whl (78 kB)\n",
      "\u001b[K     |████████████████████████████████| 78 kB 893 kB/s eta 0:00:01\n",
      "\u001b[?25hRequirement already satisfied: fastjsonschema in /home/hugo/.local/lib/python3.9/site-packages (from nbformat) (2.16.2)\n",
      "Requirement already satisfied: jupyter-core in /home/hugo/.local/lib/python3.9/site-packages (from nbformat) (5.2.0)\n",
      "Requirement already satisfied: traitlets>=5.1 in /home/hugo/.local/lib/python3.9/site-packages (from nbformat) (5.9.0)\n",
      "Requirement already satisfied: jsonschema>=2.6 in /home/hugo/.local/lib/python3.9/site-packages (from nbformat) (4.17.3)\n",
      "Requirement already satisfied: attrs>=17.4.0 in /home/hugo/.local/lib/python3.9/site-packages (from jsonschema>=2.6->nbformat) (22.2.0)\n",
      "Requirement already satisfied: pyrsistent!=0.17.0,!=0.17.1,!=0.17.2,>=0.14.0 in /home/hugo/.local/lib/python3.9/site-packages (from jsonschema>=2.6->nbformat) (0.19.3)\n",
      "Requirement already satisfied: platformdirs>=2.5 in /home/hugo/.local/lib/python3.9/site-packages (from jupyter-core->nbformat) (2.6.2)\n"
     ]
    }
   ],
   "source": [
    "!pip install --upgrade nbformat"
   ]
  },
  {
   "cell_type": "code",
   "execution_count": 30,
   "metadata": {},
   "outputs": [
    {
     "name": "stderr",
     "output_type": "stream",
     "text": [
      "/home/hugo/.local/lib/python3.9/site-packages/plotly/express/_core.py:271: FutureWarning:\n",
      "\n",
      "The frame.append method is deprecated and will be removed from pandas in a future version. Use pandas.concat instead.\n",
      "\n"
     ]
    },
    {
     "data": {
      "application/vnd.plotly.v1+json": {
       "config": {
        "plotlyServerURL": "https://plot.ly"
       },
       "data": [
        {
         "hovertemplate": "r=%{r}<br>theta=%{theta}<extra></extra>",
         "legendgroup": "",
         "line": {
          "color": "#636efa",
          "dash": "solid"
         },
         "marker": {
          "symbol": "circle"
         },
         "mode": "lines",
         "name": "",
         "r": [
          145,
          88,
          70,
          140,
          70,
          145
         ],
         "showlegend": false,
         "subplot": "polar",
         "theta": [
          "ATTACK",
          "DEFENSE",
          "HP",
          "SP_ATTACK",
          "SP_DEFENSE",
          "ATTACK"
         ],
         "type": "scatterpolar"
        }
       ],
       "layout": {
        "height": 800,
        "legend": {
         "tracegroupgap": 0
        },
        "margin": {
         "t": 60
        },
        "polar": {
         "angularaxis": {
          "direction": "clockwise",
          "rotation": 90
         },
         "domain": {
          "x": [
           0,
           1
          ],
          "y": [
           0,
           1
          ]
         }
        },
        "template": {
         "data": {
          "bar": [
           {
            "error_x": {
             "color": "#2a3f5f"
            },
            "error_y": {
             "color": "#2a3f5f"
            },
            "marker": {
             "line": {
              "color": "#E5ECF6",
              "width": 0.5
             },
             "pattern": {
              "fillmode": "overlay",
              "size": 10,
              "solidity": 0.2
             }
            },
            "type": "bar"
           }
          ],
          "barpolar": [
           {
            "marker": {
             "line": {
              "color": "#E5ECF6",
              "width": 0.5
             },
             "pattern": {
              "fillmode": "overlay",
              "size": 10,
              "solidity": 0.2
             }
            },
            "type": "barpolar"
           }
          ],
          "carpet": [
           {
            "aaxis": {
             "endlinecolor": "#2a3f5f",
             "gridcolor": "white",
             "linecolor": "white",
             "minorgridcolor": "white",
             "startlinecolor": "#2a3f5f"
            },
            "baxis": {
             "endlinecolor": "#2a3f5f",
             "gridcolor": "white",
             "linecolor": "white",
             "minorgridcolor": "white",
             "startlinecolor": "#2a3f5f"
            },
            "type": "carpet"
           }
          ],
          "choropleth": [
           {
            "colorbar": {
             "outlinewidth": 0,
             "ticks": ""
            },
            "type": "choropleth"
           }
          ],
          "contour": [
           {
            "colorbar": {
             "outlinewidth": 0,
             "ticks": ""
            },
            "colorscale": [
             [
              0,
              "#0d0887"
             ],
             [
              0.1111111111111111,
              "#46039f"
             ],
             [
              0.2222222222222222,
              "#7201a8"
             ],
             [
              0.3333333333333333,
              "#9c179e"
             ],
             [
              0.4444444444444444,
              "#bd3786"
             ],
             [
              0.5555555555555556,
              "#d8576b"
             ],
             [
              0.6666666666666666,
              "#ed7953"
             ],
             [
              0.7777777777777778,
              "#fb9f3a"
             ],
             [
              0.8888888888888888,
              "#fdca26"
             ],
             [
              1,
              "#f0f921"
             ]
            ],
            "type": "contour"
           }
          ],
          "contourcarpet": [
           {
            "colorbar": {
             "outlinewidth": 0,
             "ticks": ""
            },
            "type": "contourcarpet"
           }
          ],
          "heatmap": [
           {
            "colorbar": {
             "outlinewidth": 0,
             "ticks": ""
            },
            "colorscale": [
             [
              0,
              "#0d0887"
             ],
             [
              0.1111111111111111,
              "#46039f"
             ],
             [
              0.2222222222222222,
              "#7201a8"
             ],
             [
              0.3333333333333333,
              "#9c179e"
             ],
             [
              0.4444444444444444,
              "#bd3786"
             ],
             [
              0.5555555555555556,
              "#d8576b"
             ],
             [
              0.6666666666666666,
              "#ed7953"
             ],
             [
              0.7777777777777778,
              "#fb9f3a"
             ],
             [
              0.8888888888888888,
              "#fdca26"
             ],
             [
              1,
              "#f0f921"
             ]
            ],
            "type": "heatmap"
           }
          ],
          "heatmapgl": [
           {
            "colorbar": {
             "outlinewidth": 0,
             "ticks": ""
            },
            "colorscale": [
             [
              0,
              "#0d0887"
             ],
             [
              0.1111111111111111,
              "#46039f"
             ],
             [
              0.2222222222222222,
              "#7201a8"
             ],
             [
              0.3333333333333333,
              "#9c179e"
             ],
             [
              0.4444444444444444,
              "#bd3786"
             ],
             [
              0.5555555555555556,
              "#d8576b"
             ],
             [
              0.6666666666666666,
              "#ed7953"
             ],
             [
              0.7777777777777778,
              "#fb9f3a"
             ],
             [
              0.8888888888888888,
              "#fdca26"
             ],
             [
              1,
              "#f0f921"
             ]
            ],
            "type": "heatmapgl"
           }
          ],
          "histogram": [
           {
            "marker": {
             "pattern": {
              "fillmode": "overlay",
              "size": 10,
              "solidity": 0.2
             }
            },
            "type": "histogram"
           }
          ],
          "histogram2d": [
           {
            "colorbar": {
             "outlinewidth": 0,
             "ticks": ""
            },
            "colorscale": [
             [
              0,
              "#0d0887"
             ],
             [
              0.1111111111111111,
              "#46039f"
             ],
             [
              0.2222222222222222,
              "#7201a8"
             ],
             [
              0.3333333333333333,
              "#9c179e"
             ],
             [
              0.4444444444444444,
              "#bd3786"
             ],
             [
              0.5555555555555556,
              "#d8576b"
             ],
             [
              0.6666666666666666,
              "#ed7953"
             ],
             [
              0.7777777777777778,
              "#fb9f3a"
             ],
             [
              0.8888888888888888,
              "#fdca26"
             ],
             [
              1,
              "#f0f921"
             ]
            ],
            "type": "histogram2d"
           }
          ],
          "histogram2dcontour": [
           {
            "colorbar": {
             "outlinewidth": 0,
             "ticks": ""
            },
            "colorscale": [
             [
              0,
              "#0d0887"
             ],
             [
              0.1111111111111111,
              "#46039f"
             ],
             [
              0.2222222222222222,
              "#7201a8"
             ],
             [
              0.3333333333333333,
              "#9c179e"
             ],
             [
              0.4444444444444444,
              "#bd3786"
             ],
             [
              0.5555555555555556,
              "#d8576b"
             ],
             [
              0.6666666666666666,
              "#ed7953"
             ],
             [
              0.7777777777777778,
              "#fb9f3a"
             ],
             [
              0.8888888888888888,
              "#fdca26"
             ],
             [
              1,
              "#f0f921"
             ]
            ],
            "type": "histogram2dcontour"
           }
          ],
          "mesh3d": [
           {
            "colorbar": {
             "outlinewidth": 0,
             "ticks": ""
            },
            "type": "mesh3d"
           }
          ],
          "parcoords": [
           {
            "line": {
             "colorbar": {
              "outlinewidth": 0,
              "ticks": ""
             }
            },
            "type": "parcoords"
           }
          ],
          "pie": [
           {
            "automargin": true,
            "type": "pie"
           }
          ],
          "scatter": [
           {
            "fillpattern": {
             "fillmode": "overlay",
             "size": 10,
             "solidity": 0.2
            },
            "type": "scatter"
           }
          ],
          "scatter3d": [
           {
            "line": {
             "colorbar": {
              "outlinewidth": 0,
              "ticks": ""
             }
            },
            "marker": {
             "colorbar": {
              "outlinewidth": 0,
              "ticks": ""
             }
            },
            "type": "scatter3d"
           }
          ],
          "scattercarpet": [
           {
            "marker": {
             "colorbar": {
              "outlinewidth": 0,
              "ticks": ""
             }
            },
            "type": "scattercarpet"
           }
          ],
          "scattergeo": [
           {
            "marker": {
             "colorbar": {
              "outlinewidth": 0,
              "ticks": ""
             }
            },
            "type": "scattergeo"
           }
          ],
          "scattergl": [
           {
            "marker": {
             "colorbar": {
              "outlinewidth": 0,
              "ticks": ""
             }
            },
            "type": "scattergl"
           }
          ],
          "scattermapbox": [
           {
            "marker": {
             "colorbar": {
              "outlinewidth": 0,
              "ticks": ""
             }
            },
            "type": "scattermapbox"
           }
          ],
          "scatterpolar": [
           {
            "marker": {
             "colorbar": {
              "outlinewidth": 0,
              "ticks": ""
             }
            },
            "type": "scatterpolar"
           }
          ],
          "scatterpolargl": [
           {
            "marker": {
             "colorbar": {
              "outlinewidth": 0,
              "ticks": ""
             }
            },
            "type": "scatterpolargl"
           }
          ],
          "scatterternary": [
           {
            "marker": {
             "colorbar": {
              "outlinewidth": 0,
              "ticks": ""
             }
            },
            "type": "scatterternary"
           }
          ],
          "surface": [
           {
            "colorbar": {
             "outlinewidth": 0,
             "ticks": ""
            },
            "colorscale": [
             [
              0,
              "#0d0887"
             ],
             [
              0.1111111111111111,
              "#46039f"
             ],
             [
              0.2222222222222222,
              "#7201a8"
             ],
             [
              0.3333333333333333,
              "#9c179e"
             ],
             [
              0.4444444444444444,
              "#bd3786"
             ],
             [
              0.5555555555555556,
              "#d8576b"
             ],
             [
              0.6666666666666666,
              "#ed7953"
             ],
             [
              0.7777777777777778,
              "#fb9f3a"
             ],
             [
              0.8888888888888888,
              "#fdca26"
             ],
             [
              1,
              "#f0f921"
             ]
            ],
            "type": "surface"
           }
          ],
          "table": [
           {
            "cells": {
             "fill": {
              "color": "#EBF0F8"
             },
             "line": {
              "color": "white"
             }
            },
            "header": {
             "fill": {
              "color": "#C8D4E3"
             },
             "line": {
              "color": "white"
             }
            },
            "type": "table"
           }
          ]
         },
         "layout": {
          "annotationdefaults": {
           "arrowcolor": "#2a3f5f",
           "arrowhead": 0,
           "arrowwidth": 1
          },
          "autotypenumbers": "strict",
          "coloraxis": {
           "colorbar": {
            "outlinewidth": 0,
            "ticks": ""
           }
          },
          "colorscale": {
           "diverging": [
            [
             0,
             "#8e0152"
            ],
            [
             0.1,
             "#c51b7d"
            ],
            [
             0.2,
             "#de77ae"
            ],
            [
             0.3,
             "#f1b6da"
            ],
            [
             0.4,
             "#fde0ef"
            ],
            [
             0.5,
             "#f7f7f7"
            ],
            [
             0.6,
             "#e6f5d0"
            ],
            [
             0.7,
             "#b8e186"
            ],
            [
             0.8,
             "#7fbc41"
            ],
            [
             0.9,
             "#4d9221"
            ],
            [
             1,
             "#276419"
            ]
           ],
           "sequential": [
            [
             0,
             "#0d0887"
            ],
            [
             0.1111111111111111,
             "#46039f"
            ],
            [
             0.2222222222222222,
             "#7201a8"
            ],
            [
             0.3333333333333333,
             "#9c179e"
            ],
            [
             0.4444444444444444,
             "#bd3786"
            ],
            [
             0.5555555555555556,
             "#d8576b"
            ],
            [
             0.6666666666666666,
             "#ed7953"
            ],
            [
             0.7777777777777778,
             "#fb9f3a"
            ],
            [
             0.8888888888888888,
             "#fdca26"
            ],
            [
             1,
             "#f0f921"
            ]
           ],
           "sequentialminus": [
            [
             0,
             "#0d0887"
            ],
            [
             0.1111111111111111,
             "#46039f"
            ],
            [
             0.2222222222222222,
             "#7201a8"
            ],
            [
             0.3333333333333333,
             "#9c179e"
            ],
            [
             0.4444444444444444,
             "#bd3786"
            ],
            [
             0.5555555555555556,
             "#d8576b"
            ],
            [
             0.6666666666666666,
             "#ed7953"
            ],
            [
             0.7777777777777778,
             "#fb9f3a"
            ],
            [
             0.8888888888888888,
             "#fdca26"
            ],
            [
             1,
             "#f0f921"
            ]
           ]
          },
          "colorway": [
           "#636efa",
           "#EF553B",
           "#00cc96",
           "#ab63fa",
           "#FFA15A",
           "#19d3f3",
           "#FF6692",
           "#B6E880",
           "#FF97FF",
           "#FECB52"
          ],
          "font": {
           "color": "#2a3f5f"
          },
          "geo": {
           "bgcolor": "white",
           "lakecolor": "white",
           "landcolor": "#E5ECF6",
           "showlakes": true,
           "showland": true,
           "subunitcolor": "white"
          },
          "hoverlabel": {
           "align": "left"
          },
          "hovermode": "closest",
          "mapbox": {
           "style": "light"
          },
          "paper_bgcolor": "white",
          "plot_bgcolor": "#E5ECF6",
          "polar": {
           "angularaxis": {
            "gridcolor": "white",
            "linecolor": "white",
            "ticks": ""
           },
           "bgcolor": "#E5ECF6",
           "radialaxis": {
            "gridcolor": "white",
            "linecolor": "white",
            "ticks": ""
           }
          },
          "scene": {
           "xaxis": {
            "backgroundcolor": "#E5ECF6",
            "gridcolor": "white",
            "gridwidth": 2,
            "linecolor": "white",
            "showbackground": true,
            "ticks": "",
            "zerolinecolor": "white"
           },
           "yaxis": {
            "backgroundcolor": "#E5ECF6",
            "gridcolor": "white",
            "gridwidth": 2,
            "linecolor": "white",
            "showbackground": true,
            "ticks": "",
            "zerolinecolor": "white"
           },
           "zaxis": {
            "backgroundcolor": "#E5ECF6",
            "gridcolor": "white",
            "gridwidth": 2,
            "linecolor": "white",
            "showbackground": true,
            "ticks": "",
            "zerolinecolor": "white"
           }
          },
          "shapedefaults": {
           "line": {
            "color": "#2a3f5f"
           }
          },
          "ternary": {
           "aaxis": {
            "gridcolor": "white",
            "linecolor": "white",
            "ticks": ""
           },
           "baxis": {
            "gridcolor": "white",
            "linecolor": "white",
            "ticks": ""
           },
           "bgcolor": "#E5ECF6",
           "caxis": {
            "gridcolor": "white",
            "linecolor": "white",
            "ticks": ""
           }
          },
          "title": {
           "x": 0.05
          },
          "xaxis": {
           "automargin": true,
           "gridcolor": "white",
           "linecolor": "white",
           "ticks": "",
           "title": {
            "standoff": 15
           },
           "zerolinecolor": "white",
           "zerolinewidth": 2
          },
          "yaxis": {
           "automargin": true,
           "gridcolor": "white",
           "linecolor": "white",
           "ticks": "",
           "title": {
            "standoff": 15
           },
           "zerolinecolor": "white",
           "zerolinewidth": 2
          }
         }
        },
        "title": {
         "text": "Lucario"
        }
       }
      }
     },
     "metadata": {},
     "output_type": "display_data"
    }
   ],
   "source": [
    "import plotly.express as px\n",
    "dict_tmp = df[['ATTACK','DEFENSE','HP','SP_ATTACK','SP_DEFENSE']].iloc[447].to_dict()\n",
    "dict(r=list(dict_tmp.values()),theta=list(dict_tmp.keys()))\n",
    "\n",
    "dict(\n",
    "    r=[1, 5, 2, 2, 3],\n",
    "    theta=['processing cost','mechanical properties','chemical stability',\n",
    "           'thermal stability', 'device integration'])\n",
    "           \n",
    "fig = px.line_polar(pd.DataFrame(dict(r=list(dict_tmp.values()),theta=list(dict_tmp.keys()))), r='r', theta='theta', line_close=True)\n",
    "fig.update_layout(\n",
    "    height=800,\n",
    "    title_text=df.iloc[447].NAME\n",
    ")\n",
    "fig.show()\n",
    "     \n"
   ]
  },
  {
   "cell_type": "code",
   "execution_count": 33,
   "metadata": {},
   "outputs": [
    {
     "data": {
      "application/vnd.plotly.v1+json": {
       "config": {
        "plotlyServerURL": "https://plot.ly"
       },
       "data": [
        {
         "customdata": [
          [
           0,
           "Bulbasaur"
          ],
          [
           0,
           "Ivysaur"
          ],
          [
           0,
           "Venusaur"
          ],
          [
           0,
           "Charmander"
          ],
          [
           0,
           "Charmeleon"
          ],
          [
           0,
           "Charizard"
          ],
          [
           0,
           "Squirtle"
          ],
          [
           0,
           "Wartortle"
          ],
          [
           0,
           "Blastoise"
          ],
          [
           0,
           "Caterpie"
          ],
          [
           0,
           "Metapod"
          ],
          [
           0,
           "Butterfree"
          ],
          [
           0,
           "Weedle"
          ],
          [
           0,
           "Kakuna"
          ],
          [
           0,
           "Beedrill"
          ],
          [
           0,
           "Pidgey"
          ],
          [
           0,
           "Pidgeotto"
          ],
          [
           0,
           "Pidgeot"
          ],
          [
           0,
           "Rattata"
          ],
          [
           0,
           "Raticate"
          ],
          [
           0,
           "Spearow"
          ],
          [
           0,
           "Fearow"
          ],
          [
           0,
           "Ekans"
          ],
          [
           0,
           "Arbok"
          ],
          [
           0,
           "Pikachu"
          ],
          [
           0,
           "Raichu"
          ],
          [
           0,
           "Sandshrew"
          ],
          [
           0,
           "Sandslash"
          ],
          [
           0,
           "Nidoran♀"
          ],
          [
           0,
           "Nidorina"
          ],
          [
           0,
           "Nidoqueen"
          ],
          [
           0,
           "Nidoran♂"
          ],
          [
           0,
           "Nidorino"
          ],
          [
           0,
           "Nidoking"
          ],
          [
           0,
           "Clefairy"
          ],
          [
           0,
           "Clefable"
          ],
          [
           0,
           "Vulpix"
          ],
          [
           0,
           "Ninetales"
          ],
          [
           0,
           "Jigglypuff"
          ],
          [
           0,
           "Wigglytuff"
          ],
          [
           0,
           "Zubat"
          ],
          [
           0,
           "Golbat"
          ],
          [
           0,
           "Oddish"
          ],
          [
           0,
           "Gloom"
          ],
          [
           0,
           "Vileplume"
          ],
          [
           0,
           "Paras"
          ],
          [
           0,
           "Parasect"
          ],
          [
           0,
           "Venonat"
          ],
          [
           0,
           "Venomoth"
          ],
          [
           0,
           "Diglett"
          ],
          [
           0,
           "Dugtrio"
          ],
          [
           0,
           "Meowth"
          ],
          [
           0,
           "Persian"
          ],
          [
           0,
           "Psyduck"
          ],
          [
           0,
           "Golduck"
          ],
          [
           0,
           "Mankey"
          ],
          [
           0,
           "Primeape"
          ],
          [
           0,
           "Growlithe"
          ],
          [
           0,
           "Arcanine"
          ],
          [
           0,
           "Poliwag"
          ],
          [
           0,
           "Poliwhirl"
          ],
          [
           0,
           "Poliwrath"
          ],
          [
           0,
           "Abra"
          ],
          [
           0,
           "Kadabra"
          ],
          [
           0,
           "Alakazam"
          ],
          [
           0,
           "Machop"
          ],
          [
           0,
           "Machoke"
          ],
          [
           0,
           "Machamp"
          ],
          [
           0,
           "Bellsprout"
          ],
          [
           0,
           "Weepinbell"
          ],
          [
           0,
           "Victreebel"
          ],
          [
           0,
           "Tentacool"
          ],
          [
           0,
           "Tentacruel"
          ],
          [
           0,
           "Geodude"
          ],
          [
           0,
           "Graveler"
          ],
          [
           0,
           "Golem"
          ],
          [
           0,
           "Ponyta"
          ],
          [
           0,
           "Rapidash"
          ],
          [
           0,
           "Slowpoke"
          ],
          [
           0,
           "Slowbro"
          ],
          [
           0,
           "Magnemite"
          ],
          [
           0,
           "Magneton"
          ],
          [
           0,
           "Farfetch'd"
          ],
          [
           0,
           "Doduo"
          ],
          [
           0,
           "Dodrio"
          ],
          [
           0,
           "Seel"
          ],
          [
           0,
           "Dewgong"
          ],
          [
           0,
           "Grimer"
          ],
          [
           0,
           "Muk"
          ],
          [
           0,
           "Shellder"
          ],
          [
           0,
           "Cloyster"
          ],
          [
           0,
           "Gastly"
          ],
          [
           0,
           "Haunter"
          ],
          [
           0,
           "Gengar"
          ],
          [
           0,
           "Onix"
          ],
          [
           0,
           "Drowzee"
          ],
          [
           0,
           "Hypno"
          ],
          [
           0,
           "Krabby"
          ],
          [
           0,
           "Kingler"
          ],
          [
           0,
           "Voltorb"
          ],
          [
           0,
           "Electrode"
          ],
          [
           0,
           "Exeggcute"
          ],
          [
           0,
           "Exeggutor"
          ],
          [
           0,
           "Cubone"
          ],
          [
           0,
           "Marowak"
          ],
          [
           0,
           "Hitmonlee"
          ],
          [
           0,
           "Hitmonchan"
          ],
          [
           0,
           "Lickitung"
          ],
          [
           0,
           "Koffing"
          ],
          [
           0,
           "Weezing"
          ],
          [
           0,
           "Rhyhorn"
          ],
          [
           0,
           "Rhydon"
          ],
          [
           0,
           "Chansey"
          ],
          [
           0,
           "Tangela"
          ],
          [
           0,
           "Kangaskhan"
          ],
          [
           0,
           "Horsea"
          ],
          [
           0,
           "Seadra"
          ],
          [
           0,
           "Goldeen"
          ],
          [
           0,
           "Seaking"
          ],
          [
           0,
           "Staryu"
          ],
          [
           0,
           "Starmie"
          ],
          [
           0,
           "Mr. Mime"
          ],
          [
           0,
           "Scyther"
          ],
          [
           0,
           "Jynx"
          ],
          [
           0,
           "Electabuzz"
          ],
          [
           0,
           "Magmar"
          ],
          [
           0,
           "Pinsir"
          ],
          [
           0,
           "Tauros"
          ],
          [
           0,
           "Magikarp"
          ],
          [
           0,
           "Gyarados"
          ],
          [
           0,
           "Lapras"
          ],
          [
           0,
           "Ditto"
          ],
          [
           0,
           "Eevee"
          ],
          [
           0,
           "Vaporeon"
          ],
          [
           0,
           "Jolteon"
          ],
          [
           0,
           "Flareon"
          ],
          [
           0,
           "Porygon"
          ],
          [
           0,
           "Omanyte"
          ],
          [
           0,
           "Omastar"
          ],
          [
           0,
           "Kabuto"
          ],
          [
           0,
           "Kabutops"
          ],
          [
           0,
           "Aerodactyl"
          ],
          [
           0,
           "Snorlax"
          ],
          [
           1,
           "Articuno"
          ],
          [
           1,
           "Zapdos"
          ],
          [
           1,
           "Moltres"
          ],
          [
           0,
           "Dratini"
          ],
          [
           0,
           "Dragonair"
          ],
          [
           0,
           "Dragonite"
          ],
          [
           1,
           "Mewtwo"
          ],
          [
           1,
           "Mew"
          ],
          [
           0,
           "Chikorita"
          ],
          [
           0,
           "Bayleef"
          ],
          [
           0,
           "Meganium"
          ],
          [
           0,
           "Cyndaquil"
          ],
          [
           0,
           "Quilava"
          ],
          [
           0,
           "Typhlosion"
          ],
          [
           0,
           "Totodile"
          ],
          [
           0,
           "Croconaw"
          ],
          [
           0,
           "Feraligatr"
          ],
          [
           0,
           "Sentret"
          ],
          [
           0,
           "Furret"
          ],
          [
           0,
           "Hoothoot"
          ],
          [
           0,
           "Noctowl"
          ],
          [
           0,
           "Ledyba"
          ],
          [
           0,
           "Ledian"
          ],
          [
           0,
           "Spinarak"
          ],
          [
           0,
           "Ariados"
          ],
          [
           0,
           "Crobat"
          ],
          [
           0,
           "Chinchou"
          ],
          [
           0,
           "Lanturn"
          ],
          [
           0,
           "Pichu"
          ],
          [
           0,
           "Cleffa"
          ],
          [
           0,
           "Igglybuff"
          ],
          [
           0,
           "Togepi"
          ],
          [
           0,
           "Togetic"
          ],
          [
           0,
           "Natu"
          ],
          [
           0,
           "Xatu"
          ],
          [
           0,
           "Mareep"
          ],
          [
           0,
           "Flaaffy"
          ],
          [
           0,
           "Ampharos"
          ],
          [
           0,
           "Bellossom"
          ],
          [
           0,
           "Marill"
          ],
          [
           0,
           "Azumarill"
          ],
          [
           0,
           "Sudowoodo"
          ],
          [
           0,
           "Politoed"
          ],
          [
           0,
           "Hoppip"
          ],
          [
           0,
           "Skiploom"
          ],
          [
           0,
           "Jumpluff"
          ],
          [
           0,
           "Aipom"
          ],
          [
           0,
           "Sunkern"
          ],
          [
           0,
           "Sunflora"
          ],
          [
           0,
           "Yanma"
          ],
          [
           0,
           "Wooper"
          ],
          [
           0,
           "Quagsire"
          ],
          [
           0,
           "Espeon"
          ],
          [
           0,
           "Umbreon"
          ],
          [
           0,
           "Murkrow"
          ],
          [
           0,
           "Slowking"
          ],
          [
           0,
           "Misdreavus"
          ],
          [
           0,
           "Unown"
          ],
          [
           0,
           "Wobbuffet"
          ],
          [
           0,
           "Girafarig"
          ],
          [
           0,
           "Pineco"
          ],
          [
           0,
           "Forretress"
          ],
          [
           0,
           "Dunsparce"
          ],
          [
           0,
           "Gligar"
          ],
          [
           0,
           "Steelix"
          ],
          [
           0,
           "Snubbull"
          ],
          [
           0,
           "Granbull"
          ],
          [
           0,
           "Qwilfish"
          ],
          [
           0,
           "Scizor"
          ],
          [
           0,
           "Shuckle"
          ],
          [
           0,
           "Heracross"
          ],
          [
           0,
           "Sneasel"
          ],
          [
           0,
           "Teddiursa"
          ],
          [
           0,
           "Ursaring"
          ],
          [
           0,
           "Slugma"
          ],
          [
           0,
           "Magcargo"
          ],
          [
           0,
           "Swinub"
          ],
          [
           0,
           "Piloswine"
          ],
          [
           0,
           "Corsola"
          ],
          [
           0,
           "Remoraid"
          ],
          [
           0,
           "Octillery"
          ],
          [
           0,
           "Delibird"
          ],
          [
           0,
           "Mantine"
          ],
          [
           0,
           "Skarmory"
          ],
          [
           0,
           "Houndour"
          ],
          [
           0,
           "Houndoom"
          ],
          [
           0,
           "Kingdra"
          ],
          [
           0,
           "Phanpy"
          ],
          [
           0,
           "Donphan"
          ],
          [
           0,
           "Porygon2"
          ],
          [
           0,
           "Stantler"
          ],
          [
           0,
           "Smeargle"
          ],
          [
           0,
           "Tyrogue"
          ],
          [
           0,
           "Hitmontop"
          ],
          [
           0,
           "Smoochum"
          ],
          [
           0,
           "Elekid"
          ],
          [
           0,
           "Magby"
          ],
          [
           0,
           "Miltank"
          ],
          [
           0,
           "Blissey"
          ],
          [
           1,
           "Raikou"
          ],
          [
           1,
           "Entei"
          ],
          [
           1,
           "Suicune"
          ],
          [
           0,
           "Larvitar"
          ],
          [
           0,
           "Pupitar"
          ],
          [
           0,
           "Tyranitar"
          ],
          [
           1,
           "Lugia"
          ],
          [
           1,
           "Ho-Oh"
          ],
          [
           1,
           "Celebi"
          ],
          [
           0,
           "Treecko"
          ],
          [
           0,
           "Grovyle"
          ],
          [
           0,
           "Sceptile"
          ],
          [
           0,
           "Torchic"
          ],
          [
           0,
           "Combusken"
          ],
          [
           0,
           "Blaziken"
          ],
          [
           0,
           "Mudkip"
          ],
          [
           0,
           "Marshtomp"
          ],
          [
           0,
           "Swampert"
          ],
          [
           0,
           "Poochyena"
          ],
          [
           0,
           "Mightyena"
          ],
          [
           0,
           "Zigzagoon"
          ],
          [
           0,
           "Linoone"
          ],
          [
           0,
           "Wurmple"
          ],
          [
           0,
           "Silcoon"
          ],
          [
           0,
           "Beautifly"
          ],
          [
           0,
           "Cascoon"
          ],
          [
           0,
           "Dustox"
          ],
          [
           0,
           "Lotad"
          ],
          [
           0,
           "Lombre"
          ],
          [
           0,
           "Ludicolo"
          ],
          [
           0,
           "Seedot"
          ],
          [
           0,
           "Nuzleaf"
          ],
          [
           0,
           "Shiftry"
          ],
          [
           0,
           "Taillow"
          ],
          [
           0,
           "Swellow"
          ],
          [
           0,
           "Wingull"
          ],
          [
           0,
           "Pelipper"
          ],
          [
           0,
           "Ralts"
          ],
          [
           0,
           "Kirlia"
          ],
          [
           0,
           "Gardevoir"
          ],
          [
           0,
           "Surskit"
          ],
          [
           0,
           "Masquerain"
          ],
          [
           0,
           "Shroomish"
          ],
          [
           0,
           "Breloom"
          ],
          [
           0,
           "Slakoth"
          ],
          [
           0,
           "Vigoroth"
          ],
          [
           0,
           "Slaking"
          ],
          [
           0,
           "Nincada"
          ],
          [
           0,
           "Ninjask"
          ],
          [
           0,
           "Shedinja"
          ],
          [
           0,
           "Whismur"
          ],
          [
           0,
           "Loudred"
          ],
          [
           0,
           "Exploud"
          ],
          [
           0,
           "Makuhita"
          ],
          [
           0,
           "Hariyama"
          ],
          [
           0,
           "Azurill"
          ],
          [
           0,
           "Nosepass"
          ],
          [
           0,
           "Skitty"
          ],
          [
           0,
           "Delcatty"
          ],
          [
           0,
           "Sableye"
          ],
          [
           0,
           "Mawile"
          ],
          [
           0,
           "Aron"
          ],
          [
           0,
           "Lairon"
          ],
          [
           0,
           "Aggron"
          ],
          [
           0,
           "Meditite"
          ],
          [
           0,
           "Medicham"
          ],
          [
           0,
           "Electrike"
          ],
          [
           0,
           "Manectric"
          ],
          [
           0,
           "Plusle"
          ],
          [
           0,
           "Minun"
          ],
          [
           0,
           "Volbeat"
          ],
          [
           0,
           "Illumise"
          ],
          [
           0,
           "Roselia"
          ],
          [
           0,
           "Gulpin"
          ],
          [
           0,
           "Swalot"
          ],
          [
           0,
           "Carvanha"
          ],
          [
           0,
           "Sharpedo"
          ],
          [
           0,
           "Wailmer"
          ],
          [
           0,
           "Wailord"
          ],
          [
           0,
           "Numel"
          ],
          [
           0,
           "Camerupt"
          ],
          [
           0,
           "Torkoal"
          ],
          [
           0,
           "Spoink"
          ],
          [
           0,
           "Grumpig"
          ],
          [
           0,
           "Spinda"
          ],
          [
           0,
           "Trapinch"
          ],
          [
           0,
           "Vibrava"
          ],
          [
           0,
           "Flygon"
          ],
          [
           0,
           "Cacnea"
          ],
          [
           0,
           "Cacturne"
          ],
          [
           0,
           "Swablu"
          ],
          [
           0,
           "Altaria"
          ],
          [
           0,
           "Zangoose"
          ],
          [
           0,
           "Seviper"
          ],
          [
           0,
           "Lunatone"
          ],
          [
           0,
           "Solrock"
          ],
          [
           0,
           "Barboach"
          ],
          [
           0,
           "Whiscash"
          ],
          [
           0,
           "Corphish"
          ],
          [
           0,
           "Crawdaunt"
          ],
          [
           0,
           "Baltoy"
          ],
          [
           0,
           "Claydol"
          ],
          [
           0,
           "Lileep"
          ],
          [
           0,
           "Cradily"
          ],
          [
           0,
           "Anorith"
          ],
          [
           0,
           "Armaldo"
          ],
          [
           0,
           "Feebas"
          ],
          [
           0,
           "Milotic"
          ],
          [
           0,
           "Castform"
          ],
          [
           0,
           "Kecleon"
          ],
          [
           0,
           "Shuppet"
          ],
          [
           0,
           "Banette"
          ],
          [
           0,
           "Duskull"
          ],
          [
           0,
           "Dusclops"
          ],
          [
           0,
           "Tropius"
          ],
          [
           0,
           "Chimecho"
          ],
          [
           0,
           "Absol"
          ],
          [
           0,
           "Wynaut"
          ],
          [
           0,
           "Snorunt"
          ],
          [
           0,
           "Glalie"
          ],
          [
           0,
           "Spheal"
          ],
          [
           0,
           "Sealeo"
          ],
          [
           0,
           "Walrein"
          ],
          [
           0,
           "Clamperl"
          ],
          [
           0,
           "Huntail"
          ],
          [
           0,
           "Gorebyss"
          ],
          [
           0,
           "Relicanth"
          ],
          [
           0,
           "Luvdisc"
          ],
          [
           0,
           "Bagon"
          ],
          [
           0,
           "Shelgon"
          ],
          [
           0,
           "Salamence"
          ],
          [
           0,
           "Beldum"
          ],
          [
           0,
           "Metang"
          ],
          [
           0,
           "Metagross"
          ],
          [
           1,
           "Regirock"
          ],
          [
           1,
           "Regice"
          ],
          [
           1,
           "Registeel"
          ],
          [
           1,
           "Latias"
          ],
          [
           1,
           "Latios"
          ],
          [
           1,
           "Kyogre"
          ],
          [
           1,
           "Groudon"
          ],
          [
           1,
           "Rayquaza"
          ],
          [
           1,
           "Jirachi"
          ],
          [
           1,
           "Deoxys"
          ],
          [
           0,
           "Turtwig"
          ],
          [
           0,
           "Grotle"
          ],
          [
           0,
           "Torterra"
          ],
          [
           0,
           "Chimchar"
          ],
          [
           0,
           "Monferno"
          ],
          [
           0,
           "Infernape"
          ],
          [
           0,
           "Piplup"
          ],
          [
           0,
           "Prinplup"
          ],
          [
           0,
           "Empoleon"
          ],
          [
           0,
           "Starly"
          ],
          [
           0,
           "Staravia"
          ],
          [
           0,
           "Staraptor"
          ],
          [
           0,
           "Bidoof"
          ],
          [
           0,
           "Bibarel"
          ],
          [
           0,
           "Kricketot"
          ],
          [
           0,
           "Kricketune"
          ],
          [
           0,
           "Shinx"
          ],
          [
           0,
           "Luxio"
          ],
          [
           0,
           "Luxray"
          ],
          [
           0,
           "Budew"
          ],
          [
           0,
           "Roserade"
          ],
          [
           0,
           "Cranidos"
          ],
          [
           0,
           "Rampardos"
          ],
          [
           0,
           "Shieldon"
          ],
          [
           0,
           "Bastiodon"
          ],
          [
           0,
           "Burmy"
          ],
          [
           0,
           "Wormadam"
          ],
          [
           0,
           "Mothim"
          ],
          [
           0,
           "Combee"
          ],
          [
           0,
           "Vespiquen"
          ],
          [
           0,
           "Pachirisu"
          ],
          [
           0,
           "Buizel"
          ],
          [
           0,
           "Floatzel"
          ],
          [
           0,
           "Cherubi"
          ],
          [
           0,
           "Cherrim"
          ],
          [
           0,
           "Shellos"
          ],
          [
           0,
           "Gastrodon"
          ],
          [
           0,
           "Ambipom"
          ],
          [
           0,
           "Drifloon"
          ],
          [
           0,
           "Drifblim"
          ],
          [
           0,
           "Buneary"
          ],
          [
           0,
           "Lopunny"
          ],
          [
           0,
           "Mismagius"
          ],
          [
           0,
           "Honchkrow"
          ],
          [
           0,
           "Glameow"
          ],
          [
           0,
           "Purugly"
          ],
          [
           0,
           "Chingling"
          ],
          [
           0,
           "Stunky"
          ],
          [
           0,
           "Skuntank"
          ],
          [
           0,
           "Bronzor"
          ],
          [
           0,
           "Bronzong"
          ],
          [
           0,
           "Bonsly"
          ],
          [
           0,
           "Mime Jr."
          ],
          [
           0,
           "Happiny"
          ],
          [
           0,
           "Chatot"
          ],
          [
           0,
           "Spiritomb"
          ],
          [
           0,
           "Gible"
          ],
          [
           0,
           "Gabite"
          ],
          [
           0,
           "Garchomp"
          ],
          [
           0,
           "Munchlax"
          ],
          [
           0,
           "Riolu"
          ],
          [
           0,
           "Lucario"
          ],
          [
           0,
           "Hippopotas"
          ],
          [
           0,
           "Hippowdon"
          ],
          [
           0,
           "Skorupi"
          ],
          [
           0,
           "Drapion"
          ],
          [
           0,
           "Croagunk"
          ],
          [
           0,
           "Toxicroak"
          ],
          [
           0,
           "Carnivine"
          ],
          [
           0,
           "Finneon"
          ],
          [
           0,
           "Lumineon"
          ],
          [
           0,
           "Mantyke"
          ],
          [
           0,
           "Snover"
          ],
          [
           0,
           "Abomasnow"
          ],
          [
           0,
           "Weavile"
          ],
          [
           0,
           "Magnezone"
          ],
          [
           0,
           "Lickilicky"
          ],
          [
           0,
           "Rhyperior"
          ],
          [
           0,
           "Tangrowth"
          ],
          [
           0,
           "Electivire"
          ],
          [
           0,
           "Magmortar"
          ],
          [
           0,
           "Togekiss"
          ],
          [
           0,
           "Yanmega"
          ],
          [
           0,
           "Leafeon"
          ],
          [
           0,
           "Glaceon"
          ],
          [
           0,
           "Gliscor"
          ],
          [
           0,
           "Mamoswine"
          ],
          [
           0,
           "Porygon-Z"
          ],
          [
           0,
           "Gallade"
          ],
          [
           0,
           "Probopass"
          ],
          [
           0,
           "Dusknoir"
          ],
          [
           0,
           "Froslass"
          ],
          [
           0,
           "Rotom"
          ],
          [
           1,
           "Uxie"
          ],
          [
           1,
           "Mesprit"
          ],
          [
           1,
           "Azelf"
          ],
          [
           1,
           "Dialga"
          ],
          [
           1,
           "Palkia"
          ],
          [
           1,
           "Heatran"
          ],
          [
           1,
           "Regigigas"
          ],
          [
           1,
           "Giratina"
          ],
          [
           1,
           "Cresselia"
          ],
          [
           0,
           "Phione"
          ],
          [
           1,
           "Manaphy"
          ],
          [
           1,
           "Darkrai"
          ],
          [
           1,
           "Shaymin"
          ],
          [
           1,
           "Arceus"
          ],
          [
           1,
           "Victini"
          ],
          [
           0,
           "Snivy"
          ],
          [
           0,
           "Servine"
          ],
          [
           0,
           "Serperior"
          ],
          [
           0,
           "Tepig"
          ],
          [
           0,
           "Pignite"
          ],
          [
           0,
           "Emboar"
          ],
          [
           0,
           "Oshawott"
          ],
          [
           0,
           "Dewott"
          ],
          [
           0,
           "Samurott"
          ],
          [
           0,
           "Patrat"
          ],
          [
           0,
           "Watchog"
          ],
          [
           0,
           "Lillipup"
          ],
          [
           0,
           "Herdier"
          ],
          [
           0,
           "Stoutland"
          ],
          [
           0,
           "Purrloin"
          ],
          [
           0,
           "Liepard"
          ],
          [
           0,
           "Pansage"
          ],
          [
           0,
           "Simisage"
          ],
          [
           0,
           "Pansear"
          ],
          [
           0,
           "Simisear"
          ],
          [
           0,
           "Panpour"
          ],
          [
           0,
           "Simipour"
          ],
          [
           0,
           "Munna"
          ],
          [
           0,
           "Musharna"
          ],
          [
           0,
           "Pidove"
          ],
          [
           0,
           "Tranquill"
          ],
          [
           0,
           "Unfezant"
          ],
          [
           0,
           "Blitzle"
          ],
          [
           0,
           "Zebstrika"
          ],
          [
           0,
           "Roggenrola"
          ],
          [
           0,
           "Boldore"
          ],
          [
           0,
           "Gigalith"
          ],
          [
           0,
           "Woobat"
          ],
          [
           0,
           "Swoobat"
          ],
          [
           0,
           "Drilbur"
          ],
          [
           0,
           "Excadrill"
          ],
          [
           0,
           "Audino"
          ],
          [
           0,
           "Timburr"
          ],
          [
           0,
           "Gurdurr"
          ],
          [
           0,
           "Conkeldurr"
          ],
          [
           0,
           "Tympole"
          ],
          [
           0,
           "Palpitoad"
          ],
          [
           0,
           "Seismitoad"
          ],
          [
           0,
           "Throh"
          ],
          [
           0,
           "Sawk"
          ],
          [
           0,
           "Sewaddle"
          ],
          [
           0,
           "Swadloon"
          ],
          [
           0,
           "Leavanny"
          ],
          [
           0,
           "Venipede"
          ],
          [
           0,
           "Whirlipede"
          ],
          [
           0,
           "Scolipede"
          ],
          [
           0,
           "Cottonee"
          ],
          [
           0,
           "Whimsicott"
          ],
          [
           0,
           "Petilil"
          ],
          [
           0,
           "Lilligant"
          ],
          [
           0,
           "Basculin"
          ],
          [
           0,
           "Sandile"
          ],
          [
           0,
           "Krokorok"
          ],
          [
           0,
           "Krookodile"
          ],
          [
           0,
           "Darumaka"
          ],
          [
           0,
           "Darmanitan"
          ],
          [
           0,
           "Maractus"
          ],
          [
           0,
           "Dwebble"
          ],
          [
           0,
           "Crustle"
          ],
          [
           0,
           "Scraggy"
          ],
          [
           0,
           "Scrafty"
          ],
          [
           0,
           "Sigilyph"
          ],
          [
           0,
           "Yamask"
          ],
          [
           0,
           "Cofagrigus"
          ],
          [
           0,
           "Tirtouga"
          ],
          [
           0,
           "Carracosta"
          ],
          [
           0,
           "Archen"
          ],
          [
           0,
           "Archeops"
          ],
          [
           0,
           "Trubbish"
          ],
          [
           0,
           "Garbodor"
          ],
          [
           0,
           "Zorua"
          ],
          [
           0,
           "Zoroark"
          ],
          [
           0,
           "Minccino"
          ],
          [
           0,
           "Cinccino"
          ],
          [
           0,
           "Gothita"
          ],
          [
           0,
           "Gothorita"
          ],
          [
           0,
           "Gothitelle"
          ],
          [
           0,
           "Solosis"
          ],
          [
           0,
           "Duosion"
          ],
          [
           0,
           "Reuniclus"
          ],
          [
           0,
           "Ducklett"
          ],
          [
           0,
           "Swanna"
          ],
          [
           0,
           "Vanillite"
          ],
          [
           0,
           "Vanillish"
          ],
          [
           0,
           "Vanilluxe"
          ],
          [
           0,
           "Deerling"
          ],
          [
           0,
           "Sawsbuck"
          ],
          [
           0,
           "Emolga"
          ],
          [
           0,
           "Karrablast"
          ],
          [
           0,
           "Escavalier"
          ],
          [
           0,
           "Foongus"
          ],
          [
           0,
           "Amoonguss"
          ],
          [
           0,
           "Frillish"
          ],
          [
           0,
           "Jellicent"
          ],
          [
           0,
           "Alomomola"
          ],
          [
           0,
           "Joltik"
          ],
          [
           0,
           "Galvantula"
          ],
          [
           0,
           "Ferroseed"
          ],
          [
           0,
           "Ferrothorn"
          ],
          [
           0,
           "Klink"
          ],
          [
           0,
           "Klang"
          ],
          [
           0,
           "Klinklang"
          ],
          [
           0,
           "Tynamo"
          ],
          [
           0,
           "Eelektrik"
          ],
          [
           0,
           "Eelektross"
          ],
          [
           0,
           "Elgyem"
          ],
          [
           0,
           "Beheeyem"
          ],
          [
           0,
           "Litwick"
          ],
          [
           0,
           "Lampent"
          ],
          [
           0,
           "Chandelure"
          ],
          [
           0,
           "Axew"
          ],
          [
           0,
           "Fraxure"
          ],
          [
           0,
           "Haxorus"
          ],
          [
           0,
           "Cubchoo"
          ],
          [
           0,
           "Beartic"
          ],
          [
           0,
           "Cryogonal"
          ],
          [
           0,
           "Shelmet"
          ],
          [
           0,
           "Accelgor"
          ],
          [
           0,
           "Stunfisk"
          ],
          [
           0,
           "Mienfoo"
          ],
          [
           0,
           "Mienshao"
          ],
          [
           0,
           "Druddigon"
          ],
          [
           0,
           "Golett"
          ],
          [
           0,
           "Golurk"
          ],
          [
           0,
           "Pawniard"
          ],
          [
           0,
           "Bisharp"
          ],
          [
           0,
           "Bouffalant"
          ],
          [
           0,
           "Rufflet"
          ],
          [
           0,
           "Braviary"
          ],
          [
           0,
           "Vullaby"
          ],
          [
           0,
           "Mandibuzz"
          ],
          [
           0,
           "Heatmor"
          ],
          [
           0,
           "Durant"
          ],
          [
           0,
           "Deino"
          ],
          [
           0,
           "Zweilous"
          ],
          [
           0,
           "Hydreigon"
          ],
          [
           0,
           "Larvesta"
          ],
          [
           0,
           "Volcarona"
          ],
          [
           1,
           "Cobalion"
          ],
          [
           1,
           "Terrakion"
          ],
          [
           1,
           "Virizion"
          ],
          [
           1,
           "Tornadus"
          ],
          [
           1,
           "Thundurus"
          ],
          [
           1,
           "Reshiram"
          ],
          [
           1,
           "Zekrom"
          ],
          [
           1,
           "Landorus"
          ],
          [
           1,
           "Kyurem"
          ],
          [
           1,
           "Keldeo"
          ],
          [
           1,
           "Meloetta"
          ],
          [
           1,
           "Genesect"
          ],
          [
           0,
           "Chespin"
          ],
          [
           0,
           "Quilladin"
          ],
          [
           0,
           "Chesnaught"
          ],
          [
           0,
           "Fennekin"
          ],
          [
           0,
           "Braixen"
          ],
          [
           0,
           "Delphox"
          ],
          [
           0,
           "Froakie"
          ],
          [
           0,
           "Frogadier"
          ],
          [
           0,
           "Greninja"
          ],
          [
           0,
           "Bunnelby"
          ],
          [
           0,
           "Diggersby"
          ],
          [
           0,
           "Fletchling"
          ],
          [
           0,
           "Fletchinder"
          ],
          [
           0,
           "Talonflame"
          ],
          [
           0,
           "Scatterbug"
          ],
          [
           0,
           "Spewpa"
          ],
          [
           0,
           "Vivillon"
          ],
          [
           0,
           "Litleo"
          ],
          [
           0,
           "Pyroar"
          ],
          [
           0,
           "Flabébé"
          ],
          [
           0,
           "Floette"
          ],
          [
           0,
           "Florges"
          ],
          [
           0,
           "Skiddo"
          ],
          [
           0,
           "Gogoat"
          ],
          [
           0,
           "Pancham"
          ],
          [
           0,
           "Pangoro"
          ],
          [
           0,
           "Furfrou"
          ],
          [
           0,
           "Espurr"
          ],
          [
           0,
           "Meowstic"
          ],
          [
           0,
           "Honedge"
          ],
          [
           0,
           "Doublade"
          ],
          [
           0,
           "Aegislash"
          ],
          [
           0,
           "Spritzee"
          ],
          [
           0,
           "Aromatisse"
          ],
          [
           0,
           "Swirlix"
          ],
          [
           0,
           "Slurpuff"
          ],
          [
           0,
           "Inkay"
          ],
          [
           0,
           "Malamar"
          ],
          [
           0,
           "Binacle"
          ],
          [
           0,
           "Barbaracle"
          ],
          [
           0,
           "Skrelp"
          ],
          [
           0,
           "Dragalge"
          ],
          [
           0,
           "Clauncher"
          ],
          [
           0,
           "Clawitzer"
          ],
          [
           0,
           "Helioptile"
          ],
          [
           0,
           "Heliolisk"
          ],
          [
           0,
           "Tyrunt"
          ],
          [
           0,
           "Tyrantrum"
          ],
          [
           0,
           "Amaura"
          ],
          [
           0,
           "Aurorus"
          ],
          [
           0,
           "Sylveon"
          ],
          [
           0,
           "Hawlucha"
          ],
          [
           0,
           "Dedenne"
          ],
          [
           0,
           "Carbink"
          ],
          [
           0,
           "Goomy"
          ],
          [
           0,
           "Sliggoo"
          ],
          [
           0,
           "Goodra"
          ],
          [
           0,
           "Klefki"
          ],
          [
           0,
           "Phantump"
          ],
          [
           0,
           "Trevenant"
          ],
          [
           0,
           "Pumpkaboo"
          ],
          [
           0,
           "Gourgeist"
          ],
          [
           0,
           "Bergmite"
          ],
          [
           0,
           "Avalugg"
          ],
          [
           0,
           "Noibat"
          ],
          [
           0,
           "Noivern"
          ],
          [
           1,
           "Xerneas"
          ],
          [
           1,
           "Yveltal"
          ],
          [
           1,
           "Zygarde"
          ],
          [
           1,
           "Diancie"
          ],
          [
           1,
           "Hoopa"
          ],
          [
           1,
           "Volcanion"
          ],
          [
           0,
           "Rowlet"
          ],
          [
           0,
           "Dartrix"
          ],
          [
           0,
           "Decidueye"
          ],
          [
           0,
           "Litten"
          ],
          [
           0,
           "Torracat"
          ],
          [
           0,
           "Incineroar"
          ],
          [
           0,
           "Popplio"
          ],
          [
           0,
           "Brionne"
          ],
          [
           0,
           "Primarina"
          ],
          [
           0,
           "Pikipek"
          ],
          [
           0,
           "Trumbeak"
          ],
          [
           0,
           "Toucannon"
          ],
          [
           0,
           "Yungoos"
          ],
          [
           0,
           "Gumshoos"
          ],
          [
           0,
           "Grubbin"
          ],
          [
           0,
           "Charjabug"
          ],
          [
           0,
           "Vikavolt"
          ],
          [
           0,
           "Crabrawler"
          ],
          [
           0,
           "Crabominable"
          ],
          [
           0,
           "Oricorio"
          ],
          [
           0,
           "Cutiefly"
          ],
          [
           0,
           "Ribombee"
          ],
          [
           0,
           "Rockruff"
          ],
          [
           0,
           "Lycanroc"
          ],
          [
           0,
           "Wishiwashi"
          ],
          [
           0,
           "Mareanie"
          ],
          [
           0,
           "Toxapex"
          ],
          [
           0,
           "Mudbray"
          ],
          [
           0,
           "Mudsdale"
          ],
          [
           0,
           "Dewpider"
          ],
          [
           0,
           "Araquanid"
          ],
          [
           0,
           "Fomantis"
          ],
          [
           0,
           "Lurantis"
          ],
          [
           0,
           "Morelull"
          ],
          [
           0,
           "Shiinotic"
          ],
          [
           0,
           "Salandit"
          ],
          [
           0,
           "Salazzle"
          ],
          [
           0,
           "Stufful"
          ],
          [
           0,
           "Bewear"
          ],
          [
           0,
           "Bounsweet"
          ],
          [
           0,
           "Steenee"
          ],
          [
           0,
           "Tsareena"
          ],
          [
           0,
           "Comfey"
          ],
          [
           0,
           "Oranguru"
          ],
          [
           0,
           "Passimian"
          ],
          [
           0,
           "Wimpod"
          ],
          [
           0,
           "Golisopod"
          ],
          [
           0,
           "Sandygast"
          ],
          [
           0,
           "Palossand"
          ],
          [
           0,
           "Pyukumuku"
          ],
          [
           0,
           "Type: Null"
          ],
          [
           0,
           "Silvally"
          ],
          [
           0,
           "Minior"
          ],
          [
           0,
           "Komala"
          ],
          [
           0,
           "Turtonator"
          ],
          [
           0,
           "Togedemaru"
          ],
          [
           0,
           "Mimikyu"
          ],
          [
           0,
           "Bruxish"
          ],
          [
           0,
           "Drampa"
          ],
          [
           0,
           "Dhelmise"
          ],
          [
           0,
           "Jangmo-o"
          ],
          [
           0,
           "Hakamo-o"
          ],
          [
           0,
           "Kommo-o"
          ],
          [
           1,
           "Tapu Koko"
          ],
          [
           1,
           "Tapu Lele"
          ],
          [
           1,
           "Tapu Bulu"
          ],
          [
           1,
           "Tapu Fini"
          ],
          [
           1,
           "Cosmog"
          ],
          [
           1,
           "Cosmoem"
          ],
          [
           1,
           "Solgaleo"
          ],
          [
           1,
           "Lunala"
          ],
          [
           1,
           "Nihilego"
          ],
          [
           1,
           "Buzzwole"
          ],
          [
           1,
           "Pheromosa"
          ],
          [
           1,
           "Xurkitree"
          ],
          [
           1,
           "Celesteela"
          ],
          [
           1,
           "Kartana"
          ],
          [
           1,
           "Guzzlord"
          ],
          [
           1,
           "Necrozma"
          ],
          [
           1,
           "Magearna"
          ]
         ],
         "hovertemplate": "ATTACK=%{x}<br>DEFENSE=%{y}<br>HP=%{marker.size}<br>IS_LEGENDARY=%{marker.color}<br>NAME=%{customdata[1]}<extra></extra>",
         "legendgroup": "",
         "marker": {
          "color": [
           0,
           0,
           0,
           0,
           0,
           0,
           0,
           0,
           0,
           0,
           0,
           0,
           0,
           0,
           0,
           0,
           0,
           0,
           0,
           0,
           0,
           0,
           0,
           0,
           0,
           0,
           0,
           0,
           0,
           0,
           0,
           0,
           0,
           0,
           0,
           0,
           0,
           0,
           0,
           0,
           0,
           0,
           0,
           0,
           0,
           0,
           0,
           0,
           0,
           0,
           0,
           0,
           0,
           0,
           0,
           0,
           0,
           0,
           0,
           0,
           0,
           0,
           0,
           0,
           0,
           0,
           0,
           0,
           0,
           0,
           0,
           0,
           0,
           0,
           0,
           0,
           0,
           0,
           0,
           0,
           0,
           0,
           0,
           0,
           0,
           0,
           0,
           0,
           0,
           0,
           0,
           0,
           0,
           0,
           0,
           0,
           0,
           0,
           0,
           0,
           0,
           0,
           0,
           0,
           0,
           0,
           0,
           0,
           0,
           0,
           0,
           0,
           0,
           0,
           0,
           0,
           0,
           0,
           0,
           0,
           0,
           0,
           0,
           0,
           0,
           0,
           0,
           0,
           0,
           0,
           0,
           0,
           0,
           0,
           0,
           0,
           0,
           0,
           0,
           0,
           0,
           0,
           0,
           1,
           1,
           1,
           0,
           0,
           0,
           1,
           1,
           0,
           0,
           0,
           0,
           0,
           0,
           0,
           0,
           0,
           0,
           0,
           0,
           0,
           0,
           0,
           0,
           0,
           0,
           0,
           0,
           0,
           0,
           0,
           0,
           0,
           0,
           0,
           0,
           0,
           0,
           0,
           0,
           0,
           0,
           0,
           0,
           0,
           0,
           0,
           0,
           0,
           0,
           0,
           0,
           0,
           0,
           0,
           0,
           0,
           0,
           0,
           0,
           0,
           0,
           0,
           0,
           0,
           0,
           0,
           0,
           0,
           0,
           0,
           0,
           0,
           0,
           0,
           0,
           0,
           0,
           0,
           0,
           0,
           0,
           0,
           0,
           0,
           0,
           0,
           0,
           0,
           0,
           0,
           0,
           0,
           0,
           0,
           0,
           0,
           0,
           0,
           1,
           1,
           1,
           0,
           0,
           0,
           1,
           1,
           1,
           0,
           0,
           0,
           0,
           0,
           0,
           0,
           0,
           0,
           0,
           0,
           0,
           0,
           0,
           0,
           0,
           0,
           0,
           0,
           0,
           0,
           0,
           0,
           0,
           0,
           0,
           0,
           0,
           0,
           0,
           0,
           0,
           0,
           0,
           0,
           0,
           0,
           0,
           0,
           0,
           0,
           0,
           0,
           0,
           0,
           0,
           0,
           0,
           0,
           0,
           0,
           0,
           0,
           0,
           0,
           0,
           0,
           0,
           0,
           0,
           0,
           0,
           0,
           0,
           0,
           0,
           0,
           0,
           0,
           0,
           0,
           0,
           0,
           0,
           0,
           0,
           0,
           0,
           0,
           0,
           0,
           0,
           0,
           0,
           0,
           0,
           0,
           0,
           0,
           0,
           0,
           0,
           0,
           0,
           0,
           0,
           0,
           0,
           0,
           0,
           0,
           0,
           0,
           0,
           0,
           0,
           0,
           0,
           0,
           0,
           0,
           0,
           0,
           0,
           0,
           0,
           0,
           0,
           0,
           0,
           0,
           0,
           0,
           0,
           0,
           1,
           1,
           1,
           1,
           1,
           1,
           1,
           1,
           1,
           1,
           0,
           0,
           0,
           0,
           0,
           0,
           0,
           0,
           0,
           0,
           0,
           0,
           0,
           0,
           0,
           0,
           0,
           0,
           0,
           0,
           0,
           0,
           0,
           0,
           0,
           0,
           0,
           0,
           0,
           0,
           0,
           0,
           0,
           0,
           0,
           0,
           0,
           0,
           0,
           0,
           0,
           0,
           0,
           0,
           0,
           0,
           0,
           0,
           0,
           0,
           0,
           0,
           0,
           0,
           0,
           0,
           0,
           0,
           0,
           0,
           0,
           0,
           0,
           0,
           0,
           0,
           0,
           0,
           0,
           0,
           0,
           0,
           0,
           0,
           0,
           0,
           0,
           0,
           0,
           0,
           0,
           0,
           0,
           0,
           0,
           0,
           0,
           0,
           0,
           0,
           0,
           0,
           0,
           1,
           1,
           1,
           1,
           1,
           1,
           1,
           1,
           1,
           0,
           1,
           1,
           1,
           1,
           1,
           0,
           0,
           0,
           0,
           0,
           0,
           0,
           0,
           0,
           0,
           0,
           0,
           0,
           0,
           0,
           0,
           0,
           0,
           0,
           0,
           0,
           0,
           0,
           0,
           0,
           0,
           0,
           0,
           0,
           0,
           0,
           0,
           0,
           0,
           0,
           0,
           0,
           0,
           0,
           0,
           0,
           0,
           0,
           0,
           0,
           0,
           0,
           0,
           0,
           0,
           0,
           0,
           0,
           0,
           0,
           0,
           0,
           0,
           0,
           0,
           0,
           0,
           0,
           0,
           0,
           0,
           0,
           0,
           0,
           0,
           0,
           0,
           0,
           0,
           0,
           0,
           0,
           0,
           0,
           0,
           0,
           0,
           0,
           0,
           0,
           0,
           0,
           0,
           0,
           0,
           0,
           0,
           0,
           0,
           0,
           0,
           0,
           0,
           0,
           0,
           0,
           0,
           0,
           0,
           0,
           0,
           0,
           0,
           0,
           0,
           0,
           0,
           0,
           0,
           0,
           0,
           0,
           0,
           0,
           0,
           0,
           0,
           0,
           0,
           0,
           0,
           0,
           0,
           0,
           0,
           0,
           0,
           0,
           0,
           0,
           0,
           0,
           0,
           0,
           0,
           0,
           0,
           0,
           1,
           1,
           1,
           1,
           1,
           1,
           1,
           1,
           1,
           1,
           1,
           1,
           0,
           0,
           0,
           0,
           0,
           0,
           0,
           0,
           0,
           0,
           0,
           0,
           0,
           0,
           0,
           0,
           0,
           0,
           0,
           0,
           0,
           0,
           0,
           0,
           0,
           0,
           0,
           0,
           0,
           0,
           0,
           0,
           0,
           0,
           0,
           0,
           0,
           0,
           0,
           0,
           0,
           0,
           0,
           0,
           0,
           0,
           0,
           0,
           0,
           0,
           0,
           0,
           0,
           0,
           0,
           0,
           0,
           0,
           0,
           0,
           0,
           0,
           0,
           0,
           0,
           0,
           1,
           1,
           1,
           1,
           1,
           1,
           0,
           0,
           0,
           0,
           0,
           0,
           0,
           0,
           0,
           0,
           0,
           0,
           0,
           0,
           0,
           0,
           0,
           0,
           0,
           0,
           0,
           0,
           0,
           0,
           0,
           0,
           0,
           0,
           0,
           0,
           0,
           0,
           0,
           0,
           0,
           0,
           0,
           0,
           0,
           0,
           0,
           0,
           0,
           0,
           0,
           0,
           0,
           0,
           0,
           0,
           0,
           0,
           0,
           0,
           0,
           0,
           0,
           0,
           0,
           0,
           0,
           0,
           0,
           1,
           1,
           1,
           1,
           1,
           1,
           1,
           1,
           1,
           1,
           1,
           1,
           1,
           1,
           1,
           1,
           1
          ],
          "coloraxis": "coloraxis",
          "size": [
           45,
           60,
           80,
           39,
           58,
           78,
           44,
           59,
           79,
           45,
           50,
           60,
           40,
           45,
           65,
           40,
           63,
           83,
           30,
           75,
           40,
           65,
           35,
           60,
           35,
           60,
           50,
           75,
           55,
           70,
           90,
           46,
           61,
           81,
           70,
           95,
           38,
           73,
           115,
           140,
           40,
           75,
           45,
           60,
           75,
           35,
           60,
           60,
           70,
           10,
           35,
           40,
           65,
           50,
           80,
           40,
           65,
           55,
           90,
           40,
           65,
           90,
           25,
           40,
           55,
           70,
           80,
           90,
           50,
           65,
           80,
           40,
           80,
           40,
           55,
           80,
           50,
           65,
           90,
           95,
           25,
           50,
           52,
           35,
           60,
           65,
           90,
           80,
           105,
           30,
           50,
           30,
           45,
           60,
           35,
           60,
           85,
           30,
           55,
           40,
           60,
           60,
           95,
           50,
           60,
           50,
           50,
           90,
           40,
           65,
           80,
           105,
           250,
           65,
           105,
           30,
           55,
           45,
           80,
           30,
           60,
           40,
           70,
           65,
           65,
           65,
           65,
           75,
           20,
           95,
           130,
           48,
           55,
           130,
           65,
           65,
           65,
           35,
           70,
           30,
           60,
           80,
           160,
           90,
           90,
           90,
           41,
           61,
           91,
           106,
           100,
           45,
           60,
           80,
           39,
           58,
           78,
           50,
           65,
           85,
           35,
           85,
           60,
           100,
           40,
           55,
           40,
           70,
           85,
           75,
           125,
           20,
           50,
           90,
           35,
           55,
           40,
           65,
           55,
           70,
           90,
           75,
           70,
           100,
           70,
           90,
           35,
           55,
           75,
           55,
           30,
           75,
           65,
           55,
           95,
           65,
           95,
           60,
           95,
           60,
           48,
           190,
           70,
           50,
           75,
           100,
           65,
           75,
           60,
           90,
           65,
           70,
           20,
           80,
           55,
           60,
           90,
           40,
           60,
           50,
           100,
           65,
           35,
           75,
           45,
           85,
           65,
           45,
           75,
           75,
           90,
           90,
           85,
           73,
           55,
           35,
           50,
           45,
           45,
           45,
           95,
           255,
           90,
           115,
           100,
           50,
           70,
           100,
           106,
           106,
           100,
           40,
           50,
           70,
           45,
           60,
           80,
           50,
           70,
           100,
           35,
           70,
           38,
           78,
           45,
           50,
           60,
           50,
           60,
           40,
           60,
           80,
           40,
           70,
           90,
           40,
           60,
           40,
           60,
           28,
           38,
           68,
           40,
           70,
           60,
           60,
           60,
           80,
           150,
           31,
           61,
           1,
           64,
           84,
           104,
           72,
           144,
           50,
           30,
           50,
           70,
           50,
           50,
           50,
           60,
           70,
           30,
           60,
           40,
           70,
           60,
           60,
           65,
           65,
           50,
           70,
           100,
           45,
           70,
           130,
           170,
           60,
           70,
           70,
           60,
           80,
           60,
           45,
           50,
           80,
           50,
           70,
           45,
           75,
           73,
           73,
           90,
           90,
           50,
           110,
           43,
           63,
           40,
           60,
           66,
           86,
           45,
           75,
           20,
           95,
           70,
           60,
           44,
           64,
           20,
           40,
           99,
           75,
           65,
           95,
           50,
           80,
           70,
           90,
           110,
           35,
           55,
           55,
           100,
           43,
           45,
           65,
           95,
           40,
           60,
           80,
           80,
           80,
           80,
           80,
           80,
           100,
           100,
           105,
           100,
           50,
           55,
           75,
           95,
           44,
           64,
           76,
           53,
           64,
           84,
           40,
           55,
           85,
           59,
           79,
           37,
           77,
           45,
           60,
           80,
           40,
           60,
           67,
           97,
           30,
           60,
           40,
           60,
           70,
           30,
           70,
           60,
           55,
           85,
           45,
           70,
           76,
           111,
           75,
           90,
           150,
           55,
           65,
           60,
           100,
           49,
           71,
           45,
           63,
           103,
           57,
           67,
           50,
           20,
           100,
           76,
           50,
           58,
           68,
           108,
           135,
           40,
           70,
           68,
           108,
           40,
           70,
           48,
           83,
           74,
           49,
           69,
           45,
           60,
           90,
           70,
           70,
           110,
           115,
           100,
           75,
           75,
           85,
           86,
           65,
           65,
           75,
           110,
           85,
           68,
           60,
           45,
           70,
           50,
           75,
           80,
           75,
           100,
           90,
           91,
           110,
           150,
           120,
           80,
           100,
           70,
           100,
           120,
           100,
           45,
           60,
           75,
           65,
           90,
           110,
           55,
           75,
           95,
           45,
           60,
           45,
           65,
           85,
           41,
           64,
           50,
           75,
           50,
           75,
           50,
           75,
           76,
           116,
           50,
           62,
           80,
           45,
           75,
           55,
           70,
           85,
           65,
           67,
           60,
           110,
           103,
           75,
           85,
           105,
           50,
           75,
           105,
           120,
           75,
           45,
           55,
           75,
           30,
           40,
           60,
           40,
           60,
           45,
           70,
           70,
           50,
           60,
           95,
           70,
           105,
           75,
           50,
           70,
           50,
           65,
           72,
           38,
           58,
           54,
           74,
           55,
           75,
           50,
           80,
           40,
           60,
           55,
           75,
           45,
           60,
           70,
           45,
           65,
           110,
           62,
           75,
           36,
           51,
           71,
           60,
           80,
           55,
           50,
           70,
           69,
           114,
           55,
           100,
           165,
           50,
           70,
           44,
           74,
           40,
           60,
           60,
           35,
           65,
           85,
           55,
           75,
           50,
           60,
           60,
           46,
           66,
           76,
           55,
           95,
           80,
           50,
           80,
           109,
           45,
           65,
           77,
           59,
           89,
           45,
           65,
           95,
           70,
           100,
           70,
           110,
           85,
           58,
           52,
           72,
           92,
           55,
           85,
           91,
           91,
           91,
           79,
           79,
           100,
           100,
           89,
           125,
           91,
           100,
           71,
           56,
           61,
           88,
           40,
           59,
           75,
           41,
           54,
           72,
           38,
           85,
           45,
           62,
           78,
           38,
           45,
           80,
           62,
           86,
           44,
           74,
           78,
           66,
           123,
           67,
           95,
           75,
           62,
           74,
           45,
           59,
           60,
           78,
           101,
           62,
           82,
           53,
           86,
           42,
           72,
           50,
           65,
           50,
           71,
           44,
           62,
           58,
           82,
           77,
           123,
           95,
           78,
           67,
           50,
           45,
           68,
           90,
           57,
           43,
           85,
           59,
           85,
           55,
           95,
           40,
           85,
           126,
           126,
           216,
           50,
           80,
           80,
           68,
           78,
           78,
           45,
           65,
           95,
           50,
           60,
           80,
           35,
           55,
           80,
           48,
           88,
           47,
           57,
           77,
           47,
           97,
           75,
           40,
           60,
           45,
           85,
           45,
           50,
           50,
           70,
           100,
           38,
           68,
           40,
           70,
           40,
           60,
           48,
           68,
           70,
           120,
           42,
           52,
           72,
           51,
           90,
           100,
           25,
           75,
           55,
           85,
           55,
           95,
           95,
           60,
           65,
           60,
           65,
           55,
           68,
           78,
           70,
           45,
           55,
           75,
           70,
           70,
           70,
           70,
           43,
           43,
           137,
           137,
           109,
           107,
           71,
           83,
           97,
           59,
           223,
           97,
           80
          ],
          "sizemode": "area",
          "sizeref": 0.6375,
          "symbol": "circle"
         },
         "mode": "markers",
         "name": "",
         "orientation": "v",
         "showlegend": false,
         "type": "scatter",
         "x": [
          49,
          62,
          100,
          52,
          64,
          104,
          48,
          63,
          103,
          30,
          20,
          45,
          35,
          25,
          150,
          45,
          60,
          80,
          56,
          71,
          60,
          90,
          60,
          95,
          55,
          85,
          75,
          100,
          47,
          62,
          92,
          57,
          72,
          102,
          45,
          70,
          41,
          67,
          45,
          70,
          45,
          80,
          50,
          65,
          80,
          70,
          95,
          55,
          65,
          55,
          100,
          35,
          60,
          52,
          82,
          80,
          105,
          70,
          110,
          50,
          65,
          95,
          20,
          35,
          50,
          80,
          100,
          130,
          75,
          90,
          105,
          40,
          70,
          80,
          95,
          120,
          85,
          100,
          65,
          75,
          35,
          60,
          90,
          85,
          110,
          45,
          70,
          80,
          105,
          65,
          95,
          35,
          50,
          65,
          45,
          48,
          73,
          105,
          130,
          30,
          50,
          40,
          105,
          50,
          80,
          120,
          105,
          55,
          65,
          90,
          85,
          130,
          5,
          55,
          125,
          40,
          65,
          67,
          92,
          45,
          75,
          45,
          110,
          50,
          83,
          95,
          155,
          100,
          10,
          155,
          85,
          48,
          55,
          65,
          65,
          130,
          60,
          40,
          60,
          80,
          115,
          135,
          110,
          85,
          90,
          100,
          64,
          84,
          134,
          150,
          100,
          49,
          62,
          82,
          52,
          64,
          84,
          65,
          80,
          105,
          46,
          76,
          30,
          50,
          20,
          35,
          60,
          90,
          90,
          38,
          58,
          40,
          25,
          30,
          20,
          40,
          50,
          75,
          40,
          55,
          95,
          80,
          20,
          50,
          100,
          75,
          35,
          45,
          55,
          70,
          30,
          75,
          65,
          45,
          85,
          65,
          65,
          85,
          75,
          60,
          72,
          33,
          80,
          65,
          90,
          70,
          75,
          125,
          80,
          120,
          95,
          150,
          10,
          185,
          95,
          80,
          130,
          40,
          50,
          50,
          100,
          55,
          65,
          105,
          55,
          40,
          80,
          60,
          90,
          95,
          60,
          120,
          80,
          95,
          20,
          35,
          95,
          30,
          63,
          75,
          80,
          10,
          85,
          115,
          75,
          64,
          84,
          164,
          90,
          130,
          100,
          45,
          65,
          110,
          60,
          85,
          160,
          70,
          85,
          150,
          55,
          90,
          30,
          70,
          45,
          35,
          70,
          35,
          50,
          30,
          50,
          70,
          40,
          70,
          100,
          55,
          85,
          30,
          50,
          25,
          35,
          85,
          30,
          60,
          40,
          130,
          60,
          80,
          160,
          45,
          90,
          90,
          51,
          71,
          91,
          60,
          120,
          20,
          45,
          45,
          65,
          85,
          105,
          70,
          90,
          140,
          40,
          100,
          45,
          75,
          50,
          40,
          73,
          47,
          60,
          43,
          73,
          90,
          140,
          70,
          90,
          60,
          120,
          85,
          25,
          45,
          60,
          100,
          70,
          100,
          85,
          115,
          40,
          110,
          115,
          100,
          55,
          95,
          48,
          78,
          80,
          120,
          40,
          70,
          41,
          81,
          95,
          125,
          15,
          60,
          70,
          90,
          75,
          165,
          40,
          70,
          68,
          50,
          150,
          23,
          50,
          120,
          40,
          60,
          80,
          64,
          104,
          84,
          90,
          30,
          75,
          95,
          145,
          55,
          75,
          145,
          100,
          50,
          75,
          100,
          130,
          150,
          180,
          180,
          100,
          95,
          68,
          89,
          109,
          58,
          78,
          104,
          51,
          66,
          86,
          55,
          75,
          120,
          45,
          85,
          25,
          85,
          65,
          85,
          120,
          30,
          70,
          125,
          165,
          42,
          52,
          29,
          69,
          94,
          30,
          80,
          45,
          65,
          105,
          35,
          60,
          48,
          83,
          100,
          50,
          80,
          66,
          136,
          60,
          125,
          55,
          82,
          30,
          63,
          93,
          24,
          89,
          80,
          25,
          5,
          65,
          92,
          70,
          90,
          170,
          85,
          70,
          145,
          72,
          112,
          50,
          90,
          61,
          106,
          100,
          49,
          69,
          20,
          62,
          132,
          120,
          70,
          85,
          140,
          100,
          123,
          95,
          50,
          76,
          110,
          60,
          95,
          130,
          80,
          165,
          55,
          100,
          80,
          65,
          75,
          105,
          125,
          120,
          120,
          90,
          160,
          120,
          70,
          80,
          100,
          90,
          103,
          120,
          100,
          45,
          60,
          75,
          63,
          93,
          123,
          55,
          75,
          100,
          55,
          85,
          60,
          80,
          110,
          50,
          88,
          53,
          98,
          53,
          98,
          53,
          98,
          25,
          55,
          55,
          77,
          115,
          60,
          100,
          75,
          105,
          135,
          45,
          57,
          85,
          135,
          60,
          80,
          105,
          140,
          50,
          65,
          95,
          100,
          125,
          53,
          63,
          103,
          45,
          55,
          100,
          27,
          67,
          35,
          60,
          92,
          72,
          82,
          117,
          90,
          30,
          86,
          65,
          105,
          75,
          90,
          58,
          30,
          50,
          78,
          108,
          112,
          140,
          50,
          95,
          65,
          105,
          50,
          95,
          30,
          45,
          55,
          30,
          40,
          65,
          44,
          87,
          50,
          65,
          95,
          60,
          100,
          75,
          75,
          135,
          55,
          85,
          40,
          60,
          75,
          47,
          77,
          50,
          94,
          55,
          80,
          100,
          55,
          85,
          115,
          55,
          75,
          30,
          40,
          55,
          87,
          117,
          147,
          70,
          130,
          50,
          40,
          70,
          66,
          85,
          125,
          120,
          74,
          124,
          85,
          125,
          110,
          83,
          123,
          55,
          65,
          97,
          109,
          65,
          85,
          105,
          85,
          60,
          90,
          129,
          90,
          100,
          105,
          120,
          150,
          145,
          120,
          72,
          128,
          120,
          61,
          78,
          107,
          45,
          59,
          69,
          56,
          63,
          145,
          36,
          56,
          50,
          73,
          81,
          35,
          22,
          52,
          50,
          68,
          38,
          65,
          65,
          65,
          100,
          82,
          124,
          80,
          48,
          48,
          80,
          110,
          150,
          52,
          72,
          48,
          80,
          54,
          92,
          52,
          105,
          60,
          75,
          53,
          73,
          38,
          55,
          89,
          121,
          59,
          77,
          65,
          92,
          58,
          50,
          50,
          75,
          100,
          80,
          70,
          110,
          66,
          100,
          69,
          117,
          30,
          70,
          131,
          131,
          100,
          160,
          160,
          110,
          55,
          75,
          107,
          65,
          85,
          115,
          54,
          69,
          74,
          75,
          85,
          120,
          70,
          110,
          62,
          82,
          70,
          82,
          132,
          70,
          45,
          55,
          65,
          115,
          140,
          53,
          63,
          100,
          125,
          40,
          70,
          55,
          105,
          35,
          45,
          44,
          64,
          75,
          125,
          30,
          40,
          120,
          52,
          60,
          120,
          35,
          125,
          55,
          75,
          60,
          95,
          95,
          100,
          115,
          78,
          98,
          90,
          105,
          60,
          131,
          55,
          75,
          110,
          115,
          85,
          130,
          75,
          29,
          29,
          137,
          113,
          53,
          139,
          137,
          89,
          101,
          181,
          101,
          107,
          95
         ],
         "xaxis": "x",
         "y": [
          49,
          63,
          123,
          43,
          58,
          78,
          65,
          80,
          120,
          35,
          55,
          50,
          30,
          50,
          40,
          40,
          55,
          80,
          35,
          70,
          30,
          65,
          44,
          69,
          40,
          50,
          90,
          120,
          52,
          67,
          87,
          40,
          57,
          77,
          48,
          73,
          40,
          75,
          20,
          45,
          35,
          70,
          55,
          70,
          85,
          55,
          80,
          50,
          60,
          30,
          60,
          35,
          60,
          48,
          78,
          35,
          60,
          45,
          80,
          40,
          65,
          95,
          15,
          30,
          65,
          50,
          70,
          80,
          35,
          50,
          65,
          35,
          65,
          100,
          115,
          130,
          55,
          70,
          65,
          180,
          70,
          95,
          55,
          45,
          70,
          55,
          80,
          50,
          75,
          100,
          180,
          30,
          45,
          80,
          160,
          45,
          70,
          90,
          115,
          50,
          70,
          80,
          85,
          95,
          110,
          53,
          79,
          75,
          95,
          120,
          95,
          120,
          5,
          115,
          100,
          70,
          95,
          60,
          65,
          55,
          85,
          65,
          80,
          35,
          57,
          57,
          120,
          95,
          55,
          109,
          80,
          48,
          50,
          60,
          60,
          60,
          70,
          100,
          125,
          90,
          105,
          85,
          65,
          100,
          85,
          90,
          45,
          65,
          95,
          70,
          100,
          65,
          80,
          100,
          43,
          58,
          78,
          64,
          80,
          100,
          34,
          64,
          30,
          50,
          30,
          50,
          40,
          70,
          80,
          38,
          58,
          15,
          28,
          15,
          65,
          85,
          45,
          70,
          40,
          55,
          105,
          95,
          50,
          80,
          115,
          75,
          40,
          50,
          70,
          55,
          30,
          55,
          45,
          45,
          85,
          60,
          110,
          42,
          80,
          60,
          48,
          58,
          65,
          90,
          140,
          70,
          105,
          230,
          50,
          75,
          85,
          140,
          230,
          115,
          55,
          50,
          75,
          40,
          120,
          40,
          80,
          95,
          35,
          75,
          45,
          70,
          140,
          30,
          90,
          95,
          60,
          120,
          90,
          62,
          35,
          35,
          95,
          15,
          37,
          37,
          105,
          10,
          75,
          85,
          115,
          50,
          70,
          150,
          130,
          90,
          100,
          35,
          45,
          75,
          40,
          60,
          80,
          50,
          70,
          110,
          35,
          70,
          41,
          61,
          35,
          55,
          50,
          55,
          70,
          30,
          50,
          70,
          50,
          40,
          60,
          30,
          60,
          30,
          100,
          25,
          35,
          65,
          32,
          62,
          60,
          80,
          60,
          80,
          100,
          90,
          45,
          45,
          23,
          43,
          63,
          30,
          60,
          40,
          135,
          45,
          65,
          125,
          125,
          100,
          140,
          230,
          55,
          85,
          40,
          80,
          40,
          50,
          75,
          75,
          45,
          53,
          83,
          20,
          70,
          35,
          45,
          40,
          100,
          140,
          35,
          65,
          60,
          45,
          50,
          80,
          40,
          60,
          60,
          110,
          60,
          60,
          65,
          85,
          43,
          73,
          65,
          85,
          55,
          105,
          77,
          97,
          50,
          100,
          20,
          79,
          70,
          70,
          35,
          75,
          90,
          130,
          83,
          80,
          60,
          48,
          50,
          80,
          50,
          70,
          90,
          85,
          105,
          105,
          130,
          55,
          60,
          100,
          130,
          80,
          100,
          150,
          200,
          100,
          150,
          120,
          100,
          90,
          160,
          100,
          100,
          90,
          64,
          85,
          105,
          44,
          52,
          71,
          53,
          68,
          88,
          30,
          50,
          70,
          40,
          60,
          41,
          51,
          34,
          49,
          79,
          35,
          65,
          40,
          60,
          118,
          168,
          45,
          95,
          50,
          42,
          102,
          70,
          35,
          55,
          45,
          70,
          48,
          68,
          66,
          34,
          44,
          44,
          94,
          60,
          52,
          42,
          64,
          50,
          47,
          67,
          86,
          116,
          95,
          45,
          5,
          45,
          108,
          45,
          65,
          115,
          40,
          40,
          88,
          78,
          118,
          90,
          110,
          40,
          65,
          72,
          56,
          76,
          50,
          50,
          105,
          65,
          115,
          95,
          130,
          125,
          67,
          67,
          95,
          86,
          130,
          110,
          125,
          80,
          70,
          95,
          145,
          135,
          70,
          107,
          130,
          105,
          70,
          120,
          100,
          106,
          110,
          100,
          120,
          80,
          100,
          90,
          75,
          120,
          100,
          55,
          75,
          95,
          45,
          55,
          65,
          45,
          60,
          85,
          39,
          69,
          45,
          65,
          90,
          37,
          50,
          48,
          63,
          48,
          63,
          48,
          63,
          45,
          85,
          50,
          62,
          80,
          32,
          63,
          85,
          105,
          130,
          43,
          55,
          40,
          60,
          126,
          55,
          85,
          95,
          40,
          55,
          75,
          85,
          75,
          70,
          90,
          80,
          59,
          99,
          89,
          60,
          85,
          50,
          75,
          65,
          35,
          45,
          80,
          45,
          105,
          67,
          85,
          125,
          70,
          115,
          80,
          85,
          145,
          103,
          133,
          45,
          65,
          62,
          82,
          40,
          60,
          40,
          60,
          50,
          70,
          95,
          40,
          50,
          75,
          50,
          63,
          50,
          65,
          85,
          50,
          70,
          60,
          45,
          105,
          45,
          70,
          50,
          70,
          80,
          50,
          60,
          91,
          131,
          70,
          95,
          115,
          40,
          70,
          80,
          55,
          75,
          55,
          60,
          90,
          60,
          70,
          90,
          40,
          80,
          50,
          85,
          40,
          84,
          50,
          60,
          90,
          50,
          80,
          70,
          100,
          95,
          50,
          75,
          75,
          105,
          66,
          112,
          50,
          70,
          90,
          55,
          65,
          129,
          90,
          72,
          80,
          70,
          100,
          120,
          90,
          90,
          90,
          90,
          95,
          65,
          95,
          122,
          40,
          58,
          72,
          40,
          52,
          67,
          38,
          77,
          43,
          55,
          71,
          40,
          60,
          50,
          58,
          72,
          39,
          67,
          68,
          48,
          62,
          62,
          78,
          60,
          54,
          76,
          100,
          150,
          50,
          60,
          72,
          66,
          86,
          53,
          88,
          67,
          115,
          60,
          90,
          62,
          88,
          33,
          52,
          77,
          119,
          50,
          72,
          65,
          75,
          57,
          150,
          35,
          53,
          70,
          91,
          48,
          76,
          70,
          122,
          85,
          184,
          35,
          80,
          95,
          95,
          121,
          110,
          60,
          120,
          55,
          75,
          75,
          40,
          50,
          90,
          54,
          69,
          74,
          30,
          50,
          75,
          30,
          60,
          45,
          95,
          90,
          57,
          77,
          70,
          40,
          60,
          40,
          75,
          130,
          62,
          152,
          70,
          100,
          52,
          92,
          35,
          90,
          55,
          80,
          40,
          60,
          50,
          80,
          38,
          48,
          98,
          90,
          80,
          90,
          40,
          140,
          80,
          110,
          130,
          95,
          95,
          60,
          65,
          135,
          63,
          80,
          70,
          85,
          100,
          65,
          90,
          125,
          85,
          75,
          115,
          115,
          31,
          131,
          107,
          89,
          47,
          139,
          37,
          71,
          103,
          131,
          53,
          101,
          115
         ],
         "yaxis": "y"
        }
       ],
       "layout": {
        "coloraxis": {
         "colorbar": {
          "title": {
           "text": "IS_LEGENDARY"
          }
         },
         "colorscale": [
          [
           0,
           "#0d0887"
          ],
          [
           0.1111111111111111,
           "#46039f"
          ],
          [
           0.2222222222222222,
           "#7201a8"
          ],
          [
           0.3333333333333333,
           "#9c179e"
          ],
          [
           0.4444444444444444,
           "#bd3786"
          ],
          [
           0.5555555555555556,
           "#d8576b"
          ],
          [
           0.6666666666666666,
           "#ed7953"
          ],
          [
           0.7777777777777778,
           "#fb9f3a"
          ],
          [
           0.8888888888888888,
           "#fdca26"
          ],
          [
           1,
           "#f0f921"
          ]
         ]
        },
        "legend": {
         "itemsizing": "constant",
         "tracegroupgap": 0
        },
        "margin": {
         "t": 60
        },
        "template": {
         "data": {
          "bar": [
           {
            "error_x": {
             "color": "#2a3f5f"
            },
            "error_y": {
             "color": "#2a3f5f"
            },
            "marker": {
             "line": {
              "color": "#E5ECF6",
              "width": 0.5
             },
             "pattern": {
              "fillmode": "overlay",
              "size": 10,
              "solidity": 0.2
             }
            },
            "type": "bar"
           }
          ],
          "barpolar": [
           {
            "marker": {
             "line": {
              "color": "#E5ECF6",
              "width": 0.5
             },
             "pattern": {
              "fillmode": "overlay",
              "size": 10,
              "solidity": 0.2
             }
            },
            "type": "barpolar"
           }
          ],
          "carpet": [
           {
            "aaxis": {
             "endlinecolor": "#2a3f5f",
             "gridcolor": "white",
             "linecolor": "white",
             "minorgridcolor": "white",
             "startlinecolor": "#2a3f5f"
            },
            "baxis": {
             "endlinecolor": "#2a3f5f",
             "gridcolor": "white",
             "linecolor": "white",
             "minorgridcolor": "white",
             "startlinecolor": "#2a3f5f"
            },
            "type": "carpet"
           }
          ],
          "choropleth": [
           {
            "colorbar": {
             "outlinewidth": 0,
             "ticks": ""
            },
            "type": "choropleth"
           }
          ],
          "contour": [
           {
            "colorbar": {
             "outlinewidth": 0,
             "ticks": ""
            },
            "colorscale": [
             [
              0,
              "#0d0887"
             ],
             [
              0.1111111111111111,
              "#46039f"
             ],
             [
              0.2222222222222222,
              "#7201a8"
             ],
             [
              0.3333333333333333,
              "#9c179e"
             ],
             [
              0.4444444444444444,
              "#bd3786"
             ],
             [
              0.5555555555555556,
              "#d8576b"
             ],
             [
              0.6666666666666666,
              "#ed7953"
             ],
             [
              0.7777777777777778,
              "#fb9f3a"
             ],
             [
              0.8888888888888888,
              "#fdca26"
             ],
             [
              1,
              "#f0f921"
             ]
            ],
            "type": "contour"
           }
          ],
          "contourcarpet": [
           {
            "colorbar": {
             "outlinewidth": 0,
             "ticks": ""
            },
            "type": "contourcarpet"
           }
          ],
          "heatmap": [
           {
            "colorbar": {
             "outlinewidth": 0,
             "ticks": ""
            },
            "colorscale": [
             [
              0,
              "#0d0887"
             ],
             [
              0.1111111111111111,
              "#46039f"
             ],
             [
              0.2222222222222222,
              "#7201a8"
             ],
             [
              0.3333333333333333,
              "#9c179e"
             ],
             [
              0.4444444444444444,
              "#bd3786"
             ],
             [
              0.5555555555555556,
              "#d8576b"
             ],
             [
              0.6666666666666666,
              "#ed7953"
             ],
             [
              0.7777777777777778,
              "#fb9f3a"
             ],
             [
              0.8888888888888888,
              "#fdca26"
             ],
             [
              1,
              "#f0f921"
             ]
            ],
            "type": "heatmap"
           }
          ],
          "heatmapgl": [
           {
            "colorbar": {
             "outlinewidth": 0,
             "ticks": ""
            },
            "colorscale": [
             [
              0,
              "#0d0887"
             ],
             [
              0.1111111111111111,
              "#46039f"
             ],
             [
              0.2222222222222222,
              "#7201a8"
             ],
             [
              0.3333333333333333,
              "#9c179e"
             ],
             [
              0.4444444444444444,
              "#bd3786"
             ],
             [
              0.5555555555555556,
              "#d8576b"
             ],
             [
              0.6666666666666666,
              "#ed7953"
             ],
             [
              0.7777777777777778,
              "#fb9f3a"
             ],
             [
              0.8888888888888888,
              "#fdca26"
             ],
             [
              1,
              "#f0f921"
             ]
            ],
            "type": "heatmapgl"
           }
          ],
          "histogram": [
           {
            "marker": {
             "pattern": {
              "fillmode": "overlay",
              "size": 10,
              "solidity": 0.2
             }
            },
            "type": "histogram"
           }
          ],
          "histogram2d": [
           {
            "colorbar": {
             "outlinewidth": 0,
             "ticks": ""
            },
            "colorscale": [
             [
              0,
              "#0d0887"
             ],
             [
              0.1111111111111111,
              "#46039f"
             ],
             [
              0.2222222222222222,
              "#7201a8"
             ],
             [
              0.3333333333333333,
              "#9c179e"
             ],
             [
              0.4444444444444444,
              "#bd3786"
             ],
             [
              0.5555555555555556,
              "#d8576b"
             ],
             [
              0.6666666666666666,
              "#ed7953"
             ],
             [
              0.7777777777777778,
              "#fb9f3a"
             ],
             [
              0.8888888888888888,
              "#fdca26"
             ],
             [
              1,
              "#f0f921"
             ]
            ],
            "type": "histogram2d"
           }
          ],
          "histogram2dcontour": [
           {
            "colorbar": {
             "outlinewidth": 0,
             "ticks": ""
            },
            "colorscale": [
             [
              0,
              "#0d0887"
             ],
             [
              0.1111111111111111,
              "#46039f"
             ],
             [
              0.2222222222222222,
              "#7201a8"
             ],
             [
              0.3333333333333333,
              "#9c179e"
             ],
             [
              0.4444444444444444,
              "#bd3786"
             ],
             [
              0.5555555555555556,
              "#d8576b"
             ],
             [
              0.6666666666666666,
              "#ed7953"
             ],
             [
              0.7777777777777778,
              "#fb9f3a"
             ],
             [
              0.8888888888888888,
              "#fdca26"
             ],
             [
              1,
              "#f0f921"
             ]
            ],
            "type": "histogram2dcontour"
           }
          ],
          "mesh3d": [
           {
            "colorbar": {
             "outlinewidth": 0,
             "ticks": ""
            },
            "type": "mesh3d"
           }
          ],
          "parcoords": [
           {
            "line": {
             "colorbar": {
              "outlinewidth": 0,
              "ticks": ""
             }
            },
            "type": "parcoords"
           }
          ],
          "pie": [
           {
            "automargin": true,
            "type": "pie"
           }
          ],
          "scatter": [
           {
            "fillpattern": {
             "fillmode": "overlay",
             "size": 10,
             "solidity": 0.2
            },
            "type": "scatter"
           }
          ],
          "scatter3d": [
           {
            "line": {
             "colorbar": {
              "outlinewidth": 0,
              "ticks": ""
             }
            },
            "marker": {
             "colorbar": {
              "outlinewidth": 0,
              "ticks": ""
             }
            },
            "type": "scatter3d"
           }
          ],
          "scattercarpet": [
           {
            "marker": {
             "colorbar": {
              "outlinewidth": 0,
              "ticks": ""
             }
            },
            "type": "scattercarpet"
           }
          ],
          "scattergeo": [
           {
            "marker": {
             "colorbar": {
              "outlinewidth": 0,
              "ticks": ""
             }
            },
            "type": "scattergeo"
           }
          ],
          "scattergl": [
           {
            "marker": {
             "colorbar": {
              "outlinewidth": 0,
              "ticks": ""
             }
            },
            "type": "scattergl"
           }
          ],
          "scattermapbox": [
           {
            "marker": {
             "colorbar": {
              "outlinewidth": 0,
              "ticks": ""
             }
            },
            "type": "scattermapbox"
           }
          ],
          "scatterpolar": [
           {
            "marker": {
             "colorbar": {
              "outlinewidth": 0,
              "ticks": ""
             }
            },
            "type": "scatterpolar"
           }
          ],
          "scatterpolargl": [
           {
            "marker": {
             "colorbar": {
              "outlinewidth": 0,
              "ticks": ""
             }
            },
            "type": "scatterpolargl"
           }
          ],
          "scatterternary": [
           {
            "marker": {
             "colorbar": {
              "outlinewidth": 0,
              "ticks": ""
             }
            },
            "type": "scatterternary"
           }
          ],
          "surface": [
           {
            "colorbar": {
             "outlinewidth": 0,
             "ticks": ""
            },
            "colorscale": [
             [
              0,
              "#0d0887"
             ],
             [
              0.1111111111111111,
              "#46039f"
             ],
             [
              0.2222222222222222,
              "#7201a8"
             ],
             [
              0.3333333333333333,
              "#9c179e"
             ],
             [
              0.4444444444444444,
              "#bd3786"
             ],
             [
              0.5555555555555556,
              "#d8576b"
             ],
             [
              0.6666666666666666,
              "#ed7953"
             ],
             [
              0.7777777777777778,
              "#fb9f3a"
             ],
             [
              0.8888888888888888,
              "#fdca26"
             ],
             [
              1,
              "#f0f921"
             ]
            ],
            "type": "surface"
           }
          ],
          "table": [
           {
            "cells": {
             "fill": {
              "color": "#EBF0F8"
             },
             "line": {
              "color": "white"
             }
            },
            "header": {
             "fill": {
              "color": "#C8D4E3"
             },
             "line": {
              "color": "white"
             }
            },
            "type": "table"
           }
          ]
         },
         "layout": {
          "annotationdefaults": {
           "arrowcolor": "#2a3f5f",
           "arrowhead": 0,
           "arrowwidth": 1
          },
          "autotypenumbers": "strict",
          "coloraxis": {
           "colorbar": {
            "outlinewidth": 0,
            "ticks": ""
           }
          },
          "colorscale": {
           "diverging": [
            [
             0,
             "#8e0152"
            ],
            [
             0.1,
             "#c51b7d"
            ],
            [
             0.2,
             "#de77ae"
            ],
            [
             0.3,
             "#f1b6da"
            ],
            [
             0.4,
             "#fde0ef"
            ],
            [
             0.5,
             "#f7f7f7"
            ],
            [
             0.6,
             "#e6f5d0"
            ],
            [
             0.7,
             "#b8e186"
            ],
            [
             0.8,
             "#7fbc41"
            ],
            [
             0.9,
             "#4d9221"
            ],
            [
             1,
             "#276419"
            ]
           ],
           "sequential": [
            [
             0,
             "#0d0887"
            ],
            [
             0.1111111111111111,
             "#46039f"
            ],
            [
             0.2222222222222222,
             "#7201a8"
            ],
            [
             0.3333333333333333,
             "#9c179e"
            ],
            [
             0.4444444444444444,
             "#bd3786"
            ],
            [
             0.5555555555555556,
             "#d8576b"
            ],
            [
             0.6666666666666666,
             "#ed7953"
            ],
            [
             0.7777777777777778,
             "#fb9f3a"
            ],
            [
             0.8888888888888888,
             "#fdca26"
            ],
            [
             1,
             "#f0f921"
            ]
           ],
           "sequentialminus": [
            [
             0,
             "#0d0887"
            ],
            [
             0.1111111111111111,
             "#46039f"
            ],
            [
             0.2222222222222222,
             "#7201a8"
            ],
            [
             0.3333333333333333,
             "#9c179e"
            ],
            [
             0.4444444444444444,
             "#bd3786"
            ],
            [
             0.5555555555555556,
             "#d8576b"
            ],
            [
             0.6666666666666666,
             "#ed7953"
            ],
            [
             0.7777777777777778,
             "#fb9f3a"
            ],
            [
             0.8888888888888888,
             "#fdca26"
            ],
            [
             1,
             "#f0f921"
            ]
           ]
          },
          "colorway": [
           "#636efa",
           "#EF553B",
           "#00cc96",
           "#ab63fa",
           "#FFA15A",
           "#19d3f3",
           "#FF6692",
           "#B6E880",
           "#FF97FF",
           "#FECB52"
          ],
          "font": {
           "color": "#2a3f5f"
          },
          "geo": {
           "bgcolor": "white",
           "lakecolor": "white",
           "landcolor": "#E5ECF6",
           "showlakes": true,
           "showland": true,
           "subunitcolor": "white"
          },
          "hoverlabel": {
           "align": "left"
          },
          "hovermode": "closest",
          "mapbox": {
           "style": "light"
          },
          "paper_bgcolor": "white",
          "plot_bgcolor": "#E5ECF6",
          "polar": {
           "angularaxis": {
            "gridcolor": "white",
            "linecolor": "white",
            "ticks": ""
           },
           "bgcolor": "#E5ECF6",
           "radialaxis": {
            "gridcolor": "white",
            "linecolor": "white",
            "ticks": ""
           }
          },
          "scene": {
           "xaxis": {
            "backgroundcolor": "#E5ECF6",
            "gridcolor": "white",
            "gridwidth": 2,
            "linecolor": "white",
            "showbackground": true,
            "ticks": "",
            "zerolinecolor": "white"
           },
           "yaxis": {
            "backgroundcolor": "#E5ECF6",
            "gridcolor": "white",
            "gridwidth": 2,
            "linecolor": "white",
            "showbackground": true,
            "ticks": "",
            "zerolinecolor": "white"
           },
           "zaxis": {
            "backgroundcolor": "#E5ECF6",
            "gridcolor": "white",
            "gridwidth": 2,
            "linecolor": "white",
            "showbackground": true,
            "ticks": "",
            "zerolinecolor": "white"
           }
          },
          "shapedefaults": {
           "line": {
            "color": "#2a3f5f"
           }
          },
          "ternary": {
           "aaxis": {
            "gridcolor": "white",
            "linecolor": "white",
            "ticks": ""
           },
           "baxis": {
            "gridcolor": "white",
            "linecolor": "white",
            "ticks": ""
           },
           "bgcolor": "#E5ECF6",
           "caxis": {
            "gridcolor": "white",
            "linecolor": "white",
            "ticks": ""
           }
          },
          "title": {
           "x": 0.05
          },
          "xaxis": {
           "automargin": true,
           "gridcolor": "white",
           "linecolor": "white",
           "ticks": "",
           "title": {
            "standoff": 15
           },
           "zerolinecolor": "white",
           "zerolinewidth": 2
          },
          "yaxis": {
           "automargin": true,
           "gridcolor": "white",
           "linecolor": "white",
           "ticks": "",
           "title": {
            "standoff": 15
           },
           "zerolinecolor": "white",
           "zerolinewidth": 2
          }
         }
        },
        "xaxis": {
         "anchor": "y",
         "domain": [
          0,
          1
         ],
         "title": {
          "text": "ATTACK"
         }
        },
        "yaxis": {
         "anchor": "x",
         "domain": [
          0,
          1
         ],
         "title": {
          "text": "DEFENSE"
         }
        }
       }
      }
     },
     "metadata": {},
     "output_type": "display_data"
    }
   ],
   "source": [
    "fig = px.scatter(df, x=\"ATTACK\", y=\"DEFENSE\", color=\"IS_LEGENDARY\",\n",
    "                 size='HP', hover_data=['IS_LEGENDARY','NAME'])\n",
    "fig.show()"
   ]
  },
  {
   "cell_type": "code",
   "execution_count": 35,
   "metadata": {},
   "outputs": [
    {
     "data": {
      "application/vnd.plotly.v1+json": {
       "config": {
        "plotlyServerURL": "https://plot.ly"
       },
       "data": [
        {
         "alignmentgroup": "True",
         "bingroup": "x",
         "histfunc": "sum",
         "hovertemplate": "IS_LEGENDARY=0<br>ATTACK=%{x}<br>sum of DEFENSE=%{y}<extra></extra>",
         "legendgroup": "0",
         "marker": {
          "color": "#636efa",
          "pattern": {
           "shape": ""
          }
         },
         "name": "0",
         "offsetgroup": "0",
         "orientation": "v",
         "showlegend": true,
         "type": "histogram",
         "x": [
          49,
          62,
          100,
          52,
          64,
          104,
          48,
          63,
          103,
          30,
          20,
          45,
          35,
          25,
          150,
          45,
          60,
          80,
          56,
          71,
          60,
          90,
          60,
          95,
          55,
          85,
          75,
          100,
          47,
          62,
          92,
          57,
          72,
          102,
          45,
          70,
          41,
          67,
          45,
          70,
          45,
          80,
          50,
          65,
          80,
          70,
          95,
          55,
          65,
          55,
          100,
          35,
          60,
          52,
          82,
          80,
          105,
          70,
          110,
          50,
          65,
          95,
          20,
          35,
          50,
          80,
          100,
          130,
          75,
          90,
          105,
          40,
          70,
          80,
          95,
          120,
          85,
          100,
          65,
          75,
          35,
          60,
          90,
          85,
          110,
          45,
          70,
          80,
          105,
          65,
          95,
          35,
          50,
          65,
          45,
          48,
          73,
          105,
          130,
          30,
          50,
          40,
          105,
          50,
          80,
          120,
          105,
          55,
          65,
          90,
          85,
          130,
          5,
          55,
          125,
          40,
          65,
          67,
          92,
          45,
          75,
          45,
          110,
          50,
          83,
          95,
          155,
          100,
          10,
          155,
          85,
          48,
          55,
          65,
          65,
          130,
          60,
          40,
          60,
          80,
          115,
          135,
          110,
          64,
          84,
          134,
          49,
          62,
          82,
          52,
          64,
          84,
          65,
          80,
          105,
          46,
          76,
          30,
          50,
          20,
          35,
          60,
          90,
          90,
          38,
          58,
          40,
          25,
          30,
          20,
          40,
          50,
          75,
          40,
          55,
          95,
          80,
          20,
          50,
          100,
          75,
          35,
          45,
          55,
          70,
          30,
          75,
          65,
          45,
          85,
          65,
          65,
          85,
          75,
          60,
          72,
          33,
          80,
          65,
          90,
          70,
          75,
          125,
          80,
          120,
          95,
          150,
          10,
          185,
          95,
          80,
          130,
          40,
          50,
          50,
          100,
          55,
          65,
          105,
          55,
          40,
          80,
          60,
          90,
          95,
          60,
          120,
          80,
          95,
          20,
          35,
          95,
          30,
          63,
          75,
          80,
          10,
          64,
          84,
          164,
          45,
          65,
          110,
          60,
          85,
          160,
          70,
          85,
          150,
          55,
          90,
          30,
          70,
          45,
          35,
          70,
          35,
          50,
          30,
          50,
          70,
          40,
          70,
          100,
          55,
          85,
          30,
          50,
          25,
          35,
          85,
          30,
          60,
          40,
          130,
          60,
          80,
          160,
          45,
          90,
          90,
          51,
          71,
          91,
          60,
          120,
          20,
          45,
          45,
          65,
          85,
          105,
          70,
          90,
          140,
          40,
          100,
          45,
          75,
          50,
          40,
          73,
          47,
          60,
          43,
          73,
          90,
          140,
          70,
          90,
          60,
          120,
          85,
          25,
          45,
          60,
          100,
          70,
          100,
          85,
          115,
          40,
          110,
          115,
          100,
          55,
          95,
          48,
          78,
          80,
          120,
          40,
          70,
          41,
          81,
          95,
          125,
          15,
          60,
          70,
          90,
          75,
          165,
          40,
          70,
          68,
          50,
          150,
          23,
          50,
          120,
          40,
          60,
          80,
          64,
          104,
          84,
          90,
          30,
          75,
          95,
          145,
          55,
          75,
          145,
          68,
          89,
          109,
          58,
          78,
          104,
          51,
          66,
          86,
          55,
          75,
          120,
          45,
          85,
          25,
          85,
          65,
          85,
          120,
          30,
          70,
          125,
          165,
          42,
          52,
          29,
          69,
          94,
          30,
          80,
          45,
          65,
          105,
          35,
          60,
          48,
          83,
          100,
          50,
          80,
          66,
          136,
          60,
          125,
          55,
          82,
          30,
          63,
          93,
          24,
          89,
          80,
          25,
          5,
          65,
          92,
          70,
          90,
          170,
          85,
          70,
          145,
          72,
          112,
          50,
          90,
          61,
          106,
          100,
          49,
          69,
          20,
          62,
          132,
          120,
          70,
          85,
          140,
          100,
          123,
          95,
          50,
          76,
          110,
          60,
          95,
          130,
          80,
          165,
          55,
          100,
          80,
          65,
          80,
          45,
          60,
          75,
          63,
          93,
          123,
          55,
          75,
          100,
          55,
          85,
          60,
          80,
          110,
          50,
          88,
          53,
          98,
          53,
          98,
          53,
          98,
          25,
          55,
          55,
          77,
          115,
          60,
          100,
          75,
          105,
          135,
          45,
          57,
          85,
          135,
          60,
          80,
          105,
          140,
          50,
          65,
          95,
          100,
          125,
          53,
          63,
          103,
          45,
          55,
          100,
          27,
          67,
          35,
          60,
          92,
          72,
          82,
          117,
          90,
          30,
          86,
          65,
          105,
          75,
          90,
          58,
          30,
          50,
          78,
          108,
          112,
          140,
          50,
          95,
          65,
          105,
          50,
          95,
          30,
          45,
          55,
          30,
          40,
          65,
          44,
          87,
          50,
          65,
          95,
          60,
          100,
          75,
          75,
          135,
          55,
          85,
          40,
          60,
          75,
          47,
          77,
          50,
          94,
          55,
          80,
          100,
          55,
          85,
          115,
          55,
          75,
          30,
          40,
          55,
          87,
          117,
          147,
          70,
          130,
          50,
          40,
          70,
          66,
          85,
          125,
          120,
          74,
          124,
          85,
          125,
          110,
          83,
          123,
          55,
          65,
          97,
          109,
          65,
          85,
          105,
          85,
          60,
          61,
          78,
          107,
          45,
          59,
          69,
          56,
          63,
          145,
          36,
          56,
          50,
          73,
          81,
          35,
          22,
          52,
          50,
          68,
          38,
          65,
          65,
          65,
          100,
          82,
          124,
          80,
          48,
          48,
          80,
          110,
          150,
          52,
          72,
          48,
          80,
          54,
          92,
          52,
          105,
          60,
          75,
          53,
          73,
          38,
          55,
          89,
          121,
          59,
          77,
          65,
          92,
          58,
          50,
          50,
          75,
          100,
          80,
          70,
          110,
          66,
          100,
          69,
          117,
          30,
          70,
          55,
          75,
          107,
          65,
          85,
          115,
          54,
          69,
          74,
          75,
          85,
          120,
          70,
          110,
          62,
          82,
          70,
          82,
          132,
          70,
          45,
          55,
          65,
          115,
          140,
          53,
          63,
          100,
          125,
          40,
          70,
          55,
          105,
          35,
          45,
          44,
          64,
          75,
          125,
          30,
          40,
          120,
          52,
          60,
          120,
          35,
          125,
          55,
          75,
          60,
          95,
          95,
          100,
          115,
          78,
          98,
          90,
          105,
          60,
          131,
          55,
          75,
          110
         ],
         "xaxis": "x",
         "y": [
          49,
          63,
          123,
          43,
          58,
          78,
          65,
          80,
          120,
          35,
          55,
          50,
          30,
          50,
          40,
          40,
          55,
          80,
          35,
          70,
          30,
          65,
          44,
          69,
          40,
          50,
          90,
          120,
          52,
          67,
          87,
          40,
          57,
          77,
          48,
          73,
          40,
          75,
          20,
          45,
          35,
          70,
          55,
          70,
          85,
          55,
          80,
          50,
          60,
          30,
          60,
          35,
          60,
          48,
          78,
          35,
          60,
          45,
          80,
          40,
          65,
          95,
          15,
          30,
          65,
          50,
          70,
          80,
          35,
          50,
          65,
          35,
          65,
          100,
          115,
          130,
          55,
          70,
          65,
          180,
          70,
          95,
          55,
          45,
          70,
          55,
          80,
          50,
          75,
          100,
          180,
          30,
          45,
          80,
          160,
          45,
          70,
          90,
          115,
          50,
          70,
          80,
          85,
          95,
          110,
          53,
          79,
          75,
          95,
          120,
          95,
          120,
          5,
          115,
          100,
          70,
          95,
          60,
          65,
          55,
          85,
          65,
          80,
          35,
          57,
          57,
          120,
          95,
          55,
          109,
          80,
          48,
          50,
          60,
          60,
          60,
          70,
          100,
          125,
          90,
          105,
          85,
          65,
          45,
          65,
          95,
          65,
          80,
          100,
          43,
          58,
          78,
          64,
          80,
          100,
          34,
          64,
          30,
          50,
          30,
          50,
          40,
          70,
          80,
          38,
          58,
          15,
          28,
          15,
          65,
          85,
          45,
          70,
          40,
          55,
          105,
          95,
          50,
          80,
          115,
          75,
          40,
          50,
          70,
          55,
          30,
          55,
          45,
          45,
          85,
          60,
          110,
          42,
          80,
          60,
          48,
          58,
          65,
          90,
          140,
          70,
          105,
          230,
          50,
          75,
          85,
          140,
          230,
          115,
          55,
          50,
          75,
          40,
          120,
          40,
          80,
          95,
          35,
          75,
          45,
          70,
          140,
          30,
          90,
          95,
          60,
          120,
          90,
          62,
          35,
          35,
          95,
          15,
          37,
          37,
          105,
          10,
          50,
          70,
          150,
          35,
          45,
          75,
          40,
          60,
          80,
          50,
          70,
          110,
          35,
          70,
          41,
          61,
          35,
          55,
          50,
          55,
          70,
          30,
          50,
          70,
          50,
          40,
          60,
          30,
          60,
          30,
          100,
          25,
          35,
          65,
          32,
          62,
          60,
          80,
          60,
          80,
          100,
          90,
          45,
          45,
          23,
          43,
          63,
          30,
          60,
          40,
          135,
          45,
          65,
          125,
          125,
          100,
          140,
          230,
          55,
          85,
          40,
          80,
          40,
          50,
          75,
          75,
          45,
          53,
          83,
          20,
          70,
          35,
          45,
          40,
          100,
          140,
          35,
          65,
          60,
          45,
          50,
          80,
          40,
          60,
          60,
          110,
          60,
          60,
          65,
          85,
          43,
          73,
          65,
          85,
          55,
          105,
          77,
          97,
          50,
          100,
          20,
          79,
          70,
          70,
          35,
          75,
          90,
          130,
          83,
          80,
          60,
          48,
          50,
          80,
          50,
          70,
          90,
          85,
          105,
          105,
          130,
          55,
          60,
          100,
          130,
          80,
          100,
          150,
          64,
          85,
          105,
          44,
          52,
          71,
          53,
          68,
          88,
          30,
          50,
          70,
          40,
          60,
          41,
          51,
          34,
          49,
          79,
          35,
          65,
          40,
          60,
          118,
          168,
          45,
          95,
          50,
          42,
          102,
          70,
          35,
          55,
          45,
          70,
          48,
          68,
          66,
          34,
          44,
          44,
          94,
          60,
          52,
          42,
          64,
          50,
          47,
          67,
          86,
          116,
          95,
          45,
          5,
          45,
          108,
          45,
          65,
          115,
          40,
          40,
          88,
          78,
          118,
          90,
          110,
          40,
          65,
          72,
          56,
          76,
          50,
          50,
          105,
          65,
          115,
          95,
          130,
          125,
          67,
          67,
          95,
          86,
          130,
          110,
          125,
          80,
          70,
          95,
          145,
          135,
          70,
          107,
          80,
          55,
          75,
          95,
          45,
          55,
          65,
          45,
          60,
          85,
          39,
          69,
          45,
          65,
          90,
          37,
          50,
          48,
          63,
          48,
          63,
          48,
          63,
          45,
          85,
          50,
          62,
          80,
          32,
          63,
          85,
          105,
          130,
          43,
          55,
          40,
          60,
          126,
          55,
          85,
          95,
          40,
          55,
          75,
          85,
          75,
          70,
          90,
          80,
          59,
          99,
          89,
          60,
          85,
          50,
          75,
          65,
          35,
          45,
          80,
          45,
          105,
          67,
          85,
          125,
          70,
          115,
          80,
          85,
          145,
          103,
          133,
          45,
          65,
          62,
          82,
          40,
          60,
          40,
          60,
          50,
          70,
          95,
          40,
          50,
          75,
          50,
          63,
          50,
          65,
          85,
          50,
          70,
          60,
          45,
          105,
          45,
          70,
          50,
          70,
          80,
          50,
          60,
          91,
          131,
          70,
          95,
          115,
          40,
          70,
          80,
          55,
          75,
          55,
          60,
          90,
          60,
          70,
          90,
          40,
          80,
          50,
          85,
          40,
          84,
          50,
          60,
          90,
          50,
          80,
          70,
          100,
          95,
          50,
          75,
          75,
          105,
          66,
          112,
          50,
          70,
          90,
          55,
          65,
          65,
          95,
          122,
          40,
          58,
          72,
          40,
          52,
          67,
          38,
          77,
          43,
          55,
          71,
          40,
          60,
          50,
          58,
          72,
          39,
          67,
          68,
          48,
          62,
          62,
          78,
          60,
          54,
          76,
          100,
          150,
          50,
          60,
          72,
          66,
          86,
          53,
          88,
          67,
          115,
          60,
          90,
          62,
          88,
          33,
          52,
          77,
          119,
          50,
          72,
          65,
          75,
          57,
          150,
          35,
          53,
          70,
          91,
          48,
          76,
          70,
          122,
          85,
          184,
          35,
          80,
          55,
          75,
          75,
          40,
          50,
          90,
          54,
          69,
          74,
          30,
          50,
          75,
          30,
          60,
          45,
          95,
          90,
          57,
          77,
          70,
          40,
          60,
          40,
          75,
          130,
          62,
          152,
          70,
          100,
          52,
          92,
          35,
          90,
          55,
          80,
          40,
          60,
          50,
          80,
          38,
          48,
          98,
          90,
          80,
          90,
          40,
          140,
          80,
          110,
          130,
          95,
          95,
          60,
          65,
          135,
          63,
          80,
          70,
          85,
          100,
          65,
          90,
          125
         ],
         "yaxis": "y"
        },
        {
         "alignmentgroup": "True",
         "hovertemplate": "IS_LEGENDARY=0<br>ATTACK=%{x}<extra></extra>",
         "legendgroup": "0",
         "marker": {
          "color": "#636efa"
         },
         "name": "0",
         "notched": true,
         "offsetgroup": "0",
         "showlegend": false,
         "type": "box",
         "x": [
          49,
          62,
          100,
          52,
          64,
          104,
          48,
          63,
          103,
          30,
          20,
          45,
          35,
          25,
          150,
          45,
          60,
          80,
          56,
          71,
          60,
          90,
          60,
          95,
          55,
          85,
          75,
          100,
          47,
          62,
          92,
          57,
          72,
          102,
          45,
          70,
          41,
          67,
          45,
          70,
          45,
          80,
          50,
          65,
          80,
          70,
          95,
          55,
          65,
          55,
          100,
          35,
          60,
          52,
          82,
          80,
          105,
          70,
          110,
          50,
          65,
          95,
          20,
          35,
          50,
          80,
          100,
          130,
          75,
          90,
          105,
          40,
          70,
          80,
          95,
          120,
          85,
          100,
          65,
          75,
          35,
          60,
          90,
          85,
          110,
          45,
          70,
          80,
          105,
          65,
          95,
          35,
          50,
          65,
          45,
          48,
          73,
          105,
          130,
          30,
          50,
          40,
          105,
          50,
          80,
          120,
          105,
          55,
          65,
          90,
          85,
          130,
          5,
          55,
          125,
          40,
          65,
          67,
          92,
          45,
          75,
          45,
          110,
          50,
          83,
          95,
          155,
          100,
          10,
          155,
          85,
          48,
          55,
          65,
          65,
          130,
          60,
          40,
          60,
          80,
          115,
          135,
          110,
          64,
          84,
          134,
          49,
          62,
          82,
          52,
          64,
          84,
          65,
          80,
          105,
          46,
          76,
          30,
          50,
          20,
          35,
          60,
          90,
          90,
          38,
          58,
          40,
          25,
          30,
          20,
          40,
          50,
          75,
          40,
          55,
          95,
          80,
          20,
          50,
          100,
          75,
          35,
          45,
          55,
          70,
          30,
          75,
          65,
          45,
          85,
          65,
          65,
          85,
          75,
          60,
          72,
          33,
          80,
          65,
          90,
          70,
          75,
          125,
          80,
          120,
          95,
          150,
          10,
          185,
          95,
          80,
          130,
          40,
          50,
          50,
          100,
          55,
          65,
          105,
          55,
          40,
          80,
          60,
          90,
          95,
          60,
          120,
          80,
          95,
          20,
          35,
          95,
          30,
          63,
          75,
          80,
          10,
          64,
          84,
          164,
          45,
          65,
          110,
          60,
          85,
          160,
          70,
          85,
          150,
          55,
          90,
          30,
          70,
          45,
          35,
          70,
          35,
          50,
          30,
          50,
          70,
          40,
          70,
          100,
          55,
          85,
          30,
          50,
          25,
          35,
          85,
          30,
          60,
          40,
          130,
          60,
          80,
          160,
          45,
          90,
          90,
          51,
          71,
          91,
          60,
          120,
          20,
          45,
          45,
          65,
          85,
          105,
          70,
          90,
          140,
          40,
          100,
          45,
          75,
          50,
          40,
          73,
          47,
          60,
          43,
          73,
          90,
          140,
          70,
          90,
          60,
          120,
          85,
          25,
          45,
          60,
          100,
          70,
          100,
          85,
          115,
          40,
          110,
          115,
          100,
          55,
          95,
          48,
          78,
          80,
          120,
          40,
          70,
          41,
          81,
          95,
          125,
          15,
          60,
          70,
          90,
          75,
          165,
          40,
          70,
          68,
          50,
          150,
          23,
          50,
          120,
          40,
          60,
          80,
          64,
          104,
          84,
          90,
          30,
          75,
          95,
          145,
          55,
          75,
          145,
          68,
          89,
          109,
          58,
          78,
          104,
          51,
          66,
          86,
          55,
          75,
          120,
          45,
          85,
          25,
          85,
          65,
          85,
          120,
          30,
          70,
          125,
          165,
          42,
          52,
          29,
          69,
          94,
          30,
          80,
          45,
          65,
          105,
          35,
          60,
          48,
          83,
          100,
          50,
          80,
          66,
          136,
          60,
          125,
          55,
          82,
          30,
          63,
          93,
          24,
          89,
          80,
          25,
          5,
          65,
          92,
          70,
          90,
          170,
          85,
          70,
          145,
          72,
          112,
          50,
          90,
          61,
          106,
          100,
          49,
          69,
          20,
          62,
          132,
          120,
          70,
          85,
          140,
          100,
          123,
          95,
          50,
          76,
          110,
          60,
          95,
          130,
          80,
          165,
          55,
          100,
          80,
          65,
          80,
          45,
          60,
          75,
          63,
          93,
          123,
          55,
          75,
          100,
          55,
          85,
          60,
          80,
          110,
          50,
          88,
          53,
          98,
          53,
          98,
          53,
          98,
          25,
          55,
          55,
          77,
          115,
          60,
          100,
          75,
          105,
          135,
          45,
          57,
          85,
          135,
          60,
          80,
          105,
          140,
          50,
          65,
          95,
          100,
          125,
          53,
          63,
          103,
          45,
          55,
          100,
          27,
          67,
          35,
          60,
          92,
          72,
          82,
          117,
          90,
          30,
          86,
          65,
          105,
          75,
          90,
          58,
          30,
          50,
          78,
          108,
          112,
          140,
          50,
          95,
          65,
          105,
          50,
          95,
          30,
          45,
          55,
          30,
          40,
          65,
          44,
          87,
          50,
          65,
          95,
          60,
          100,
          75,
          75,
          135,
          55,
          85,
          40,
          60,
          75,
          47,
          77,
          50,
          94,
          55,
          80,
          100,
          55,
          85,
          115,
          55,
          75,
          30,
          40,
          55,
          87,
          117,
          147,
          70,
          130,
          50,
          40,
          70,
          66,
          85,
          125,
          120,
          74,
          124,
          85,
          125,
          110,
          83,
          123,
          55,
          65,
          97,
          109,
          65,
          85,
          105,
          85,
          60,
          61,
          78,
          107,
          45,
          59,
          69,
          56,
          63,
          145,
          36,
          56,
          50,
          73,
          81,
          35,
          22,
          52,
          50,
          68,
          38,
          65,
          65,
          65,
          100,
          82,
          124,
          80,
          48,
          48,
          80,
          110,
          150,
          52,
          72,
          48,
          80,
          54,
          92,
          52,
          105,
          60,
          75,
          53,
          73,
          38,
          55,
          89,
          121,
          59,
          77,
          65,
          92,
          58,
          50,
          50,
          75,
          100,
          80,
          70,
          110,
          66,
          100,
          69,
          117,
          30,
          70,
          55,
          75,
          107,
          65,
          85,
          115,
          54,
          69,
          74,
          75,
          85,
          120,
          70,
          110,
          62,
          82,
          70,
          82,
          132,
          70,
          45,
          55,
          65,
          115,
          140,
          53,
          63,
          100,
          125,
          40,
          70,
          55,
          105,
          35,
          45,
          44,
          64,
          75,
          125,
          30,
          40,
          120,
          52,
          60,
          120,
          35,
          125,
          55,
          75,
          60,
          95,
          95,
          100,
          115,
          78,
          98,
          90,
          105,
          60,
          131,
          55,
          75,
          110
         ],
         "xaxis": "x2",
         "yaxis": "y2"
        },
        {
         "alignmentgroup": "True",
         "bingroup": "x",
         "histfunc": "sum",
         "hovertemplate": "IS_LEGENDARY=1<br>ATTACK=%{x}<br>sum of DEFENSE=%{y}<extra></extra>",
         "legendgroup": "1",
         "marker": {
          "color": "#EF553B",
          "pattern": {
           "shape": ""
          }
         },
         "name": "1",
         "offsetgroup": "1",
         "orientation": "v",
         "showlegend": true,
         "type": "histogram",
         "x": [
          85,
          90,
          100,
          150,
          100,
          85,
          115,
          75,
          90,
          130,
          100,
          100,
          50,
          75,
          100,
          130,
          150,
          180,
          180,
          100,
          95,
          75,
          105,
          125,
          120,
          120,
          90,
          160,
          120,
          70,
          100,
          90,
          103,
          120,
          100,
          90,
          129,
          90,
          100,
          105,
          120,
          150,
          145,
          120,
          72,
          128,
          120,
          131,
          131,
          100,
          160,
          160,
          110,
          115,
          85,
          130,
          75,
          29,
          29,
          137,
          113,
          53,
          139,
          137,
          89,
          101,
          181,
          101,
          107,
          95
         ],
         "xaxis": "x",
         "y": [
          100,
          85,
          90,
          70,
          100,
          75,
          85,
          115,
          130,
          90,
          100,
          200,
          100,
          150,
          120,
          100,
          90,
          160,
          100,
          100,
          90,
          130,
          105,
          70,
          120,
          100,
          106,
          110,
          100,
          120,
          100,
          90,
          75,
          120,
          100,
          129,
          90,
          72,
          80,
          70,
          100,
          120,
          90,
          90,
          90,
          90,
          95,
          95,
          95,
          121,
          110,
          60,
          120,
          85,
          75,
          115,
          115,
          31,
          131,
          107,
          89,
          47,
          139,
          37,
          71,
          103,
          131,
          53,
          101,
          115
         ],
         "yaxis": "y"
        },
        {
         "alignmentgroup": "True",
         "hovertemplate": "IS_LEGENDARY=1<br>ATTACK=%{x}<extra></extra>",
         "legendgroup": "1",
         "marker": {
          "color": "#EF553B"
         },
         "name": "1",
         "notched": true,
         "offsetgroup": "1",
         "showlegend": false,
         "type": "box",
         "x": [
          85,
          90,
          100,
          150,
          100,
          85,
          115,
          75,
          90,
          130,
          100,
          100,
          50,
          75,
          100,
          130,
          150,
          180,
          180,
          100,
          95,
          75,
          105,
          125,
          120,
          120,
          90,
          160,
          120,
          70,
          100,
          90,
          103,
          120,
          100,
          90,
          129,
          90,
          100,
          105,
          120,
          150,
          145,
          120,
          72,
          128,
          120,
          131,
          131,
          100,
          160,
          160,
          110,
          115,
          85,
          130,
          75,
          29,
          29,
          137,
          113,
          53,
          139,
          137,
          89,
          101,
          181,
          101,
          107,
          95
         ],
         "xaxis": "x2",
         "yaxis": "y2"
        }
       ],
       "layout": {
        "barmode": "relative",
        "legend": {
         "title": {
          "text": "IS_LEGENDARY"
         },
         "tracegroupgap": 0
        },
        "margin": {
         "t": 60
        },
        "template": {
         "data": {
          "bar": [
           {
            "error_x": {
             "color": "#2a3f5f"
            },
            "error_y": {
             "color": "#2a3f5f"
            },
            "marker": {
             "line": {
              "color": "#E5ECF6",
              "width": 0.5
             },
             "pattern": {
              "fillmode": "overlay",
              "size": 10,
              "solidity": 0.2
             }
            },
            "type": "bar"
           }
          ],
          "barpolar": [
           {
            "marker": {
             "line": {
              "color": "#E5ECF6",
              "width": 0.5
             },
             "pattern": {
              "fillmode": "overlay",
              "size": 10,
              "solidity": 0.2
             }
            },
            "type": "barpolar"
           }
          ],
          "carpet": [
           {
            "aaxis": {
             "endlinecolor": "#2a3f5f",
             "gridcolor": "white",
             "linecolor": "white",
             "minorgridcolor": "white",
             "startlinecolor": "#2a3f5f"
            },
            "baxis": {
             "endlinecolor": "#2a3f5f",
             "gridcolor": "white",
             "linecolor": "white",
             "minorgridcolor": "white",
             "startlinecolor": "#2a3f5f"
            },
            "type": "carpet"
           }
          ],
          "choropleth": [
           {
            "colorbar": {
             "outlinewidth": 0,
             "ticks": ""
            },
            "type": "choropleth"
           }
          ],
          "contour": [
           {
            "colorbar": {
             "outlinewidth": 0,
             "ticks": ""
            },
            "colorscale": [
             [
              0,
              "#0d0887"
             ],
             [
              0.1111111111111111,
              "#46039f"
             ],
             [
              0.2222222222222222,
              "#7201a8"
             ],
             [
              0.3333333333333333,
              "#9c179e"
             ],
             [
              0.4444444444444444,
              "#bd3786"
             ],
             [
              0.5555555555555556,
              "#d8576b"
             ],
             [
              0.6666666666666666,
              "#ed7953"
             ],
             [
              0.7777777777777778,
              "#fb9f3a"
             ],
             [
              0.8888888888888888,
              "#fdca26"
             ],
             [
              1,
              "#f0f921"
             ]
            ],
            "type": "contour"
           }
          ],
          "contourcarpet": [
           {
            "colorbar": {
             "outlinewidth": 0,
             "ticks": ""
            },
            "type": "contourcarpet"
           }
          ],
          "heatmap": [
           {
            "colorbar": {
             "outlinewidth": 0,
             "ticks": ""
            },
            "colorscale": [
             [
              0,
              "#0d0887"
             ],
             [
              0.1111111111111111,
              "#46039f"
             ],
             [
              0.2222222222222222,
              "#7201a8"
             ],
             [
              0.3333333333333333,
              "#9c179e"
             ],
             [
              0.4444444444444444,
              "#bd3786"
             ],
             [
              0.5555555555555556,
              "#d8576b"
             ],
             [
              0.6666666666666666,
              "#ed7953"
             ],
             [
              0.7777777777777778,
              "#fb9f3a"
             ],
             [
              0.8888888888888888,
              "#fdca26"
             ],
             [
              1,
              "#f0f921"
             ]
            ],
            "type": "heatmap"
           }
          ],
          "heatmapgl": [
           {
            "colorbar": {
             "outlinewidth": 0,
             "ticks": ""
            },
            "colorscale": [
             [
              0,
              "#0d0887"
             ],
             [
              0.1111111111111111,
              "#46039f"
             ],
             [
              0.2222222222222222,
              "#7201a8"
             ],
             [
              0.3333333333333333,
              "#9c179e"
             ],
             [
              0.4444444444444444,
              "#bd3786"
             ],
             [
              0.5555555555555556,
              "#d8576b"
             ],
             [
              0.6666666666666666,
              "#ed7953"
             ],
             [
              0.7777777777777778,
              "#fb9f3a"
             ],
             [
              0.8888888888888888,
              "#fdca26"
             ],
             [
              1,
              "#f0f921"
             ]
            ],
            "type": "heatmapgl"
           }
          ],
          "histogram": [
           {
            "marker": {
             "pattern": {
              "fillmode": "overlay",
              "size": 10,
              "solidity": 0.2
             }
            },
            "type": "histogram"
           }
          ],
          "histogram2d": [
           {
            "colorbar": {
             "outlinewidth": 0,
             "ticks": ""
            },
            "colorscale": [
             [
              0,
              "#0d0887"
             ],
             [
              0.1111111111111111,
              "#46039f"
             ],
             [
              0.2222222222222222,
              "#7201a8"
             ],
             [
              0.3333333333333333,
              "#9c179e"
             ],
             [
              0.4444444444444444,
              "#bd3786"
             ],
             [
              0.5555555555555556,
              "#d8576b"
             ],
             [
              0.6666666666666666,
              "#ed7953"
             ],
             [
              0.7777777777777778,
              "#fb9f3a"
             ],
             [
              0.8888888888888888,
              "#fdca26"
             ],
             [
              1,
              "#f0f921"
             ]
            ],
            "type": "histogram2d"
           }
          ],
          "histogram2dcontour": [
           {
            "colorbar": {
             "outlinewidth": 0,
             "ticks": ""
            },
            "colorscale": [
             [
              0,
              "#0d0887"
             ],
             [
              0.1111111111111111,
              "#46039f"
             ],
             [
              0.2222222222222222,
              "#7201a8"
             ],
             [
              0.3333333333333333,
              "#9c179e"
             ],
             [
              0.4444444444444444,
              "#bd3786"
             ],
             [
              0.5555555555555556,
              "#d8576b"
             ],
             [
              0.6666666666666666,
              "#ed7953"
             ],
             [
              0.7777777777777778,
              "#fb9f3a"
             ],
             [
              0.8888888888888888,
              "#fdca26"
             ],
             [
              1,
              "#f0f921"
             ]
            ],
            "type": "histogram2dcontour"
           }
          ],
          "mesh3d": [
           {
            "colorbar": {
             "outlinewidth": 0,
             "ticks": ""
            },
            "type": "mesh3d"
           }
          ],
          "parcoords": [
           {
            "line": {
             "colorbar": {
              "outlinewidth": 0,
              "ticks": ""
             }
            },
            "type": "parcoords"
           }
          ],
          "pie": [
           {
            "automargin": true,
            "type": "pie"
           }
          ],
          "scatter": [
           {
            "fillpattern": {
             "fillmode": "overlay",
             "size": 10,
             "solidity": 0.2
            },
            "type": "scatter"
           }
          ],
          "scatter3d": [
           {
            "line": {
             "colorbar": {
              "outlinewidth": 0,
              "ticks": ""
             }
            },
            "marker": {
             "colorbar": {
              "outlinewidth": 0,
              "ticks": ""
             }
            },
            "type": "scatter3d"
           }
          ],
          "scattercarpet": [
           {
            "marker": {
             "colorbar": {
              "outlinewidth": 0,
              "ticks": ""
             }
            },
            "type": "scattercarpet"
           }
          ],
          "scattergeo": [
           {
            "marker": {
             "colorbar": {
              "outlinewidth": 0,
              "ticks": ""
             }
            },
            "type": "scattergeo"
           }
          ],
          "scattergl": [
           {
            "marker": {
             "colorbar": {
              "outlinewidth": 0,
              "ticks": ""
             }
            },
            "type": "scattergl"
           }
          ],
          "scattermapbox": [
           {
            "marker": {
             "colorbar": {
              "outlinewidth": 0,
              "ticks": ""
             }
            },
            "type": "scattermapbox"
           }
          ],
          "scatterpolar": [
           {
            "marker": {
             "colorbar": {
              "outlinewidth": 0,
              "ticks": ""
             }
            },
            "type": "scatterpolar"
           }
          ],
          "scatterpolargl": [
           {
            "marker": {
             "colorbar": {
              "outlinewidth": 0,
              "ticks": ""
             }
            },
            "type": "scatterpolargl"
           }
          ],
          "scatterternary": [
           {
            "marker": {
             "colorbar": {
              "outlinewidth": 0,
              "ticks": ""
             }
            },
            "type": "scatterternary"
           }
          ],
          "surface": [
           {
            "colorbar": {
             "outlinewidth": 0,
             "ticks": ""
            },
            "colorscale": [
             [
              0,
              "#0d0887"
             ],
             [
              0.1111111111111111,
              "#46039f"
             ],
             [
              0.2222222222222222,
              "#7201a8"
             ],
             [
              0.3333333333333333,
              "#9c179e"
             ],
             [
              0.4444444444444444,
              "#bd3786"
             ],
             [
              0.5555555555555556,
              "#d8576b"
             ],
             [
              0.6666666666666666,
              "#ed7953"
             ],
             [
              0.7777777777777778,
              "#fb9f3a"
             ],
             [
              0.8888888888888888,
              "#fdca26"
             ],
             [
              1,
              "#f0f921"
             ]
            ],
            "type": "surface"
           }
          ],
          "table": [
           {
            "cells": {
             "fill": {
              "color": "#EBF0F8"
             },
             "line": {
              "color": "white"
             }
            },
            "header": {
             "fill": {
              "color": "#C8D4E3"
             },
             "line": {
              "color": "white"
             }
            },
            "type": "table"
           }
          ]
         },
         "layout": {
          "annotationdefaults": {
           "arrowcolor": "#2a3f5f",
           "arrowhead": 0,
           "arrowwidth": 1
          },
          "autotypenumbers": "strict",
          "coloraxis": {
           "colorbar": {
            "outlinewidth": 0,
            "ticks": ""
           }
          },
          "colorscale": {
           "diverging": [
            [
             0,
             "#8e0152"
            ],
            [
             0.1,
             "#c51b7d"
            ],
            [
             0.2,
             "#de77ae"
            ],
            [
             0.3,
             "#f1b6da"
            ],
            [
             0.4,
             "#fde0ef"
            ],
            [
             0.5,
             "#f7f7f7"
            ],
            [
             0.6,
             "#e6f5d0"
            ],
            [
             0.7,
             "#b8e186"
            ],
            [
             0.8,
             "#7fbc41"
            ],
            [
             0.9,
             "#4d9221"
            ],
            [
             1,
             "#276419"
            ]
           ],
           "sequential": [
            [
             0,
             "#0d0887"
            ],
            [
             0.1111111111111111,
             "#46039f"
            ],
            [
             0.2222222222222222,
             "#7201a8"
            ],
            [
             0.3333333333333333,
             "#9c179e"
            ],
            [
             0.4444444444444444,
             "#bd3786"
            ],
            [
             0.5555555555555556,
             "#d8576b"
            ],
            [
             0.6666666666666666,
             "#ed7953"
            ],
            [
             0.7777777777777778,
             "#fb9f3a"
            ],
            [
             0.8888888888888888,
             "#fdca26"
            ],
            [
             1,
             "#f0f921"
            ]
           ],
           "sequentialminus": [
            [
             0,
             "#0d0887"
            ],
            [
             0.1111111111111111,
             "#46039f"
            ],
            [
             0.2222222222222222,
             "#7201a8"
            ],
            [
             0.3333333333333333,
             "#9c179e"
            ],
            [
             0.4444444444444444,
             "#bd3786"
            ],
            [
             0.5555555555555556,
             "#d8576b"
            ],
            [
             0.6666666666666666,
             "#ed7953"
            ],
            [
             0.7777777777777778,
             "#fb9f3a"
            ],
            [
             0.8888888888888888,
             "#fdca26"
            ],
            [
             1,
             "#f0f921"
            ]
           ]
          },
          "colorway": [
           "#636efa",
           "#EF553B",
           "#00cc96",
           "#ab63fa",
           "#FFA15A",
           "#19d3f3",
           "#FF6692",
           "#B6E880",
           "#FF97FF",
           "#FECB52"
          ],
          "font": {
           "color": "#2a3f5f"
          },
          "geo": {
           "bgcolor": "white",
           "lakecolor": "white",
           "landcolor": "#E5ECF6",
           "showlakes": true,
           "showland": true,
           "subunitcolor": "white"
          },
          "hoverlabel": {
           "align": "left"
          },
          "hovermode": "closest",
          "mapbox": {
           "style": "light"
          },
          "paper_bgcolor": "white",
          "plot_bgcolor": "#E5ECF6",
          "polar": {
           "angularaxis": {
            "gridcolor": "white",
            "linecolor": "white",
            "ticks": ""
           },
           "bgcolor": "#E5ECF6",
           "radialaxis": {
            "gridcolor": "white",
            "linecolor": "white",
            "ticks": ""
           }
          },
          "scene": {
           "xaxis": {
            "backgroundcolor": "#E5ECF6",
            "gridcolor": "white",
            "gridwidth": 2,
            "linecolor": "white",
            "showbackground": true,
            "ticks": "",
            "zerolinecolor": "white"
           },
           "yaxis": {
            "backgroundcolor": "#E5ECF6",
            "gridcolor": "white",
            "gridwidth": 2,
            "linecolor": "white",
            "showbackground": true,
            "ticks": "",
            "zerolinecolor": "white"
           },
           "zaxis": {
            "backgroundcolor": "#E5ECF6",
            "gridcolor": "white",
            "gridwidth": 2,
            "linecolor": "white",
            "showbackground": true,
            "ticks": "",
            "zerolinecolor": "white"
           }
          },
          "shapedefaults": {
           "line": {
            "color": "#2a3f5f"
           }
          },
          "ternary": {
           "aaxis": {
            "gridcolor": "white",
            "linecolor": "white",
            "ticks": ""
           },
           "baxis": {
            "gridcolor": "white",
            "linecolor": "white",
            "ticks": ""
           },
           "bgcolor": "#E5ECF6",
           "caxis": {
            "gridcolor": "white",
            "linecolor": "white",
            "ticks": ""
           }
          },
          "title": {
           "x": 0.05
          },
          "xaxis": {
           "automargin": true,
           "gridcolor": "white",
           "linecolor": "white",
           "ticks": "",
           "title": {
            "standoff": 15
           },
           "zerolinecolor": "white",
           "zerolinewidth": 2
          },
          "yaxis": {
           "automargin": true,
           "gridcolor": "white",
           "linecolor": "white",
           "ticks": "",
           "title": {
            "standoff": 15
           },
           "zerolinecolor": "white",
           "zerolinewidth": 2
          }
         }
        },
        "xaxis": {
         "anchor": "y",
         "domain": [
          0,
          1
         ],
         "title": {
          "text": "ATTACK"
         }
        },
        "xaxis2": {
         "anchor": "y2",
         "domain": [
          0,
          1
         ],
         "matches": "x",
         "showgrid": true,
         "showticklabels": false
        },
        "yaxis": {
         "anchor": "x",
         "domain": [
          0,
          0.7326
         ],
         "title": {
          "text": "sum of DEFENSE"
         }
        },
        "yaxis2": {
         "anchor": "x2",
         "domain": [
          0.7426,
          1
         ],
         "matches": "y2",
         "showgrid": false,
         "showline": false,
         "showticklabels": false,
         "ticks": ""
        }
       }
      }
     },
     "metadata": {},
     "output_type": "display_data"
    }
   ],
   "source": [
    "fig = px.histogram(df, x=\"ATTACK\", y=\"DEFENSE\", color=\"IS_LEGENDARY\",marginal=\"box\"\n",
    "                 )\n",
    "fig.show()"
   ]
  }
 ],
 "metadata": {
  "kernelspec": {
   "display_name": "Python 3",
   "language": "python",
   "name": "python3"
  },
  "language_info": {
   "codemirror_mode": {
    "name": "ipython",
    "version": 3
   },
   "file_extension": ".py",
   "mimetype": "text/x-python",
   "name": "python",
   "nbconvert_exporter": "python",
   "pygments_lexer": "ipython3",
   "version": "3.9.2 (default, Feb 28 2021, 17:03:44) \n[GCC 10.2.1 20210110]"
  },
  "orig_nbformat": 4,
  "vscode": {
   "interpreter": {
    "hash": "916dbcbb3f70747c44a77c7bcd40155683ae19c65e1c03b4aa3499c5328201f1"
   }
  }
 },
 "nbformat": 4,
 "nbformat_minor": 2
}
